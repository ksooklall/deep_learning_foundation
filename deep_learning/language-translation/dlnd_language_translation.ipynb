{
 "cells": [
  {
   "cell_type": "markdown",
   "metadata": {
    "collapsed": true
   },
   "source": [
    "# Language Translation\n",
    "In this project, you’re going to take a peek into the realm of neural network machine translation.  You’ll be training a sequence to sequence model on a dataset of English and French sentences that can translate new sentences from English to French.\n",
    "## Get the Data\n",
    "Since translating the whole language of English to French will take lots of time to train, we have provided you with a small portion of the English corpus."
   ]
  },
  {
   "cell_type": "code",
   "execution_count": 1,
   "metadata": {
    "collapsed": true
   },
   "outputs": [],
   "source": [
    "\"\"\"\n",
    "DON'T MODIFY ANYTHING IN THIS CELL\n",
    "\"\"\"\n",
    "import helper\n",
    "import problem_unittests as tests\n",
    "\n",
    "source_path = 'data/small_vocab_en'\n",
    "target_path = 'data/small_vocab_fr'\n",
    "source_text = helper.load_data(source_path)\n",
    "target_text = helper.load_data(target_path)"
   ]
  },
  {
   "cell_type": "markdown",
   "metadata": {},
   "source": [
    "## Explore the Data\n",
    "Play around with view_sentence_range to view different parts of the data."
   ]
  },
  {
   "cell_type": "code",
   "execution_count": 2,
   "metadata": {},
   "outputs": [
    {
     "name": "stdout",
     "output_type": "stream",
     "text": [
      "Dataset Stats\n",
      "Roughly the number of unique words: 227\n",
      "Number of sentences: 137861\n",
      "Average number of words in a sentence: 13.225277634719028\n",
      "\n",
      "English sentences 5 to 10:\n",
      "his favorite fruit is the orange , but my favorite is the grape .\n",
      "paris is relaxing during december , but it is usually chilly in july .\n",
      "new jersey is busy during spring , and it is never hot in march .\n",
      "our least liked fruit is the lemon , but my least liked is the grape .\n",
      "the united states is sometimes busy during january , and it is sometimes warm in november .\n",
      "\n",
      "French sentences 5 to 10:\n",
      "son fruit préféré est l'orange , mais mon préféré est le raisin .\n",
      "paris est relaxant en décembre , mais il est généralement froid en juillet .\n",
      "new jersey est occupé au printemps , et il est jamais chaude en mars .\n",
      "notre fruit est moins aimé le citron , mais mon moins aimé est le raisin .\n",
      "les états-unis est parfois occupé en janvier , et il est parfois chaud en novembre .\n"
     ]
    }
   ],
   "source": [
    "view_sentence_range = (5, 10)\n",
    "\n",
    "\"\"\"\n",
    "DON'T MODIFY ANYTHING IN THIS CELL\n",
    "\"\"\"\n",
    "import numpy as np\n",
    "\n",
    "print('Dataset Stats')\n",
    "print('Roughly the number of unique words: {}'.format(len({word: None for word in source_text.split()})))\n",
    "\n",
    "sentences = source_text.split('\\n')\n",
    "word_counts = [len(sentence.split()) for sentence in sentences]\n",
    "print('Number of sentences: {}'.format(len(sentences)))\n",
    "print('Average number of words in a sentence: {}'.format(np.average(word_counts)))\n",
    "\n",
    "print()\n",
    "print('English sentences {} to {}:'.format(*view_sentence_range))\n",
    "print('\\n'.join(source_text.split('\\n')[view_sentence_range[0]:view_sentence_range[1]]))\n",
    "print()\n",
    "print('French sentences {} to {}:'.format(*view_sentence_range))\n",
    "print('\\n'.join(target_text.split('\\n')[view_sentence_range[0]:view_sentence_range[1]]))"
   ]
  },
  {
   "cell_type": "markdown",
   "metadata": {},
   "source": [
    "## Implement Preprocessing Function\n",
    "### Text to Word Ids\n",
    "As you did with other RNNs, you must turn the text into a number so the computer can understand it. In the function `text_to_ids()`, you'll turn `source_text` and `target_text` from words to ids.  However, you need to add the `<EOS>` word id at the end of `target_text`.  This will help the neural network predict when the sentence should end.\n",
    "\n",
    "You can get the `<EOS>` word id by doing:\n",
    "```python\n",
    "target_vocab_to_int['<EOS>']\n",
    "```\n",
    "You can get other word ids using `source_vocab_to_int` and `target_vocab_to_int`."
   ]
  },
  {
   "cell_type": "code",
   "execution_count": 3,
   "metadata": {},
   "outputs": [
    {
     "name": "stdout",
     "output_type": "stream",
     "text": [
      "Tests Passed\n"
     ]
    }
   ],
   "source": [
    "def text_to_ids(source_text, target_text, source_vocab_to_int, target_vocab_to_int):\n",
    "    \"\"\"\n",
    "    Convert source and target text to proper word ids\n",
    "    :param source_text: String that contains all the source text.\n",
    "    :param target_text: String that contains all the target text.\n",
    "    :param source_vocab_to_int: Dictionary to go from the source words to an id\n",
    "    :param target_vocab_to_int: Dictionary to go from the target words to an id\n",
    "    :return: A tuple of lists (source_id_text, target_id_text)\n",
    "    \"\"\"\n",
    "    source_id_text = [[source_vocab_to_int.get(word, source_vocab_to_int['<UNK>']) for word in sentence.split(' ')] for sentence in source_text.split('\\n')]\n",
    "    target_id_text = [[target_vocab_to_int.get(word, target_vocab_to_int['<UNK>']) for word in sentence.split(' ')] + [target_vocab_to_int['<EOS>']] for sentence in target_text.split('\\n')]\n",
    "    return (source_id_text, target_id_text)\n",
    "\n",
    "\"\"\"\n",
    "DON'T MODIFY ANYTHING IN THIS CELL THAT IS BELOW THIS LINE\n",
    "\"\"\"\n",
    "tests.test_text_to_ids(text_to_ids)"
   ]
  },
  {
   "cell_type": "markdown",
   "metadata": {},
   "source": [
    "### Preprocess all the data and save it\n",
    "Running the code cell below will preprocess all the data and save it to file."
   ]
  },
  {
   "cell_type": "code",
   "execution_count": 4,
   "metadata": {
    "collapsed": true
   },
   "outputs": [],
   "source": [
    "\"\"\"\n",
    "DON'T MODIFY ANYTHING IN THIS CELL\n",
    "\"\"\"\n",
    "helper.preprocess_and_save_data(source_path, target_path, text_to_ids)"
   ]
  },
  {
   "cell_type": "markdown",
   "metadata": {},
   "source": [
    "# Check Point\n",
    "This is your first checkpoint. If you ever decide to come back to this notebook or have to restart the notebook, you can start from here. The preprocessed data has been saved to disk."
   ]
  },
  {
   "cell_type": "code",
   "execution_count": 5,
   "metadata": {
    "collapsed": true
   },
   "outputs": [],
   "source": [
    "\"\"\"\n",
    "DON'T MODIFY ANYTHING IN THIS CELL\n",
    "\"\"\"\n",
    "import numpy as np\n",
    "import helper\n",
    "\n",
    "(source_int_text, target_int_text), (source_vocab_to_int, target_vocab_to_int), _ = helper.load_preprocess()"
   ]
  },
  {
   "cell_type": "markdown",
   "metadata": {},
   "source": [
    "### Check the Version of TensorFlow and Access to GPU\n",
    "This will check to make sure you have the correct version of TensorFlow and access to a GPU"
   ]
  },
  {
   "cell_type": "code",
   "execution_count": 6,
   "metadata": {},
   "outputs": [
    {
     "name": "stdout",
     "output_type": "stream",
     "text": [
      "TensorFlow Version: 1.1.0\n",
      "Default GPU Device: /gpu:0\n"
     ]
    }
   ],
   "source": [
    "\"\"\"\n",
    "DON'T MODIFY ANYTHING IN THIS CELL\n",
    "\"\"\"\n",
    "from distutils.version import LooseVersion\n",
    "import warnings\n",
    "import tensorflow as tf\n",
    "from tensorflow.python.layers.core import Dense\n",
    "\n",
    "# Check TensorFlow Version\n",
    "assert LooseVersion(tf.__version__) >= LooseVersion('1.1'), 'Please use TensorFlow version 1.1 or newer'\n",
    "print('TensorFlow Version: {}'.format(tf.__version__))\n",
    "\n",
    "# Check for a GPU\n",
    "if not tf.test.gpu_device_name():\n",
    "    warnings.warn('No GPU found. Please use a GPU to train your neural network.')\n",
    "else:\n",
    "    print('Default GPU Device: {}'.format(tf.test.gpu_device_name()))"
   ]
  },
  {
   "cell_type": "markdown",
   "metadata": {},
   "source": [
    "## Build the Neural Network\n",
    "You'll build the components necessary to build a Sequence-to-Sequence model by implementing the following functions below:\n",
    "- `model_inputs`\n",
    "- `process_decoder_input`\n",
    "- `encoding_layer`\n",
    "- `decoding_layer_train`\n",
    "- `decoding_layer_infer`\n",
    "- `decoding_layer`\n",
    "- `seq2seq_model`\n",
    "\n",
    "### Input\n",
    "Implement the `model_inputs()` function to create TF Placeholders for the Neural Network. It should create the following placeholders:\n",
    "\n",
    "- Input text placeholder named \"input\" using the TF Placeholder name parameter with rank 2.\n",
    "- Targets placeholder with rank 2.\n",
    "- Learning rate placeholder with rank 0.\n",
    "- Keep probability placeholder named \"keep_prob\" using the TF Placeholder name parameter with rank 0.\n",
    "- Target sequence length placeholder named \"target_sequence_length\" with rank 1\n",
    "- Max target sequence length tensor named \"max_target_len\" getting its value from applying tf.reduce_max on the target_sequence_length placeholder. Rank 0.\n",
    "- Source sequence length placeholder named \"source_sequence_length\" with rank 1\n",
    "\n",
    "Return the placeholders in the following the tuple (input, targets, learning rate, keep probability, target sequence length, max target sequence length, source sequence length)"
   ]
  },
  {
   "cell_type": "code",
   "execution_count": 7,
   "metadata": {},
   "outputs": [
    {
     "name": "stdout",
     "output_type": "stream",
     "text": [
      "Tests Passed\n"
     ]
    }
   ],
   "source": [
    "def model_inputs():\n",
    "    \"\"\"\n",
    "    Create TF Placeholders for input, targets, learning rate, and lengths of source and target sequences.\n",
    "    :return: Tuple (input, targets, learning rate, keep probability, target sequence length,\n",
    "    max target sequence length, source sequence length)\n",
    "    \"\"\"\n",
    "\n",
    "    input_ = tf.placeholder(tf.int32, [None, None], name='input')\n",
    "    targets = tf.placeholder(tf.int32, [None, None], name='target')\n",
    "    learning_rate = tf.placeholder(tf.float32, name='learning_rate')\n",
    "    keep_prob = tf.placeholder(tf.float32, name='keep_prob')\n",
    "    len_source = tf.placeholder(tf.int32, name='source_sequence_length')\n",
    "    len_target = tf.placeholder(tf.int32, [None], name='target_sequence_length')\n",
    "    max_target = tf.reduce_max(len_target, name='max_target_len')\n",
    "    \n",
    "    return (input_, targets, learning_rate, keep_prob, len_target, max_target, len_source)\n",
    "\"\"\"\n",
    "DON'T MODIFY ANYTHING IN THIS CELL THAT IS BELOW THIS LINE\n",
    "\"\"\"\n",
    "tests.test_model_inputs(model_inputs)"
   ]
  },
  {
   "cell_type": "markdown",
   "metadata": {},
   "source": [
    "### Process Decoder Input\n",
    "Implement `process_decoder_input` by removing the last word id from each batch in `target_data` and concat the GO ID to the begining of each batch."
   ]
  },
  {
   "cell_type": "code",
   "execution_count": 8,
   "metadata": {},
   "outputs": [
    {
     "name": "stdout",
     "output_type": "stream",
     "text": [
      "Tests Passed\n"
     ]
    }
   ],
   "source": [
    "def process_decoder_input(target_data, target_vocab_to_int, batch_size):\n",
    "    \"\"\"\n",
    "    Preprocess target data for encoding\n",
    "    :param target_data: Target Placehoder\n",
    "    :param target_vocab_to_int: Dictionary to go from the target words to an id\n",
    "    :param batch_size: Batch Size\n",
    "    :return: Preprocessed target data\n",
    "    \"\"\"\n",
    "    go_id = target_vocab_to_int['<GO>']\n",
    "    last_word = tf.strided_slice(target_data, [0, 0], [batch_size, -1], [1, 1])\n",
    "    preproc_target = tf.concat([tf.fill([batch_size, 1], go_id), last_word], 1)\n",
    "    return preproc_target\n",
    "\n",
    "\"\"\"\n",
    "DON'T MODIFY ANYTHING IN THIS CELL THAT IS BELOW THIS LINE\n",
    "\"\"\"\n",
    "tests.test_process_encoding_input(process_decoder_input)"
   ]
  },
  {
   "cell_type": "markdown",
   "metadata": {},
   "source": [
    "### Encoding\n",
    "Implement `encoding_layer()` to create a Encoder RNN layer:\n",
    " * Embed the encoder input using [`tf.contrib.layers.embed_sequence`](https://www.tensorflow.org/api_docs/python/tf/contrib/layers/embed_sequence)\n",
    " * Construct a [stacked](https://github.com/tensorflow/tensorflow/blob/6947f65a374ebf29e74bb71e36fd82760056d82c/tensorflow/docs_src/tutorials/recurrent.md#stacking-multiple-lstms) [`tf.contrib.rnn.LSTMCell`](https://www.tensorflow.org/api_docs/python/tf/contrib/rnn/LSTMCell) wrapped in a [`tf.contrib.rnn.DropoutWrapper`](https://www.tensorflow.org/api_docs/python/tf/contrib/rnn/DropoutWrapper)\n",
    " * Pass cell and embedded input to [`tf.nn.dynamic_rnn()`](https://www.tensorflow.org/api_docs/python/tf/nn/dynamic_rnn)"
   ]
  },
  {
   "cell_type": "code",
   "execution_count": 9,
   "metadata": {
    "scrolled": false
   },
   "outputs": [
    {
     "name": "stdout",
     "output_type": "stream",
     "text": [
      "Tests Passed\n"
     ]
    }
   ],
   "source": [
    "from imp import reload\n",
    "reload(tests)\n",
    "\n",
    "def encoding_layer(rnn_inputs, rnn_size, num_layers, keep_prob, \n",
    "                   source_sequence_length, source_vocab_size, \n",
    "                   encoding_embedding_size):\n",
    "    \"\"\"\n",
    "    Create encoding layer\n",
    "    :param rnn_inputs: Inputs for the RNN\n",
    "    :param rnn_size: RNN Size\n",
    "    :param num_layers: Number of layers\n",
    "    :param keep_prob: Dropout keep probability\n",
    "    :param source_sequence_length: a list of the lengths of each sequence in the batch\n",
    "    :param source_vocab_size: vocabulary size of source data\n",
    "    :param encoding_embedding_size: embedding size of source data\n",
    "    :return: tuple (RNN output, RNN state)\n",
    "    \"\"\"\n",
    "    \n",
    "    embeded_inputs = tf.contrib.layers.embed_sequence(rnn_inputs, vocab_size=source_vocab_size, embed_dim=encoding_embedding_size)\n",
    "\n",
    "    def rnn_cell():\n",
    "        return tf.contrib.rnn.LSTMCell(num_units=rnn_size, initializer=tf.truncated_normal_initializer(stddev=0.1))\n",
    "        \n",
    "    rnn_stacks = tf.contrib.rnn.DropoutWrapper(rnn_cell(), output_keep_prob=keep_prob)\n",
    "    cell = tf.contrib.rnn.MultiRNNCell([rnn_cell() for _ in range(num_layers)])\n",
    "    rnn_output, rnn_state = tf.nn.dynamic_rnn(cell, embeded_inputs, sequence_length=source_sequence_length, dtype=tf.float32)\n",
    "    return (rnn_output, rnn_state)\n",
    "\n",
    "\"\"\"\n",
    "DON'T MODIFY ANYTHING IN THIS CELL THAT IS BELOW THIS LINE\n",
    "\"\"\"\n",
    "tests.test_encoding_layer(encoding_layer)"
   ]
  },
  {
   "cell_type": "markdown",
   "metadata": {},
   "source": [
    "### Decoding - Training\n",
    "Create a training decoding layer:\n",
    "* Create a [`tf.contrib.seq2seq.TrainingHelper`](https://www.tensorflow.org/api_docs/python/tf/contrib/seq2seq/TrainingHelper) \n",
    "* Create a [`tf.contrib.seq2seq.BasicDecoder`](https://www.tensorflow.org/api_docs/python/tf/contrib/seq2seq/BasicDecoder)\n",
    "* Obtain the decoder outputs from [`tf.contrib.seq2seq.dynamic_decode`](https://www.tensorflow.org/api_docs/python/tf/contrib/seq2seq/dynamic_decode)"
   ]
  },
  {
   "cell_type": "code",
   "execution_count": 10,
   "metadata": {},
   "outputs": [
    {
     "name": "stdout",
     "output_type": "stream",
     "text": [
      "Tests Passed\n"
     ]
    }
   ],
   "source": [
    "def decoding_layer_train(encoder_state, dec_cell, dec_embed_input, \n",
    "                         target_sequence_length, max_summary_length, \n",
    "                         output_layer, keep_prob):\n",
    "    \"\"\"\n",
    "    Create a decoding layer for training\n",
    "    :param encoder_state: Encoder State\n",
    "    :param dec_cell: Decoder RNN Cell\n",
    "    :param dec_embed_input: Decoder embedded input\n",
    "    :param target_sequence_length: The lengths of each sequence in the target batch\n",
    "    :param max_summary_length: The length of the longest sequence in the batch\n",
    "    :param output_layer: Function to apply the output layer\n",
    "    :param keep_prob: Dropout keep probability\n",
    "    :return: BasicDecoderOutput containing training logits and sample_id\n",
    "    \"\"\"\n",
    "    helper = tf.contrib.seq2seq.TrainingHelper(dec_embed_input, target_sequence_length, time_major=False)\n",
    "    decoder = tf.contrib.seq2seq.BasicDecoder(dec_cell, helper, encoder_state, output_layer)\n",
    "    decoder_output = tf.contrib.seq2seq.dynamic_decode(decoder, impute_finished=True, maximum_iterations=max_summary_length)\n",
    "    return decoder_output[0]\n",
    "\"\"\"\n",
    "DON'T MODIFY ANYTHING IN THIS CELL THAT IS BELOW THIS LINE\n",
    "\"\"\"\n",
    "tests.test_decoding_layer_train(decoding_layer_train)"
   ]
  },
  {
   "cell_type": "markdown",
   "metadata": {},
   "source": [
    "### Decoding - Inference\n",
    "Create inference decoder:\n",
    "* Create a [`tf.contrib.seq2seq.GreedyEmbeddingHelper`](https://www.tensorflow.org/api_docs/python/tf/contrib/seq2seq/GreedyEmbeddingHelper)\n",
    "* Create a [`tf.contrib.seq2seq.BasicDecoder`](https://www.tensorflow.org/api_docs/python/tf/contrib/seq2seq/BasicDecoder)\n",
    "* Obtain the decoder outputs from [`tf.contrib.seq2seq.dynamic_decode`](https://www.tensorflow.org/api_docs/python/tf/contrib/seq2seq/dynamic_decode)"
   ]
  },
  {
   "cell_type": "code",
   "execution_count": 11,
   "metadata": {
    "scrolled": true
   },
   "outputs": [
    {
     "name": "stdout",
     "output_type": "stream",
     "text": [
      "Tests Passed\n"
     ]
    }
   ],
   "source": [
    "def decoding_layer_infer(encoder_state, dec_cell, dec_embeddings, start_of_sequence_id,\n",
    "                         end_of_sequence_id, max_target_sequence_length,\n",
    "                         vocab_size, output_layer, batch_size, keep_prob):\n",
    "    \"\"\"\n",
    "    Create a decoding layer for inference\n",
    "    :param encoder_state: Encoder state\n",
    "    :param dec_cell: Decoder RNN Cell\n",
    "    :param dec_embeddings: Decoder embeddings\n",
    "    :param start_of_sequence_id: GO ID\n",
    "    :param end_of_sequence_id: EOS Id\n",
    "    :param max_target_sequence_length: Maximum length of target sequences\n",
    "    :param vocab_size: Size of decoder/target vocabulary\n",
    "    :param decoding_scope: TenorFlow Variable Scope for decoding\n",
    "    :param output_layer: Function to apply the output layer\n",
    "    :param batch_size: Batch size\n",
    "    :param keep_prob: Dropout keep probability\n",
    "    :return: BasicDecoderOutput containing inference logits and sample_id\n",
    "    \"\"\"\n",
    "    start_token = tf.tile(tf.constant([start_of_sequence_id], dtype=tf.int32), [batch_size])   \n",
    "    helper = tf.contrib.seq2seq.GreedyEmbeddingHelper(dec_embeddings, start_token, end_of_sequence_id)\n",
    "    decoder = tf.contrib.seq2seq.BasicDecoder(dec_cell, helper, encoder_state, output_layer)\n",
    "    decoder_output = tf.contrib.seq2seq.dynamic_decode(decoder, impute_finished=True, maximum_iterations=max_target_sequence_length)\n",
    "    return decoder_output[0]\n",
    "\"\"\"\n",
    "DON'T MODIFY ANYTHING IN THIS CELL THAT IS BELOW THIS LINE\n",
    "\"\"\"\n",
    "tests.test_decoding_layer_infer(decoding_layer_infer)"
   ]
  },
  {
   "cell_type": "markdown",
   "metadata": {},
   "source": [
    "### Build the Decoding Layer\n",
    "Implement `decoding_layer()` to create a Decoder RNN layer.\n",
    "\n",
    "* Embed the target sequences\n",
    "* Construct the decoder LSTM cell (just like you constructed the encoder cell above)\n",
    "* Create an output layer to map the outputs of the decoder to the elements of our vocabulary\n",
    "* Use the your `decoding_layer_train(encoder_state, dec_cell, dec_embed_input, target_sequence_length, max_target_sequence_length, output_layer, keep_prob)` function to get the training logits.\n",
    "* Use your `decoding_layer_infer(encoder_state, dec_cell, dec_embeddings, start_of_sequence_id, end_of_sequence_id, max_target_sequence_length, vocab_size, output_layer, batch_size, keep_prob)` function to get the inference logits.\n",
    "\n",
    "Note: You'll need to use [tf.variable_scope](https://www.tensorflow.org/api_docs/python/tf/variable_scope) to share variables between training and inference."
   ]
  },
  {
   "cell_type": "code",
   "execution_count": 12,
   "metadata": {},
   "outputs": [
    {
     "name": "stdout",
     "output_type": "stream",
     "text": [
      "Tests Passed\n"
     ]
    }
   ],
   "source": [
    "def decoding_layer(dec_input, encoder_state,\n",
    "                   target_sequence_length, max_target_sequence_length,\n",
    "                   rnn_size,\n",
    "                   num_layers, target_vocab_to_int, target_vocab_size,\n",
    "                   batch_size, keep_prob, decoding_embedding_size):\n",
    "    \"\"\"\n",
    "    Create decoding layer\n",
    "    :param dec_input: Decoder input\n",
    "    :param encoder_state: Encoder state\n",
    "    :param target_sequence_length: The lengths of each sequence in the target batch\n",
    "    :param max_target_sequence_length: Maximum length of target sequences\n",
    "    :param rnn_size: RNN Size\n",
    "    :param num_layers: Number of layers\n",
    "    :param target_vocab_to_int: Dictionary to go from the target words to an id\n",
    "    :param target_vocab_size: Size of target vocabulary\n",
    "    :param batch_size: The size of the batch\n",
    "    :param keep_prob: Dropout keep probability\n",
    "    :return: Tuple of (Training BasicDecoderOutput, Inference BasicDecoderOutput)\n",
    "    \"\"\"\n",
    "     \n",
    "    dec_embeded_inputs = tf.contrib.layers.embed_sequence(dec_input, target_vocab_size, decoding_embedding_size)\n",
    "    dec_embeddings = tf.Variable(tf.truncated_normal([target_vocab_size, decoding_embedding_size]))\n",
    "    \n",
    "    start_of_sequence_id = target_vocab_to_int['<GO>']\n",
    "    end_of_sequence_id = target_vocab_to_int['<EOS>']\n",
    "    \n",
    "    def rnn_cell():\n",
    "        return tf.contrib.rnn.LSTMCell(num_units=rnn_size, initializer=tf.truncated_normal_initializer(stddev=0.1))\n",
    "        \n",
    "    rnn_stacks = tf.contrib.rnn.DropoutWrapper(rnn_cell(), output_keep_prob=keep_prob)\n",
    "    dec_cell = tf.contrib.rnn.MultiRNNCell([rnn_cell() for _ in range(num_layers)])\n",
    "    dec_rnn_output = Dense(target_vocab_size, kernel_initializer=tf.truncated_normal_initializer(mean=0.0, stddev=0.1))\n",
    "    \n",
    "    with tf.variable_scope('decoding'):\n",
    "        training_bdo = decoding_layer_train(encoder_state, dec_cell, dec_embeded_inputs, target_sequence_length, max_target_sequence_length, dec_rnn_output, keep_prob)\n",
    "    with tf.variable_scope('decoding', reuse=True):\n",
    "        inference_bdo = decoding_layer_infer(encoder_state, dec_cell, dec_embeddings, start_of_sequence_id, end_of_sequence_id, max_target_sequence_length, target_vocab_size, dec_rnn_output, batch_size, keep_prob)\n",
    "    \n",
    "    return (training_bdo, inference_bdo)\n",
    "\n",
    "\"\"\"\n",
    "DON'T MODIFY ANYTHING IN THIS CELL THAT IS BELOW THIS LINE\n",
    "\"\"\"\n",
    "tests.test_decoding_layer(decoding_layer)"
   ]
  },
  {
   "cell_type": "markdown",
   "metadata": {},
   "source": [
    "### Build the Neural Network\n",
    "Apply the functions you implemented above to:\n",
    "\n",
    "- Apply embedding to the input data for the encoder.\n",
    "- Encode the input using your `encoding_layer(rnn_inputs, rnn_size, num_layers, keep_prob,  source_sequence_length, source_vocab_size, encoding_embedding_size)`.\n",
    "- Process target data using your `process_decoder_input(target_data, target_vocab_to_int, batch_size)` function.\n",
    "- Apply embedding to the target data for the decoder.\n",
    "- Decode the encoded input using your `decoding_layer(dec_input, enc_state, target_sequence_length, max_target_sentence_length, rnn_size, num_layers, target_vocab_to_int, target_vocab_size, batch_size, keep_prob, dec_embedding_size)` function."
   ]
  },
  {
   "cell_type": "code",
   "execution_count": 13,
   "metadata": {},
   "outputs": [
    {
     "name": "stdout",
     "output_type": "stream",
     "text": [
      "Tests Passed\n"
     ]
    }
   ],
   "source": [
    "def seq2seq_model(input_data, target_data, keep_prob, batch_size,\n",
    "                  source_sequence_length, target_sequence_length,\n",
    "                  max_target_sentence_length,\n",
    "                  source_vocab_size, target_vocab_size,\n",
    "                  enc_embedding_size, dec_embedding_size,\n",
    "                  rnn_size, num_layers, target_vocab_to_int):\n",
    "    \"\"\"\n",
    "    Build the Sequence-to-Sequence part of the neural network\n",
    "    :param input_data: Input placeholder\n",
    "    :param target_data: Target placeholder\n",
    "    :param keep_prob: Dropout keep probability placeholder\n",
    "    :param batch_size: Batch Size\n",
    "    :param source_sequence_length: Sequence Lengths of source sequences in the batch\n",
    "    :param target_sequence_length: Sequence Lengths of target sequences in the batch\n",
    "    :param source_vocab_size: Source vocabulary size\n",
    "    :param target_vocab_size: Target vocabulary size\n",
    "    :param enc_embedding_size: Decoder embedding size\n",
    "    :param dec_embedding_size: Encoder embedding size\n",
    "    :param rnn_size: RNN Size\n",
    "    :param num_layers: Number of layers\n",
    "    :param target_vocab_to_int: Dictionary to go from the target words to an id\n",
    "    :return: Tuple of (Training BasicDecoderOutput, Inference BasicDecoderOutput)\n",
    "    \"\"\"\n",
    "    ecoder_output, encoder_state = encoding_layer(input_data, rnn_size, num_layers, keep_prob,  \n",
    "                                                  source_sequence_length, source_vocab_size, \n",
    "                                                  enc_embedding_size)\n",
    "    \n",
    "    decoder_input = process_decoder_input(target_data, target_vocab_to_int, batch_size)\n",
    "    \n",
    "    training_bdo, inference_bdo = decoding_layer(decoder_input, encoder_state, target_sequence_length, \n",
    "                                                 max_target_sentence_length, rnn_size, num_layers, \n",
    "                                                 target_vocab_to_int, target_vocab_size, batch_size, \n",
    "                                                 keep_prob, dec_embedding_size)\n",
    "    \n",
    "    return (training_bdo, inference_bdo)\n",
    "\"\"\"\n",
    "DON'T MODIFY ANYTHING IN THIS CELL THAT IS BELOW THIS LINE\n",
    "\"\"\"\n",
    "tests.test_seq2seq_model(seq2seq_model)"
   ]
  },
  {
   "cell_type": "markdown",
   "metadata": {},
   "source": [
    "## Neural Network Training\n",
    "### Hyperparameters\n",
    "Tune the following parameters:\n",
    "\n",
    "- Set `epochs` to the number of epochs.\n",
    "- Set `batch_size` to the batch size.\n",
    "- Set `rnn_size` to the size of the RNNs.\n",
    "- Set `num_layers` to the number of layers.\n",
    "- Set `encoding_embedding_size` to the size of the embedding for the encoder.\n",
    "- Set `decoding_embedding_size` to the size of the embedding for the decoder.\n",
    "- Set `learning_rate` to the learning rate.\n",
    "- Set `keep_probability` to the Dropout keep probability\n",
    "- Set `display_step` to state how many steps between each debug output statement"
   ]
  },
  {
   "cell_type": "code",
   "execution_count": 14,
   "metadata": {
    "collapsed": true
   },
   "outputs": [],
   "source": [
    "# Number of Epochs\n",
    "epochs = 100\n",
    "# Batch Size\n",
    "batch_size = 512\n",
    "# RNN Size\n",
    "rnn_size = 256\n",
    "# Number of Layers\n",
    "num_layers = 1 # GeForce GTX 780 can handle >1 layers\n",
    "# Embedding Size\n",
    "encoding_embedding_size = 256 \n",
    "decoding_embedding_size = 256 \n",
    "# Learning Rate\n",
    "learning_rate = 0.0001\n",
    "# Dropout Keep Probability\n",
    "keep_probability = 0.5\n",
    "display_step = 100"
   ]
  },
  {
   "cell_type": "markdown",
   "metadata": {},
   "source": [
    "### Build the Graph\n",
    "Build the graph using the neural network you implemented."
   ]
  },
  {
   "cell_type": "code",
   "execution_count": 15,
   "metadata": {
    "collapsed": true
   },
   "outputs": [],
   "source": [
    "\"\"\"\n",
    "DON'T MODIFY ANYTHING IN THIS CELL\n",
    "\"\"\"\n",
    "save_path = 'checkpoints/dev'\n",
    "(source_int_text, target_int_text), (source_vocab_to_int, target_vocab_to_int), _ = helper.load_preprocess()\n",
    "max_target_sentence_length = max([len(sentence) for sentence in source_int_text])\n",
    "\n",
    "train_graph = tf.Graph()\n",
    "with train_graph.as_default():\n",
    "    input_data, targets, lr, keep_prob, target_sequence_length, max_target_sequence_length, source_sequence_length = model_inputs()\n",
    "\n",
    "    #sequence_length = tf.placeholder_with_default(max_target_sentence_length, None, name='sequence_length')\n",
    "    input_shape = tf.shape(input_data)\n",
    "\n",
    "    train_logits, inference_logits = seq2seq_model(tf.reverse(input_data, [-1]),\n",
    "                                                   targets,\n",
    "                                                   keep_prob,\n",
    "                                                   batch_size,\n",
    "                                                   source_sequence_length,\n",
    "                                                   target_sequence_length,\n",
    "                                                   max_target_sequence_length,\n",
    "                                                   len(source_vocab_to_int),\n",
    "                                                   len(target_vocab_to_int),\n",
    "                                                   encoding_embedding_size,\n",
    "                                                   decoding_embedding_size,\n",
    "                                                   rnn_size,\n",
    "                                                   num_layers,\n",
    "                                                   target_vocab_to_int)\n",
    "\n",
    "\n",
    "    training_logits = tf.identity(train_logits.rnn_output, name='logits')\n",
    "    inference_logits = tf.identity(inference_logits.sample_id, name='predictions')\n",
    "\n",
    "    masks = tf.sequence_mask(target_sequence_length, max_target_sequence_length, dtype=tf.float32, name='masks')\n",
    "\n",
    "    with tf.name_scope(\"optimization\"):\n",
    "        # Loss function\n",
    "        cost = tf.contrib.seq2seq.sequence_loss(\n",
    "            training_logits,\n",
    "            targets,\n",
    "            masks)\n",
    "\n",
    "        # Optimizer\n",
    "        optimizer = tf.train.AdamOptimizer(lr)\n",
    "\n",
    "        # Gradient Clipping\n",
    "        gradients = optimizer.compute_gradients(cost)\n",
    "        capped_gradients = [(tf.clip_by_value(grad, -1., 1.), var) for grad, var in gradients if grad is not None]\n",
    "        train_op = optimizer.apply_gradients(capped_gradients)\n"
   ]
  },
  {
   "cell_type": "markdown",
   "metadata": {},
   "source": [
    "Batch and pad the source and target sequences"
   ]
  },
  {
   "cell_type": "code",
   "execution_count": 16,
   "metadata": {
    "collapsed": true
   },
   "outputs": [],
   "source": [
    "\"\"\"\n",
    "DON'T MODIFY ANYTHING IN THIS CELL\n",
    "\"\"\"\n",
    "def pad_sentence_batch(sentence_batch, pad_int):\n",
    "    \"\"\"Pad sentences with <PAD> so that each sentence of a batch has the same length\"\"\"\n",
    "    max_sentence = max([len(sentence) for sentence in sentence_batch])\n",
    "    return [sentence + [pad_int] * (max_sentence - len(sentence)) for sentence in sentence_batch]\n",
    "\n",
    "\n",
    "def get_batches(sources, targets, batch_size, source_pad_int, target_pad_int):\n",
    "    \"\"\"Batch targets, sources, and the lengths of their sentences together\"\"\"\n",
    "    for batch_i in range(0, len(sources)//batch_size):\n",
    "        start_i = batch_i * batch_size\n",
    "\n",
    "        # Slice the right amount for the batch\n",
    "        sources_batch = sources[start_i:start_i + batch_size]\n",
    "        targets_batch = targets[start_i:start_i + batch_size]\n",
    "\n",
    "        # Pad\n",
    "        pad_sources_batch = np.array(pad_sentence_batch(sources_batch, source_pad_int))\n",
    "        pad_targets_batch = np.array(pad_sentence_batch(targets_batch, target_pad_int))\n",
    "\n",
    "        # Need the lengths for the _lengths parameters\n",
    "        pad_targets_lengths = []\n",
    "        for target in pad_targets_batch:\n",
    "            pad_targets_lengths.append(len(target))\n",
    "\n",
    "        pad_source_lengths = []\n",
    "        for source in pad_sources_batch:\n",
    "            pad_source_lengths.append(len(source))\n",
    "\n",
    "        yield pad_sources_batch, pad_targets_batch, pad_source_lengths, pad_targets_lengths\n"
   ]
  },
  {
   "cell_type": "markdown",
   "metadata": {},
   "source": [
    "### Train\n",
    "Train the neural network on the preprocessed data. If you have a hard time getting a good loss, check the forms to see if anyone is having the same problem."
   ]
  },
  {
   "cell_type": "code",
   "execution_count": 17,
   "metadata": {
    "scrolled": true
   },
   "outputs": [
    {
     "name": "stdout",
     "output_type": "stream",
     "text": [
      "Epoch   0 Batch  100/269 - Train Accuracy: 0.1169, Validation Accuracy: 0.1047, Loss: 2.8639\n",
      "Epoch   0 Batch  200/269 - Train Accuracy: 0.2044, Validation Accuracy: 0.2171, Loss: 2.4159\n",
      "Epoch   1 Batch  100/269 - Train Accuracy: 0.2412, Validation Accuracy: 0.2330, Loss: 1.7858\n",
      "Epoch   1 Batch  200/269 - Train Accuracy: 0.2099, Validation Accuracy: 0.2261, Loss: 1.6764\n",
      "Epoch   2 Batch  100/269 - Train Accuracy: 0.2320, Validation Accuracy: 0.2276, Loss: 1.3172\n",
      "Epoch   2 Batch  200/269 - Train Accuracy: 0.1910, Validation Accuracy: 0.2054, Loss: 1.2552\n",
      "Epoch   3 Batch  100/269 - Train Accuracy: 0.2082, Validation Accuracy: 0.2236, Loss: 1.0058\n",
      "Epoch   3 Batch  200/269 - Train Accuracy: 0.1612, Validation Accuracy: 0.1938, Loss: 0.9638\n",
      "Epoch   4 Batch  100/269 - Train Accuracy: 0.1510, Validation Accuracy: 0.1578, Loss: 0.7876\n",
      "Epoch   4 Batch  200/269 - Train Accuracy: 0.1314, Validation Accuracy: 0.1501, Loss: 0.7593\n",
      "Epoch   5 Batch  100/269 - Train Accuracy: 0.1569, Validation Accuracy: 0.1502, Loss: 0.6359\n",
      "Epoch   5 Batch  200/269 - Train Accuracy: 0.1436, Validation Accuracy: 0.1529, Loss: 0.6162\n",
      "Epoch   6 Batch  100/269 - Train Accuracy: 0.1571, Validation Accuracy: 0.1647, Loss: 0.5255\n",
      "Epoch   6 Batch  200/269 - Train Accuracy: 0.1476, Validation Accuracy: 0.1632, Loss: 0.5108\n",
      "Epoch   7 Batch  100/269 - Train Accuracy: 0.1597, Validation Accuracy: 0.1711, Loss: 0.4427\n",
      "Epoch   7 Batch  200/269 - Train Accuracy: 0.1534, Validation Accuracy: 0.1630, Loss: 0.4304\n",
      "Epoch   8 Batch  100/269 - Train Accuracy: 0.1668, Validation Accuracy: 0.1672, Loss: 0.3762\n",
      "Epoch   8 Batch  200/269 - Train Accuracy: 0.1544, Validation Accuracy: 0.1704, Loss: 0.3658\n",
      "Epoch   9 Batch  100/269 - Train Accuracy: 0.1775, Validation Accuracy: 0.1873, Loss: 0.3202\n",
      "Epoch   9 Batch  200/269 - Train Accuracy: 0.1592, Validation Accuracy: 0.1882, Loss: 0.3118\n",
      "Epoch  10 Batch  100/269 - Train Accuracy: 0.1858, Validation Accuracy: 0.1975, Loss: 0.2731\n",
      "Epoch  10 Batch  200/269 - Train Accuracy: 0.1620, Validation Accuracy: 0.1935, Loss: 0.2655\n",
      "Epoch  11 Batch  100/269 - Train Accuracy: 0.1778, Validation Accuracy: 0.1924, Loss: 0.2329\n",
      "Epoch  11 Batch  200/269 - Train Accuracy: 0.1637, Validation Accuracy: 0.1902, Loss: 0.2283\n",
      "Epoch  12 Batch  100/269 - Train Accuracy: 0.1670, Validation Accuracy: 0.1934, Loss: 0.2013\n",
      "Epoch  12 Batch  200/269 - Train Accuracy: 0.1609, Validation Accuracy: 0.1855, Loss: 0.1960\n",
      "Epoch  13 Batch  100/269 - Train Accuracy: 0.1735, Validation Accuracy: 0.1865, Loss: 0.1741\n",
      "Epoch  13 Batch  200/269 - Train Accuracy: 0.1569, Validation Accuracy: 0.1785, Loss: 0.1698\n",
      "Epoch  14 Batch  100/269 - Train Accuracy: 0.1815, Validation Accuracy: 0.1855, Loss: 0.1516\n",
      "Epoch  14 Batch  200/269 - Train Accuracy: 0.1552, Validation Accuracy: 0.1789, Loss: 0.1491\n",
      "Epoch  15 Batch  100/269 - Train Accuracy: 0.1799, Validation Accuracy: 0.1873, Loss: 0.1344\n",
      "Epoch  15 Batch  200/269 - Train Accuracy: 0.1543, Validation Accuracy: 0.1811, Loss: 0.1325\n",
      "Epoch  16 Batch  100/269 - Train Accuracy: 0.1783, Validation Accuracy: 0.1828, Loss: 0.1196\n",
      "Epoch  16 Batch  200/269 - Train Accuracy: 0.1547, Validation Accuracy: 0.1795, Loss: 0.1182\n",
      "Epoch  17 Batch  100/269 - Train Accuracy: 0.1709, Validation Accuracy: 0.1886, Loss: 0.1071\n",
      "Epoch  17 Batch  200/269 - Train Accuracy: 0.1531, Validation Accuracy: 0.1853, Loss: 0.1064\n",
      "Epoch  18 Batch  100/269 - Train Accuracy: 0.1735, Validation Accuracy: 0.1818, Loss: 0.0969\n",
      "Epoch  18 Batch  200/269 - Train Accuracy: 0.1450, Validation Accuracy: 0.1801, Loss: 0.0966\n",
      "Epoch  19 Batch  100/269 - Train Accuracy: 0.1552, Validation Accuracy: 0.1779, Loss: 0.0883\n",
      "Epoch  19 Batch  200/269 - Train Accuracy: 0.1376, Validation Accuracy: 0.1739, Loss: 0.0882\n",
      "Epoch  20 Batch  100/269 - Train Accuracy: 0.1568, Validation Accuracy: 0.1711, Loss: 0.0810\n",
      "Epoch  20 Batch  200/269 - Train Accuracy: 0.1364, Validation Accuracy: 0.1642, Loss: 0.0806\n",
      "Epoch  21 Batch  100/269 - Train Accuracy: 0.1523, Validation Accuracy: 0.1633, Loss: 0.0745\n",
      "Epoch  21 Batch  200/269 - Train Accuracy: 0.1315, Validation Accuracy: 0.1632, Loss: 0.0740\n",
      "Epoch  22 Batch  100/269 - Train Accuracy: 0.1563, Validation Accuracy: 0.1605, Loss: 0.0689\n",
      "Epoch  22 Batch  200/269 - Train Accuracy: 0.1308, Validation Accuracy: 0.1567, Loss: 0.0685\n",
      "Epoch  23 Batch  100/269 - Train Accuracy: 0.1524, Validation Accuracy: 0.1596, Loss: 0.0637\n",
      "Epoch  23 Batch  200/269 - Train Accuracy: 0.1321, Validation Accuracy: 0.1532, Loss: 0.0637\n",
      "Epoch  24 Batch  100/269 - Train Accuracy: 0.1523, Validation Accuracy: 0.1554, Loss: 0.0591\n",
      "Epoch  24 Batch  200/269 - Train Accuracy: 0.1311, Validation Accuracy: 0.1536, Loss: 0.0592\n",
      "Epoch  25 Batch  100/269 - Train Accuracy: 0.1484, Validation Accuracy: 0.1519, Loss: 0.0551\n",
      "Epoch  25 Batch  200/269 - Train Accuracy: 0.1321, Validation Accuracy: 0.1484, Loss: 0.0551\n",
      "Epoch  26 Batch  100/269 - Train Accuracy: 0.1487, Validation Accuracy: 0.1501, Loss: 0.0515\n",
      "Epoch  26 Batch  200/269 - Train Accuracy: 0.1307, Validation Accuracy: 0.1491, Loss: 0.0516\n",
      "Epoch  27 Batch  100/269 - Train Accuracy: 0.1469, Validation Accuracy: 0.1452, Loss: 0.0483\n",
      "Epoch  27 Batch  200/269 - Train Accuracy: 0.1365, Validation Accuracy: 0.1548, Loss: 0.0482\n",
      "Epoch  28 Batch  100/269 - Train Accuracy: 0.1396, Validation Accuracy: 0.1502, Loss: 0.0456\n",
      "Epoch  28 Batch  200/269 - Train Accuracy: 0.1306, Validation Accuracy: 0.1501, Loss: 0.0447\n",
      "Epoch  29 Batch  100/269 - Train Accuracy: 0.1399, Validation Accuracy: 0.1504, Loss: 0.0433\n",
      "Epoch  29 Batch  200/269 - Train Accuracy: 0.1313, Validation Accuracy: 0.1456, Loss: 0.0415\n",
      "Epoch  30 Batch  100/269 - Train Accuracy: 0.1455, Validation Accuracy: 0.1518, Loss: 0.0412\n",
      "Epoch  30 Batch  200/269 - Train Accuracy: 0.1332, Validation Accuracy: 0.1483, Loss: 0.0388\n",
      "Epoch  31 Batch  100/269 - Train Accuracy: 0.1452, Validation Accuracy: 0.1515, Loss: 0.0392\n",
      "Epoch  31 Batch  200/269 - Train Accuracy: 0.1308, Validation Accuracy: 0.1479, Loss: 0.0364\n",
      "Epoch  32 Batch  100/269 - Train Accuracy: 0.1415, Validation Accuracy: 0.1491, Loss: 0.0374\n",
      "Epoch  32 Batch  200/269 - Train Accuracy: 0.1282, Validation Accuracy: 0.1494, Loss: 0.0344\n",
      "Epoch  33 Batch  100/269 - Train Accuracy: 0.1423, Validation Accuracy: 0.1500, Loss: 0.0356\n",
      "Epoch  33 Batch  200/269 - Train Accuracy: 0.1313, Validation Accuracy: 0.1548, Loss: 0.0325\n",
      "Epoch  34 Batch  100/269 - Train Accuracy: 0.1403, Validation Accuracy: 0.1488, Loss: 0.0338\n",
      "Epoch  34 Batch  200/269 - Train Accuracy: 0.1319, Validation Accuracy: 0.1538, Loss: 0.0308\n",
      "Epoch  35 Batch  100/269 - Train Accuracy: 0.1393, Validation Accuracy: 0.1515, Loss: 0.0322\n",
      "Epoch  35 Batch  200/269 - Train Accuracy: 0.1352, Validation Accuracy: 0.1560, Loss: 0.0294\n",
      "Epoch  36 Batch  100/269 - Train Accuracy: 0.1384, Validation Accuracy: 0.1523, Loss: 0.0307\n",
      "Epoch  36 Batch  200/269 - Train Accuracy: 0.1376, Validation Accuracy: 0.1548, Loss: 0.0282\n",
      "Epoch  37 Batch  100/269 - Train Accuracy: 0.1416, Validation Accuracy: 0.1547, Loss: 0.0293\n",
      "Epoch  37 Batch  200/269 - Train Accuracy: 0.1321, Validation Accuracy: 0.1520, Loss: 0.0272\n",
      "Epoch  38 Batch  100/269 - Train Accuracy: 0.1443, Validation Accuracy: 0.1528, Loss: 0.0281\n",
      "Epoch  38 Batch  200/269 - Train Accuracy: 0.1326, Validation Accuracy: 0.1507, Loss: 0.0264\n",
      "Epoch  39 Batch  100/269 - Train Accuracy: 0.1390, Validation Accuracy: 0.1483, Loss: 0.0270\n",
      "Epoch  39 Batch  200/269 - Train Accuracy: 0.1355, Validation Accuracy: 0.1492, Loss: 0.0253\n",
      "Epoch  40 Batch  100/269 - Train Accuracy: 0.1399, Validation Accuracy: 0.1456, Loss: 0.0260\n",
      "Epoch  40 Batch  200/269 - Train Accuracy: 0.1375, Validation Accuracy: 0.1426, Loss: 0.0239\n",
      "Epoch  41 Batch  100/269 - Train Accuracy: 0.1407, Validation Accuracy: 0.1433, Loss: 0.0255\n",
      "Epoch  41 Batch  200/269 - Train Accuracy: 0.1358, Validation Accuracy: 0.1442, Loss: 0.0225\n",
      "Epoch  42 Batch  100/269 - Train Accuracy: 0.1456, Validation Accuracy: 0.1482, Loss: 0.0248\n",
      "Epoch  42 Batch  200/269 - Train Accuracy: 0.1313, Validation Accuracy: 0.1495, Loss: 0.0213\n",
      "Epoch  43 Batch  100/269 - Train Accuracy: 0.1456, Validation Accuracy: 0.1499, Loss: 0.0239\n",
      "Epoch  43 Batch  200/269 - Train Accuracy: 0.1317, Validation Accuracy: 0.1475, Loss: 0.0204\n",
      "Epoch  44 Batch  100/269 - Train Accuracy: 0.1504, Validation Accuracy: 0.1529, Loss: 0.0230\n"
     ]
    },
    {
     "name": "stdout",
     "output_type": "stream",
     "text": [
      "Epoch  44 Batch  200/269 - Train Accuracy: 0.1314, Validation Accuracy: 0.1496, Loss: 0.0197\n",
      "Epoch  45 Batch  100/269 - Train Accuracy: 0.1514, Validation Accuracy: 0.1544, Loss: 0.0224\n",
      "Epoch  45 Batch  200/269 - Train Accuracy: 0.1350, Validation Accuracy: 0.1483, Loss: 0.0192\n",
      "Epoch  46 Batch  100/269 - Train Accuracy: 0.1533, Validation Accuracy: 0.1506, Loss: 0.0223\n",
      "Epoch  46 Batch  200/269 - Train Accuracy: 0.1309, Validation Accuracy: 0.1469, Loss: 0.0188\n",
      "Epoch  47 Batch  100/269 - Train Accuracy: 0.1456, Validation Accuracy: 0.1507, Loss: 0.0214\n",
      "Epoch  47 Batch  200/269 - Train Accuracy: 0.1338, Validation Accuracy: 0.1523, Loss: 0.0180\n",
      "Epoch  48 Batch  100/269 - Train Accuracy: 0.1424, Validation Accuracy: 0.1513, Loss: 0.0203\n",
      "Epoch  48 Batch  200/269 - Train Accuracy: 0.1327, Validation Accuracy: 0.1524, Loss: 0.0169\n",
      "Epoch  49 Batch  100/269 - Train Accuracy: 0.1391, Validation Accuracy: 0.1510, Loss: 0.0195\n",
      "Epoch  49 Batch  200/269 - Train Accuracy: 0.1309, Validation Accuracy: 0.1527, Loss: 0.0162\n",
      "Epoch  50 Batch  100/269 - Train Accuracy: 0.1399, Validation Accuracy: 0.1528, Loss: 0.0188\n",
      "Epoch  50 Batch  200/269 - Train Accuracy: 0.1283, Validation Accuracy: 0.1527, Loss: 0.0155\n",
      "Epoch  51 Batch  100/269 - Train Accuracy: 0.1399, Validation Accuracy: 0.1554, Loss: 0.0182\n",
      "Epoch  51 Batch  200/269 - Train Accuracy: 0.1286, Validation Accuracy: 0.1529, Loss: 0.0149\n",
      "Epoch  52 Batch  100/269 - Train Accuracy: 0.1421, Validation Accuracy: 0.1547, Loss: 0.0176\n",
      "Epoch  52 Batch  200/269 - Train Accuracy: 0.1283, Validation Accuracy: 0.1486, Loss: 0.0143\n",
      "Epoch  53 Batch  100/269 - Train Accuracy: 0.1408, Validation Accuracy: 0.1495, Loss: 0.0170\n",
      "Epoch  53 Batch  200/269 - Train Accuracy: 0.1275, Validation Accuracy: 0.1472, Loss: 0.0139\n",
      "Epoch  54 Batch  100/269 - Train Accuracy: 0.1398, Validation Accuracy: 0.1424, Loss: 0.0165\n",
      "Epoch  54 Batch  200/269 - Train Accuracy: 0.1297, Validation Accuracy: 0.1461, Loss: 0.0135\n",
      "Epoch  55 Batch  100/269 - Train Accuracy: 0.1430, Validation Accuracy: 0.1426, Loss: 0.0161\n",
      "Epoch  55 Batch  200/269 - Train Accuracy: 0.1325, Validation Accuracy: 0.1469, Loss: 0.0132\n",
      "Epoch  56 Batch  100/269 - Train Accuracy: 0.1385, Validation Accuracy: 0.1405, Loss: 0.0155\n",
      "Epoch  56 Batch  200/269 - Train Accuracy: 0.1317, Validation Accuracy: 0.1464, Loss: 0.0130\n",
      "Epoch  57 Batch  100/269 - Train Accuracy: 0.1363, Validation Accuracy: 0.1382, Loss: 0.0150\n",
      "Epoch  57 Batch  200/269 - Train Accuracy: 0.1298, Validation Accuracy: 0.1478, Loss: 0.0128\n",
      "Epoch  58 Batch  100/269 - Train Accuracy: 0.1339, Validation Accuracy: 0.1370, Loss: 0.0144\n",
      "Epoch  58 Batch  200/269 - Train Accuracy: 0.1300, Validation Accuracy: 0.1475, Loss: 0.0125\n",
      "Epoch  59 Batch  100/269 - Train Accuracy: 0.1357, Validation Accuracy: 0.1352, Loss: 0.0138\n",
      "Epoch  59 Batch  200/269 - Train Accuracy: 0.1271, Validation Accuracy: 0.1500, Loss: 0.0121\n",
      "Epoch  60 Batch  100/269 - Train Accuracy: 0.1376, Validation Accuracy: 0.1389, Loss: 0.0132\n",
      "Epoch  60 Batch  200/269 - Train Accuracy: 0.1229, Validation Accuracy: 0.1487, Loss: 0.0117\n",
      "Epoch  61 Batch  100/269 - Train Accuracy: 0.1302, Validation Accuracy: 0.1403, Loss: 0.0128\n",
      "Epoch  61 Batch  200/269 - Train Accuracy: 0.1258, Validation Accuracy: 0.1483, Loss: 0.0112\n",
      "Epoch  62 Batch  100/269 - Train Accuracy: 0.1298, Validation Accuracy: 0.1437, Loss: 0.0125\n",
      "Epoch  62 Batch  200/269 - Train Accuracy: 0.1270, Validation Accuracy: 0.1488, Loss: 0.0109\n",
      "Epoch  63 Batch  100/269 - Train Accuracy: 0.1301, Validation Accuracy: 0.1481, Loss: 0.0122\n",
      "Epoch  63 Batch  200/269 - Train Accuracy: 0.1269, Validation Accuracy: 0.1419, Loss: 0.0107\n",
      "Epoch  64 Batch  100/269 - Train Accuracy: 0.1329, Validation Accuracy: 0.1454, Loss: 0.0120\n",
      "Epoch  64 Batch  200/269 - Train Accuracy: 0.1307, Validation Accuracy: 0.1435, Loss: 0.0105\n",
      "Epoch  65 Batch  100/269 - Train Accuracy: 0.1315, Validation Accuracy: 0.1424, Loss: 0.0118\n",
      "Epoch  65 Batch  200/269 - Train Accuracy: 0.1299, Validation Accuracy: 0.1394, Loss: 0.0103\n",
      "Epoch  66 Batch  100/269 - Train Accuracy: 0.1335, Validation Accuracy: 0.1388, Loss: 0.0116\n",
      "Epoch  66 Batch  200/269 - Train Accuracy: 0.1210, Validation Accuracy: 0.1388, Loss: 0.0101\n",
      "Epoch  67 Batch  100/269 - Train Accuracy: 0.1339, Validation Accuracy: 0.1396, Loss: 0.0112\n",
      "Epoch  67 Batch  200/269 - Train Accuracy: 0.1221, Validation Accuracy: 0.1395, Loss: 0.0099\n",
      "Epoch  68 Batch  100/269 - Train Accuracy: 0.1356, Validation Accuracy: 0.1360, Loss: 0.0109\n",
      "Epoch  68 Batch  200/269 - Train Accuracy: 0.1233, Validation Accuracy: 0.1393, Loss: 0.0097\n",
      "Epoch  69 Batch  100/269 - Train Accuracy: 0.1341, Validation Accuracy: 0.1342, Loss: 0.0107\n",
      "Epoch  69 Batch  200/269 - Train Accuracy: 0.1218, Validation Accuracy: 0.1352, Loss: 0.0095\n",
      "Epoch  70 Batch  100/269 - Train Accuracy: 0.1346, Validation Accuracy: 0.1343, Loss: 0.0104\n",
      "Epoch  70 Batch  200/269 - Train Accuracy: 0.1187, Validation Accuracy: 0.1375, Loss: 0.0093\n",
      "Epoch  71 Batch  100/269 - Train Accuracy: 0.1363, Validation Accuracy: 0.1298, Loss: 0.0103\n",
      "Epoch  71 Batch  200/269 - Train Accuracy: 0.1166, Validation Accuracy: 0.1312, Loss: 0.0091\n",
      "Epoch  72 Batch  100/269 - Train Accuracy: 0.1369, Validation Accuracy: 0.1287, Loss: 0.0101\n",
      "Epoch  72 Batch  200/269 - Train Accuracy: 0.1186, Validation Accuracy: 0.1322, Loss: 0.0090\n",
      "Epoch  73 Batch  100/269 - Train Accuracy: 0.1350, Validation Accuracy: 0.1274, Loss: 0.0100\n",
      "Epoch  73 Batch  200/269 - Train Accuracy: 0.1160, Validation Accuracy: 0.1340, Loss: 0.0089\n",
      "Epoch  74 Batch  100/269 - Train Accuracy: 0.1330, Validation Accuracy: 0.1252, Loss: 0.0099\n",
      "Epoch  74 Batch  200/269 - Train Accuracy: 0.1168, Validation Accuracy: 0.1322, Loss: 0.0087\n",
      "Epoch  75 Batch  100/269 - Train Accuracy: 0.1297, Validation Accuracy: 0.1256, Loss: 0.0097\n",
      "Epoch  75 Batch  200/269 - Train Accuracy: 0.1141, Validation Accuracy: 0.1315, Loss: 0.0086\n",
      "Epoch  76 Batch  100/269 - Train Accuracy: 0.1333, Validation Accuracy: 0.1252, Loss: 0.0093\n",
      "Epoch  76 Batch  200/269 - Train Accuracy: 0.1116, Validation Accuracy: 0.1348, Loss: 0.0084\n",
      "Epoch  77 Batch  100/269 - Train Accuracy: 0.1327, Validation Accuracy: 0.1211, Loss: 0.0090\n",
      "Epoch  77 Batch  200/269 - Train Accuracy: 0.1114, Validation Accuracy: 0.1269, Loss: 0.0083\n",
      "Epoch  78 Batch  100/269 - Train Accuracy: 0.1260, Validation Accuracy: 0.1200, Loss: 0.0087\n",
      "Epoch  78 Batch  200/269 - Train Accuracy: 0.1199, Validation Accuracy: 0.1296, Loss: 0.0085\n",
      "Epoch  79 Batch  100/269 - Train Accuracy: 0.1299, Validation Accuracy: 0.1238, Loss: 0.0086\n",
      "Epoch  79 Batch  200/269 - Train Accuracy: 0.1185, Validation Accuracy: 0.1286, Loss: 0.0083\n",
      "Epoch  80 Batch  100/269 - Train Accuracy: 0.1257, Validation Accuracy: 0.1270, Loss: 0.0085\n",
      "Epoch  80 Batch  200/269 - Train Accuracy: 0.1167, Validation Accuracy: 0.1297, Loss: 0.0077\n",
      "Epoch  81 Batch  100/269 - Train Accuracy: 0.1279, Validation Accuracy: 0.1294, Loss: 0.0083\n",
      "Epoch  81 Batch  200/269 - Train Accuracy: 0.1191, Validation Accuracy: 0.1270, Loss: 0.0080\n",
      "Epoch  82 Batch  100/269 - Train Accuracy: 0.1292, Validation Accuracy: 0.1278, Loss: 0.0081\n",
      "Epoch  82 Batch  200/269 - Train Accuracy: 0.1187, Validation Accuracy: 0.1299, Loss: 0.0080\n",
      "Epoch  83 Batch  100/269 - Train Accuracy: 0.1296, Validation Accuracy: 0.1279, Loss: 0.0079\n",
      "Epoch  83 Batch  200/269 - Train Accuracy: 0.1213, Validation Accuracy: 0.1274, Loss: 0.0079\n",
      "Epoch  84 Batch  100/269 - Train Accuracy: 0.1226, Validation Accuracy: 0.1242, Loss: 0.0078\n",
      "Epoch  84 Batch  200/269 - Train Accuracy: 0.1170, Validation Accuracy: 0.1294, Loss: 0.0074\n",
      "Epoch  85 Batch  100/269 - Train Accuracy: 0.1240, Validation Accuracy: 0.1246, Loss: 0.0076\n",
      "Epoch  85 Batch  200/269 - Train Accuracy: 0.1187, Validation Accuracy: 0.1285, Loss: 0.0072\n",
      "Epoch  86 Batch  100/269 - Train Accuracy: 0.1211, Validation Accuracy: 0.1277, Loss: 0.0074\n",
      "Epoch  86 Batch  200/269 - Train Accuracy: 0.1191, Validation Accuracy: 0.1250, Loss: 0.0069\n",
      "Epoch  87 Batch  100/269 - Train Accuracy: 0.1224, Validation Accuracy: 0.1300, Loss: 0.0072\n",
      "Epoch  87 Batch  200/269 - Train Accuracy: 0.1171, Validation Accuracy: 0.1267, Loss: 0.0067\n",
      "Epoch  88 Batch  100/269 - Train Accuracy: 0.1201, Validation Accuracy: 0.1311, Loss: 0.0071\n",
      "Epoch  88 Batch  200/269 - Train Accuracy: 0.1173, Validation Accuracy: 0.1270, Loss: 0.0064\n"
     ]
    },
    {
     "name": "stdout",
     "output_type": "stream",
     "text": [
      "Epoch  89 Batch  100/269 - Train Accuracy: 0.1237, Validation Accuracy: 0.1318, Loss: 0.0069\n",
      "Epoch  89 Batch  200/269 - Train Accuracy: 0.1176, Validation Accuracy: 0.1277, Loss: 0.0062\n",
      "Epoch  90 Batch  100/269 - Train Accuracy: 0.1217, Validation Accuracy: 0.1330, Loss: 0.0068\n",
      "Epoch  90 Batch  200/269 - Train Accuracy: 0.1173, Validation Accuracy: 0.1246, Loss: 0.0061\n",
      "Epoch  91 Batch  100/269 - Train Accuracy: 0.1264, Validation Accuracy: 0.1349, Loss: 0.0067\n",
      "Epoch  91 Batch  200/269 - Train Accuracy: 0.1158, Validation Accuracy: 0.1230, Loss: 0.0060\n",
      "Epoch  92 Batch  100/269 - Train Accuracy: 0.1254, Validation Accuracy: 0.1306, Loss: 0.0066\n",
      "Epoch  92 Batch  200/269 - Train Accuracy: 0.1161, Validation Accuracy: 0.1260, Loss: 0.0059\n",
      "Epoch  93 Batch  100/269 - Train Accuracy: 0.1251, Validation Accuracy: 0.1313, Loss: 0.0065\n",
      "Epoch  93 Batch  200/269 - Train Accuracy: 0.1179, Validation Accuracy: 0.1271, Loss: 0.0058\n",
      "Epoch  94 Batch  100/269 - Train Accuracy: 0.1228, Validation Accuracy: 0.1285, Loss: 0.0064\n",
      "Epoch  94 Batch  200/269 - Train Accuracy: 0.1169, Validation Accuracy: 0.1242, Loss: 0.0057\n",
      "Epoch  95 Batch  100/269 - Train Accuracy: 0.1229, Validation Accuracy: 0.1245, Loss: 0.0063\n",
      "Epoch  95 Batch  200/269 - Train Accuracy: 0.1217, Validation Accuracy: 0.1213, Loss: 0.0054\n",
      "Epoch  96 Batch  100/269 - Train Accuracy: 0.1277, Validation Accuracy: 0.1241, Loss: 0.0062\n",
      "Epoch  96 Batch  200/269 - Train Accuracy: 0.1150, Validation Accuracy: 0.1283, Loss: 0.0055\n",
      "Epoch  97 Batch  100/269 - Train Accuracy: 0.1255, Validation Accuracy: 0.1278, Loss: 0.0062\n",
      "Epoch  97 Batch  200/269 - Train Accuracy: 0.1180, Validation Accuracy: 0.1258, Loss: 0.0052\n",
      "Epoch  98 Batch  100/269 - Train Accuracy: 0.1285, Validation Accuracy: 0.1297, Loss: 0.0062\n",
      "Epoch  98 Batch  200/269 - Train Accuracy: 0.1148, Validation Accuracy: 0.1278, Loss: 0.0053\n",
      "Epoch  99 Batch  100/269 - Train Accuracy: 0.1222, Validation Accuracy: 0.1324, Loss: 0.0068\n",
      "Epoch  99 Batch  200/269 - Train Accuracy: 0.1209, Validation Accuracy: 0.1326, Loss: 0.0051\n",
      "Model Trained and Saved\n"
     ]
    }
   ],
   "source": [
    "\"\"\"\n",
    "DON'T MODIFY ANYTHING IN THIS CELL\n",
    "\"\"\"\n",
    "def get_accuracy(target, logits):\n",
    "    \"\"\"\n",
    "    Calculate accuracy\n",
    "    \"\"\"\n",
    "    max_seq = max(target.shape[1], logits.shape[1])\n",
    "    if max_seq - target.shape[1]:\n",
    "        target = np.pad(\n",
    "            target,\n",
    "            [(0,0),(0,max_seq - target.shape[1])],\n",
    "            'constant')\n",
    "    if max_seq - logits.shape[1]:\n",
    "        logits = np.pad(\n",
    "            logits,\n",
    "            [(0,0),(0,max_seq - logits.shape[1])],\n",
    "            'constant')\n",
    "\n",
    "    return np.mean(np.equal(target, logits))\n",
    "\n",
    "# Split data to training and validation sets\n",
    "train_source = source_int_text[batch_size:]\n",
    "train_target = target_int_text[batch_size:]\n",
    "valid_source = source_int_text[:batch_size]\n",
    "valid_target = target_int_text[:batch_size]\n",
    "(valid_sources_batch, valid_targets_batch, valid_sources_lengths, valid_targets_lengths ) = next(get_batches(valid_source,\n",
    "                                                                                                             valid_target,\n",
    "                                                                                                             batch_size,\n",
    "                                                                                                             source_vocab_to_int['<PAD>'],\n",
    "                                                                                                             target_vocab_to_int['<PAD>']))                                                                                                  \n",
    "with tf.Session(graph=train_graph) as sess:\n",
    "    sess.run(tf.global_variables_initializer())\n",
    "\n",
    "    for epoch_i in range(epochs):\n",
    "        for batch_i, (source_batch, target_batch, sources_lengths, targets_lengths) in enumerate(\n",
    "                get_batches(train_source, train_target, batch_size,\n",
    "                            source_vocab_to_int['<PAD>'],\n",
    "                            target_vocab_to_int['<PAD>'])):\n",
    "\n",
    "            _, loss = sess.run(\n",
    "                [train_op, cost],\n",
    "                {input_data: source_batch,\n",
    "                 targets: target_batch,\n",
    "                 lr: learning_rate,\n",
    "                 target_sequence_length: targets_lengths,\n",
    "                 source_sequence_length: sources_lengths,\n",
    "                 keep_prob: keep_probability})\n",
    "\n",
    "\n",
    "            if batch_i % display_step == 0 and batch_i > 0:\n",
    "\n",
    "\n",
    "                batch_train_logits = sess.run(\n",
    "                    inference_logits,\n",
    "                    {input_data: source_batch,\n",
    "                     source_sequence_length: sources_lengths,\n",
    "                     target_sequence_length: targets_lengths,\n",
    "                     keep_prob: 1.0})\n",
    "\n",
    "\n",
    "                batch_valid_logits = sess.run(\n",
    "                    inference_logits,\n",
    "                    {input_data: valid_sources_batch,\n",
    "                     source_sequence_length: valid_sources_lengths,\n",
    "                     target_sequence_length: valid_targets_lengths,\n",
    "                     keep_prob: 1.0})\n",
    "\n",
    "                train_acc = get_accuracy(target_batch, batch_train_logits)\n",
    "\n",
    "                valid_acc = get_accuracy(valid_targets_batch, batch_valid_logits)\n",
    "\n",
    "                print('Epoch {:>3} Batch {:>4}/{} - Train Accuracy: {:>6.4f}, Validation Accuracy: {:>6.4f}, Loss: {:>6.4f}'\n",
    "                      .format(epoch_i, batch_i, len(source_int_text) // batch_size, train_acc, valid_acc, loss))\n",
    "\n",
    "    # Save Model\n",
    "    saver = tf.train.Saver()\n",
    "    saver.save(sess, save_path)\n",
    "    print('Model Trained and Saved')"
   ]
  },
  {
   "cell_type": "markdown",
   "metadata": {},
   "source": [
    "### Save Parameters\n",
    "Save the `batch_size` and `save_path` parameters for inference."
   ]
  },
  {
   "cell_type": "code",
   "execution_count": 18,
   "metadata": {
    "collapsed": true
   },
   "outputs": [],
   "source": [
    "\"\"\"\n",
    "DON'T MODIFY ANYTHING IN THIS CELL\n",
    "\"\"\"\n",
    "# Save parameters for checkpoint\n",
    "helper.save_params(save_path)"
   ]
  },
  {
   "cell_type": "markdown",
   "metadata": {},
   "source": [
    "# Checkpoint"
   ]
  },
  {
   "cell_type": "code",
   "execution_count": 19,
   "metadata": {
    "collapsed": true
   },
   "outputs": [],
   "source": [
    "\"\"\"\n",
    "DON'T MODIFY ANYTHING IN THIS CELL\n",
    "\"\"\"\n",
    "import tensorflow as tf\n",
    "import numpy as np\n",
    "import helper\n",
    "import problem_unittests as tests\n",
    "\n",
    "_, (source_vocab_to_int, target_vocab_to_int), (source_int_to_vocab, target_int_to_vocab) = helper.load_preprocess()\n",
    "load_path = helper.load_params()"
   ]
  },
  {
   "cell_type": "markdown",
   "metadata": {},
   "source": [
    "## Sentence to Sequence\n",
    "To feed a sentence into the model for translation, you first need to preprocess it.  Implement the function `sentence_to_seq()` to preprocess new sentences.\n",
    "\n",
    "- Convert the sentence to lowercase\n",
    "- Convert words into ids using `vocab_to_int`\n",
    " - Convert words not in the vocabulary, to the `<UNK>` word id."
   ]
  },
  {
   "cell_type": "code",
   "execution_count": 20,
   "metadata": {},
   "outputs": [
    {
     "name": "stdout",
     "output_type": "stream",
     "text": [
      "Tests Passed\n"
     ]
    }
   ],
   "source": [
    "def sentence_to_seq(sentence, vocab_to_int):\n",
    "    \"\"\"\n",
    "    Convert a sentence to a sequence of ids\n",
    "    :param sentence: String\n",
    "    :param vocab_to_int: Dictionary to go from the words to an id\n",
    "    :return: List of word ids\n",
    "    \"\"\"\n",
    "    sentence = sentence.lower().split(' ')\n",
    "    return [vocab_to_int.get(v, vocab_to_int['<UNK>']) for v in sentence]\n",
    "    \n",
    "\"\"\"\n",
    "DON'T MODIFY ANYTHING IN THIS CELL THAT IS BELOW THIS LINE\n",
    "\"\"\"\n",
    "tests.test_sentence_to_seq(sentence_to_seq)"
   ]
  },
  {
   "cell_type": "markdown",
   "metadata": {},
   "source": [
    "## Translate\n",
    "This will translate `translate_sentence` from English to French."
   ]
  },
  {
   "cell_type": "code",
   "execution_count": 21,
   "metadata": {},
   "outputs": [
    {
     "name": "stdout",
     "output_type": "stream",
     "text": [
      "INFO:tensorflow:Restoring parameters from checkpoints/dev\n",
      "Input\n",
      "  Word Ids:      [59, 139, 176, 179, 13, 118, 189]\n",
      "  English Words: ['he', 'saw', 'a', 'old', 'yellow', 'truck', '.']\n",
      "\n",
      "Prediction\n",
      "  Word Ids:      [340, 223, 343, 74, 282, 287, 81, 340, 1]\n",
      "  French Words: . verts est généralement leur mon janvier . <EOS>\n"
     ]
    }
   ],
   "source": [
    "translate_sentence = 'he saw a old yellow truck .'\n",
    "\n",
    "\n",
    "\"\"\"\n",
    "DON'T MODIFY ANYTHING IN THIS CELL\n",
    "\"\"\"\n",
    "translate_sentence = sentence_to_seq(translate_sentence, source_vocab_to_int)\n",
    "\n",
    "loaded_graph = tf.Graph()\n",
    "with tf.Session(graph=loaded_graph) as sess:\n",
    "    # Load saved model\n",
    "    loader = tf.train.import_meta_graph(load_path + '.meta')\n",
    "    loader.restore(sess, load_path)\n",
    "\n",
    "    input_data = loaded_graph.get_tensor_by_name('input:0')\n",
    "    logits = loaded_graph.get_tensor_by_name('predictions:0')\n",
    "    target_sequence_length = loaded_graph.get_tensor_by_name('target_sequence_length:0')\n",
    "    source_sequence_length = loaded_graph.get_tensor_by_name('source_sequence_length:0')\n",
    "    keep_prob = loaded_graph.get_tensor_by_name('keep_prob:0')\n",
    "\n",
    "    translate_logits = sess.run(logits, {input_data: [translate_sentence]*batch_size,\n",
    "                                         target_sequence_length: [len(translate_sentence)*2]*batch_size,\n",
    "                                         source_sequence_length: [len(translate_sentence)]*batch_size,\n",
    "                                         keep_prob: 1.0})[0]\n",
    "\n",
    "print('Input')\n",
    "print('  Word Ids:      {}'.format([i for i in translate_sentence]))\n",
    "print('  English Words: {}'.format([source_int_to_vocab[i] for i in translate_sentence]))\n",
    "\n",
    "print('\\nPrediction')\n",
    "print('  Word Ids:      {}'.format([i for i in translate_logits]))\n",
    "print('  French Words: {}'.format(\" \".join([target_int_to_vocab[i] for i in translate_logits])))\n"
   ]
  },
  {
   "cell_type": "markdown",
   "metadata": {},
   "source": [
    "## Imperfect Translation\n",
    "You might notice that some sentences translate better than others.  Since the dataset you're using only has a vocabulary of 227 English words of the thousands that you use, you're only going to see good results using these words.  For this project, you don't need a perfect translation. However, if you want to create a better translation model, you'll need better data.\n",
    "\n",
    "You can train on the [WMT10 French-English corpus](http://www.statmt.org/wmt10/training-giga-fren.tar).  This dataset has more vocabulary and richer in topics discussed.  However, this will take you days to train, so make sure you've a GPU and the neural network is performing well on dataset we provided.  Just make sure you play with the WMT10 corpus after you've submitted this project.\n",
    "## Submitting This Project\n",
    "When submitting this project, make sure to run all the cells before saving the notebook. Save the notebook file as \"dlnd_language_translation.ipynb\" and save it as a HTML file under \"File\" -> \"Download as\". Include the \"helper.py\" and \"problem_unittests.py\" files in your submission."
   ]
  }
 ],
 "metadata": {
  "anaconda-cloud": {},
  "kernelspec": {
   "display_name": "Python 3",
   "language": "python",
   "name": "python3"
  },
  "language_info": {
   "codemirror_mode": {
    "name": "ipython",
    "version": 3
   },
   "file_extension": ".py",
   "mimetype": "text/x-python",
   "name": "python",
   "nbconvert_exporter": "python",
   "pygments_lexer": "ipython3",
   "version": "3.6.1"
  }
 },
 "nbformat": 4,
 "nbformat_minor": 1
}

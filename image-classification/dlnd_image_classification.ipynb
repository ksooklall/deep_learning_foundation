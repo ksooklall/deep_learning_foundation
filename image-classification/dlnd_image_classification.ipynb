{
 "cells": [
  {
   "cell_type": "markdown",
   "metadata": {
    "collapsed": true
   },
   "source": [
    "# Image Classification\n",
    "In this project, you'll classify images from the [CIFAR-10 dataset](https://www.cs.toronto.edu/~kriz/cifar.html).  The dataset consists of airplanes, dogs, cats, and other objects. You'll preprocess the images, then train a convolutional neural network on all the samples. The images need to be normalized and the labels need to be one-hot encoded.  You'll get to apply what you learned and build a convolutional, max pooling, dropout, and fully connected layers.  At the end, you'll get to see your neural network's predictions on the sample images.\n",
    "## Get the Data\n",
    "Run the following cell to download the [CIFAR-10 dataset for python](https://www.cs.toronto.edu/~kriz/cifar-10-python.tar.gz)."
   ]
  },
  {
   "cell_type": "code",
   "execution_count": 2,
   "metadata": {},
   "execution_count": 1,
   "metadata": {},
   "outputs": [
    {
     "name": "stdout",
     "output_type": "stream",
     "text": [
      "All files found!\n"
     ]
    }
   ],
   "source": [
    "\"\"\"\n",
    "DON'T MODIFY ANYTHING IN THIS CELL THAT IS BELOW THIS LINE\n",
    "\"\"\"\n",
    "from urllib.request import urlretrieve\n",
    "from os.path import isfile, isdir\n",
    "from tqdm import tqdm\n",
    "import problem_unittests as tests\n",
    "import tarfile\n",
    "\n",
    "cifar10_dataset_folder_path = 'cifar-10-batches-py'\n",
    "\n",
    "# Use Floyd's cifar-10 dataset if present\n",
    "floyd_cifar10_location = '/input/cifar-10/python.tar.gz'\n",
    "if isfile(floyd_cifar10_location):\n",
    "    tar_gz_path = floyd_cifar10_location\n",
    "else:\n",
    "    tar_gz_path = 'cifar-10-python.tar.gz'\n",
    "\n",
    "class DLProgress(tqdm):\n",
    "    last_block = 0\n",
    "\n",
    "    def hook(self, block_num=1, block_size=1, total_size=None):\n",
    "        self.total = total_size\n",
    "        self.update((block_num - self.last_block) * block_size)\n",
    "        self.last_block = block_num\n",
    "\n",
    "if not isfile(tar_gz_path):\n",
    "    with DLProgress(unit='B', unit_scale=True, miniters=1, desc='CIFAR-10 Dataset') as pbar:\n",
    "        urlretrieve(\n",
    "            'https://www.cs.toronto.edu/~kriz/cifar-10-python.tar.gz',\n",
    "            tar_gz_path,\n",
    "            pbar.hook)\n",
    "\n",
    "if not isdir(cifar10_dataset_folder_path):\n",
    "    with tarfile.open(tar_gz_path) as tar:\n",
    "        tar.extractall()\n",
    "        tar.close()\n",
    "\n",
    "\n",
    "tests.test_folder_path(cifar10_dataset_folder_path)"
   ]
  },
  {
   "cell_type": "markdown",
   "metadata": {},
   "source": [
    "## Explore the Data\n",
    "The dataset is broken into batches to prevent your machine from running out of memory.  The CIFAR-10 dataset consists of 5 batches, named `data_batch_1`, `data_batch_2`, etc.. Each batch contains the labels and images that are one of the following:\n",
    "* airplane\n",
    "* automobile\n",
    "* bird\n",
    "* cat\n",
    "* deer\n",
    "* dog\n",
    "* frog\n",
    "* horse\n",
    "* ship\n",
    "* truck\n",
    "\n",
    "Understanding a dataset is part of making predictions on the data.  Play around with the code cell below by changing the `batch_id` and `sample_id`. The `batch_id` is the id for a batch (1-5). The `sample_id` is the id for a image and label pair in the batch.\n",
    "\n",
    "Ask yourself \"What are all possible labels?\", \"What is the range of values for the image data?\", \"Are the labels in order or random?\".  Answers to questions like these will help you preprocess the data and end up with better predictions."
   ]
  },
  {
   "cell_type": "code",
   "execution_count": 3,
   "metadata": {},
   "execution_count": 2,
   "metadata": {},
   "outputs": [
    {
     "name": "stdout",
     "output_type": "stream",
     "text": [
      "\n",
      "Stats of batch 3:\n",
      "Samples: 10000\n",
      "Label Counts: {0: 994, 1: 1042, 2: 965, 3: 997, 4: 990, 5: 1029, 6: 978, 7: 1015, 8: 961, 9: 1029}\n",
      "First 20 Labels: [8, 5, 0, 6, 9, 2, 8, 3, 6, 2, 7, 4, 6, 9, 0, 0, 7, 3, 7, 2]\n",
      "\n",
      "Example of Image 42:\n",
      "Image - Min Value: 11 Max Value: 254\n",
      "Image - Shape: (32, 32, 3)\n",
      "Label - Label Id: 1 Name: automobile\n"
     ]
    },
    {
     "data": {
      "image/png": "iVBORw0KGgoAAAANSUhEUgAAAfoAAAH0CAYAAADVH+85AAAABHNCSVQICAgIfAhkiAAAAAlwSFlz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\nih4AClP0AFCYogeAwhQ9ABT2fwAhow/j9dWySgAAAABJRU5ErkJggg==\n",
      "text/plain": [
       "<matplotlib.figure.Figure at 0x29aa9c66f28>"
       "<matplotlib.figure.Figure at 0x19df00d6240>"
      ]
     },
     "metadata": {
      "image/png": {
       "height": 250,
       "width": 253
      }
     },
     "output_type": "display_data"
    }
   ],
   "source": [
    "%matplotlib inline\n",
    "%config InlineBackend.figure_format = 'retina'\n",
    "\n",
    "import helper\n",
    "import numpy as np\n",
    "\n",
    "# Explore the dataset\n",
    "batch_id = 3\n",
    "sample_id = 42\n",
    "helper.display_stats(cifar10_dataset_folder_path, batch_id, sample_id)"
   ]
  },
  {
   "cell_type": "markdown",
   "metadata": {},
   "source": [
    "## Implement Preprocess Functions\n",
    "### Normalize\n",
    "In the cell below, implement the `normalize` function to take in image data, `x`, and return it as a normalized Numpy array. The values should be in the range of 0 to 1, inclusive.  The return object should be the same shape as `x`."
   ]
  },
  {
   "cell_type": "code",
   "execution_count": 5,
   "metadata": {},
   "execution_count": 3,
   "metadata": {},
   "outputs": [
    {
     "name": "stdout",
     "output_type": "stream",
     "text": [
      "Tests Passed\n"
     ]
    }
   ],
   "source": [
    "def normalize(x):\n",
    "    \"\"\"\n",
    "    Normalize a list of sample image data in the range of 0 to 1\n",
    "    : x: List of image data.  The image shape is (32, 32, 3)\n",
    "    : return: Numpy array of normalize data\n",
    "    \"\"\"\n",
    "    # TODO: Implement Function\n",
    "    return (x-np.min(x))/(np.max(x)-np.min(x))\n",
    "\n",
    "\n",
    "\"\"\"\n",
    "DON'T MODIFY ANYTHING IN THIS CELL THAT IS BELOW THIS LINE\n",
    "\"\"\"\n",
    "tests.test_normalize(normalize)"
   ]
  },
  {
   "cell_type": "markdown",
   "metadata": {},
   "source": [
    "### One-hot encode\n",
    "Just like the previous code cell, you'll be implementing a function for preprocessing.  This time, you'll implement the `one_hot_encode` function. The input, `x`, are a list of labels.  Implement the function to return the list of labels as One-Hot encoded Numpy array.  The possible values for labels are 0 to 9. The one-hot encoding function should return the same encoding for each value between each call to `one_hot_encode`.  Make sure to save the map of encodings outside the function.\n",
    "\n",
    "Hint: Don't reinvent the wheel."
   ]
  },
  {
   "cell_type": "code",
   "execution_count": 8,
   "metadata": {},
   "execution_count": 6,
   "metadata": {},
   "outputs": [
    {
     "name": "stdout",
     "output_type": "stream",
     "text": [
      "Tests Passed\n"
     ]
    }
   ],
   "source": [
    "def one_hot_encode(x):\n",
    "    \"\"\"\n",
    "    One hot encode a list of sample labels. Return a one-hot encoded vector for each label.\n",
    "    : x: List of sample Labels\n",
    "    : return: Numpy array of one-hot encoded labels\n",
    "    \"\"\"\n",
    "    # TODO: Implement Function\n",
    "    return np.eye(max(x)+1)[x] #not sure why this fails on the first try but then passes\n",
    "   \n",
    "\"\"\"\n",
    "DON'T MODIFY ANYTHING IN THIS CELL THAT IS BELOW THIS LINE\n",
    "\"\"\"\n",
    "tests.test_one_hot_encode(one_hot_encode)"
   ]
  },
  {
   "cell_type": "markdown",
   "metadata": {},
   "source": [
    "### Randomize Data\n",
    "As you saw from exploring the data above, the order of the samples are randomized.  It doesn't hurt to randomize it again, but you don't need to for this dataset."
   ]
  },
  {
   "cell_type": "markdown",
   "metadata": {},
   "source": [
    "## Preprocess all the data and save it\n",
    "Running the code cell below will preprocess all the CIFAR-10 data and save it to file. The code below also uses 10% of the training data for validation."
   ]
  },
  {
   "cell_type": "code",
   "execution_count": 9,
   "execution_count": 7,
   "metadata": {
    "collapsed": true
   },
   "outputs": [],
   "source": [
    "\"\"\"\n",
    "DON'T MODIFY ANYTHING IN THIS CELL\n",
    "\"\"\"\n",
    "# Preprocess Training, Validation, and Testing Data\n",
    "helper.preprocess_and_save_data(cifar10_dataset_folder_path, normalize, one_hot_encode)"
   ]
  },
  {
   "cell_type": "markdown",
   "metadata": {},
   "source": [
    "# Check Point\n",
    "This is your first checkpoint.  If you ever decide to come back to this notebook or have to restart the notebook, you can start from here.  The preprocessed data has been saved to disk."
   ]
  },
  {
   "cell_type": "code",
   "execution_count": 10,
   "execution_count": 8,
   "metadata": {
    "collapsed": true
   },
   "outputs": [],
   "source": [
    "\"\"\"\n",
    "DON'T MODIFY ANYTHING IN THIS CELL\n",
    "\"\"\"\n",
    "import pickle\n",
    "import problem_unittests as tests\n",
    "import helper\n",
    "\n",
    "# Load the Preprocessed Validation data\n",
    "valid_features, valid_labels = pickle.load(open('preprocess_validation.p', mode='rb'))"
   ]
  },
  {
   "cell_type": "markdown",
   "metadata": {},
   "source": [
    "## Build the network\n",
    "For the neural network, you'll build each layer into a function.  Most of the code you've seen has been outside of functions. To test your code more thoroughly, we require that you put each layer in a function.  This allows us to give you better feedback and test for simple mistakes using our unittests before you submit your project.\n",
    "\n",
    ">**Note:** If you're finding it hard to dedicate enough time for this course each week, we've provided a small shortcut to this part of the project. In the next couple of problems, you'll have the option to use classes from the [TensorFlow Layers](https://www.tensorflow.org/api_docs/python/tf/layers) or [TensorFlow Layers (contrib)](https://www.tensorflow.org/api_guides/python/contrib.layers) packages to build each layer, except the layers you build in the \"Convolutional and Max Pooling Layer\" section.  TF Layers is similar to Keras's and TFLearn's abstraction to layers, so it's easy to pickup.\n",
    "\n",
    ">However, if you would like to get the most out of this course, try to solve all the problems _without_ using anything from the TF Layers packages. You **can** still use classes from other packages that happen to have the same name as ones you find in TF Layers! For example, instead of using the TF Layers version of the `conv2d` class, [tf.layers.conv2d](https://www.tensorflow.org/api_docs/python/tf/layers/conv2d), you would want to use the TF Neural Network version of `conv2d`, [tf.nn.conv2d](https://www.tensorflow.org/api_docs/python/tf/nn/conv2d). \n",
    "\n",
    "Let's begin!\n",
    "\n",
    "### Input\n",
    "The neural network needs to read the image data, one-hot encoded labels, and dropout keep probability. Implement the following functions\n",
    "* Implement `neural_net_image_input`\n",
    " * Return a [TF Placeholder](https://www.tensorflow.org/api_docs/python/tf/placeholder)\n",
    " * Set the shape using `image_shape` with batch size set to `None`.\n",
    " * Name the TensorFlow placeholder \"x\" using the TensorFlow `name` parameter in the [TF Placeholder](https://www.tensorflow.org/api_docs/python/tf/placeholder).\n",
    "* Implement `neural_net_label_input`\n",
    " * Return a [TF Placeholder](https://www.tensorflow.org/api_docs/python/tf/placeholder)\n",
    " * Set the shape using `n_classes` with batch size set to `None`.\n",
    " * Name the TensorFlow placeholder \"y\" using the TensorFlow `name` parameter in the [TF Placeholder](https://www.tensorflow.org/api_docs/python/tf/placeholder).\n",
    "* Implement `neural_net_keep_prob_input`\n",
    " * Return a [TF Placeholder](https://www.tensorflow.org/api_docs/python/tf/placeholder) for dropout keep probability.\n",
    " * Name the TensorFlow placeholder \"keep_prob\" using the TensorFlow `name` parameter in the [TF Placeholder](https://www.tensorflow.org/api_docs/python/tf/placeholder).\n",
    "\n",
    "These names will be used at the end of the project to load your saved model.\n",
    "\n",
    "Note: `None` for shapes in TensorFlow allow for a dynamic size."
   ]
  },
  {
   "cell_type": "code",
   "execution_count": 11,
   "metadata": {},
   "execution_count": 9,
   "metadata": {},
   "outputs": [
    {
     "name": "stdout",
     "output_type": "stream",
     "text": [
      "Image Input Tests Passed.\n",
      "Label Input Tests Passed.\n",
      "Keep Prob Tests Passed.\n"
     ]
    }
   ],
   "source": [
    "import tensorflow as tf\n",
    "\n",
    "def neural_net_image_input(image_shape):\n",
    "    \"\"\"\n",
    "    Return a Tensor for a batch of image input\n",
    "    : image_shape: Shape of the images\n",
    "    : return: Tensor for image input.\n",
    "    \"\"\"\n",
    "    return tf.placeholder(tf.float32, [None, *image_shape], name='x')\n",
    "\n",
    "\n",
    "def neural_net_label_input(n_classes):\n",
    "    \"\"\"\n",
    "    Return a Tensor for a batch of label input\n",
    "    : n_classes: Number of classes\n",
    "    : return: Tensor for label input.\n",
    "    \"\"\"\n",
    "    return tf.placeholder(tf.float32, [None, n_classes], name='y')\n",
    "\n",
    "\n",
    "def neural_net_keep_prob_input():\n",
    "    \"\"\"\n",
    "    Return a Tensor for keep probability\n",
    "    : return: Tensor for keep probability.\n",
    "    \"\"\"\n",
    "    return tf.placeholder(tf.float32, name='keep_prob')\n",
    "\n",
    "\n",
    "\"\"\"\n",
    "DON'T MODIFY ANYTHING IN THIS CELL THAT IS BELOW THIS LINE\n",
    "\"\"\"\n",
    "tf.reset_default_graph()\n",
    "tests.test_nn_image_inputs(neural_net_image_input)\n",
    "tests.test_nn_label_inputs(neural_net_label_input)\n",
    "tests.test_nn_keep_prob_inputs(neural_net_keep_prob_input)"
   ]
  },
  {
   "cell_type": "markdown",
   "metadata": {},
   "source": [
    "### Convolution and Max Pooling Layer\n",
    "Convolution layers have a lot of success with images. For this code cell, you should implement the function `conv2d_maxpool` to apply convolution then max pooling:\n",
    "* Create the weight and bias using `conv_ksize`, `conv_num_outputs` and the shape of `x_tensor`.\n",
    "* Apply a convolution to `x_tensor` using weight and `conv_strides`.\n",
    " * We recommend you use same padding, but you're welcome to use any padding.\n",
    "* Add bias\n",
    "* Add a nonlinear activation to the convolution.\n",
    "* Apply Max Pooling using `pool_ksize` and `pool_strides`.\n",
    " * We recommend you use same padding, but you're welcome to use any padding.\n",
    "\n",
    "**Note:** You **can't** use [TensorFlow Layers](https://www.tensorflow.org/api_docs/python/tf/layers) or [TensorFlow Layers (contrib)](https://www.tensorflow.org/api_guides/python/contrib.layers) for **this** layer, but you can still use TensorFlow's [Neural Network](https://www.tensorflow.org/api_docs/python/tf/nn) package. You may still use the shortcut option for all the **other** layers."
   ]
  },
  {
   "cell_type": "code",
   "execution_count": 34,
   "metadata": {},
   "execution_count": 10,
   "metadata": {},
   "outputs": [
    {
     "name": "stdout",
     "output_type": "stream",
     "text": [
      "Tests Passed\n"
     ]
    }
   ],
   "source": [
    "def conv2d_maxpool(x_tensor, conv_num_outputs, conv_ksize, conv_strides, pool_ksize, pool_strides):\n",
    "    \"\"\"\n",
    "    Apply convolution then max pooling to x_tensor\n",
    "    :param x_tensor: TensorFlow Tensor\n",
    "    :param conv_num_outputs: Number of outputs for the convolutional layer\n",
    "    :param conv_ksize: kernal size 2-D Tuple for the convolutional layer\n",
    "    :param conv_strides: Stride 2-D Tuple for convolution\n",
    "    :param pool_ksize: kernal size 2-D Tuple for pool\n",
    "    :param pool_strides: Stride 2-D Tuple for pool\n",
    "    : return: A tensor that represents convolution and max pooling of x_tensor\n",
    "    \"\"\"\n",
    "    weight = tf.Variable(tf.truncated_normal([conv_ksize[0], conv_ksize[1], x_tensor.get_shape().as_list()[-1], conv_num_outputs],\n",
    "                                            stddev=0.1))\n",
    "    bias = tf.Variable(tf.constant(0.0, shape=[conv_num_outputs]))\n",
    "    strides = [1, conv_strides[0], conv_strides[1], 1]\n",
    "    \n",
    "    conv1 = tf.nn.conv2d(x_tensor, weight, strides, padding='SAME')\n",
    "    conv1 = tf.nn.bias_add(conv1, bias)\n",
    "    conv1 = tf.nn.relu(conv1)\n",
    "    \n",
    "    conv1 = tf.nn.max_pool(conv1, ksize=[1, pool_ksize[0], pool_ksize[1], 1], strides=[1, pool_strides[0], pool_strides[1], 1],\n",
    "                          padding='SAME')\n",
    "    return conv1\n",
    "\n",
    "\"\"\"\n",
    "DON'T MODIFY ANYTHING IN THIS CELL THAT IS BELOW THIS LINE\n",
    "\"\"\"\n",
    "tests.test_con_pool(conv2d_maxpool)"
   ]
  },
  {
   "cell_type": "markdown",
   "metadata": {},
   "source": [
    "### Flatten Layer\n",
    "Implement the `flatten` function to change the dimension of `x_tensor` from a 4-D tensor to a 2-D tensor.  The output should be the shape (*Batch Size*, *Flattened Image Size*). Shortcut option: you can use classes from the [TensorFlow Layers](https://www.tensorflow.org/api_docs/python/tf/layers) or [TensorFlow Layers (contrib)](https://www.tensorflow.org/api_guides/python/contrib.layers) packages for this layer. For more of a challenge, only use other TensorFlow packages."
   ]
  },
  {
   "cell_type": "code",
   "execution_count": 35,
   "metadata": {},
   "execution_count": 11,
   "metadata": {},
   "outputs": [
    {
     "name": "stdout",
     "output_type": "stream",
     "text": [
      "Tests Passed\n"
     ]
    }
   ],
   "source": [
    "def flatten(x_tensor):\n",
    "    \"\"\"\n",
    "    Flatten x_tensor to (Batch Size, Flattened Image Size)\n",
    "    : x_tensor: A tensor of size (Batch Size, ...), where ... are the image dimensions.\n",
    "    : return: A tensor of size (Batch Size, Flattened Image Size).\n",
    "    \"\"\"\n",
    "    return tf.reshape(x_tensor, [-1, np.prod(x_tensor.get_shape().as_list()[1:])])\n",
    "\n",
    "\"\"\"\n",
    "DON'T MODIFY ANYTHING IN THIS CELL THAT IS BELOW THIS LINE\n",
    "\"\"\"\n",
    "tests.test_flatten(flatten)"
   ]
  },
  {
   "cell_type": "markdown",
   "metadata": {},
   "source": [
    "### Fully-Connected Layer\n",
    "Implement the `fully_conn` function to apply a fully connected layer to `x_tensor` with the shape (*Batch Size*, *num_outputs*). Shortcut option: you can use classes from the [TensorFlow Layers](https://www.tensorflow.org/api_docs/python/tf/layers) or [TensorFlow Layers (contrib)](https://www.tensorflow.org/api_guides/python/contrib.layers) packages for this layer. For more of a challenge, only use other TensorFlow packages."
   ]
  },
  {
   "cell_type": "code",
   "execution_count": 36,
   "metadata": {},
   "execution_count": 15,
   "metadata": {},
   "outputs": [
    {
     "name": "stdout",
     "output_type": "stream",
     "text": [
      "Tests Passed\n"
     ]
    }
   ],
   "source": [
    "def fully_conn(x_tensor, num_outputs):\n",
    "    \"\"\"\n",
    "    Apply a fully connected layer to x_tensor using weight and bias\n",
    "    : x_tensor: A 2-D tensor where the first dimension is batch size.\n",
    "    : num_outputs: The number of output that the new tensor should be.\n",
    "    : return: A 2-D tensor where the second dimension is num_outputs.\n",
    "    \"\"\"\n",
    "    return tf.nn.relu(output(x_tensor, num_outputs))\n",
    "\"\"\"\n",
    "DON'T MODIFY ANYTHING IN THIS CELL THAT IS BELOW THIS LINE\n",
    "\"\"\"\n",
    "tests.test_fully_conn(fully_conn)"
   ]
  },
  {
   "cell_type": "markdown",
   "metadata": {},
   "source": [
    "### Output Layer\n",
    "Implement the `output` function to apply a fully connected layer to `x_tensor` with the shape (*Batch Size*, *num_outputs*). Shortcut option: you can use classes from the [TensorFlow Layers](https://www.tensorflow.org/api_docs/python/tf/layers) or [TensorFlow Layers (contrib)](https://www.tensorflow.org/api_guides/python/contrib.layers) packages for this layer. For more of a challenge, only use other TensorFlow packages.\n",
    "\n",
    "**Note:** Activation, softmax, or cross entropy should **not** be applied to this."
   ]
  },
  {
   "cell_type": "code",
   "execution_count": 37,
   "metadata": {},
   "execution_count": 14,
   "metadata": {},
   "outputs": [
    {
     "name": "stdout",
     "output_type": "stream",
     "text": [
      "Tests Passed\n"
     ]
    }
   ],
   "source": [
    "def output(x_tensor, num_outputs):\n",
    "    \"\"\"\n",
    "    Apply a output layer to x_tensor using weight and bias\n",
    "    : x_tensor: A 2-D tensor where the first dimension is batch size.\n",
    "    : num_outputs: The number of output that the new tensor should be.\n",
    "    : return: A 2-D tensor where the second dimension is num_outputs.\n",
    "    \"\"\"\n",
    "    weights = tf.Variable(tf.truncated_normal([x_tensor.get_shape().as_list()[1], num_outputs], stddev=0.1))\n",
    "    bias = tf.Variable(tf.truncated_normal([num_outputs], stddev=0.1))\n",
    "    return tf.add(tf.matmul(x_tensor, weights), bias)\n",
    "\n",
    "\"\"\"\n",
    "DON'T MODIFY ANYTHING IN THIS CELL THAT IS BELOW THIS LINE\n",
    "\"\"\"\n",
    "tests.test_output(output)"
   ]
  },
  {
   "cell_type": "markdown",
   "metadata": {},
   "source": [
    "### Create Convolutional Model\n",
    "Implement the function `conv_net` to create a convolutional neural network model. The function takes in a batch of images, `x`, and outputs logits.  Use the layers you created above to create this model:\n",
    "\n",
    "* Apply 1, 2, or 3 Convolution and Max Pool layers\n",
    "* Apply a Flatten Layer\n",
    "* Apply 1, 2, or 3 Fully Connected Layers\n",
    "* Apply an Output Layer\n",
    "* Return the output\n",
    "* Apply [TensorFlow's Dropout](https://www.tensorflow.org/api_docs/python/tf/nn/dropout) to one or more layers in the model using `keep_prob`. "
   ]
  },
  {
   "cell_type": "code",
   "execution_count": 46,
   "metadata": {},
   "execution_count": 27,
   "metadata": {},
   "outputs": [
    {
     "name": "stdout",
     "output_type": "stream",
     "text": [
      "Neural Network Built!\n"
     ]
    }
   ],
   "source": [
    "def conv_net(x, keep_prob):\n",
    "    \"\"\"\n",
    "    Create a convolutional neural network model\n",
    "    : x: Placeholder tensor that holds image data.\n",
    "    : keep_prob: Placeholder tensor that hold dropout keep probability.\n",
    "    : return: Tensor that represents logits\n",
    "    \"\"\"\n",
    "    # Convolution and Max Pool Parameters\n",
    "    conv_num_outputs = [32, 32, 64]\n",
    "    conv_ksize = [(5, 5), (5, 5)]\n",
    "    conv_strides = [(2, 2), (2, 2)]\n",
    "    pool_ksize = [(2, 2), (2, 2)]\n",
    "    pool_strides = [(2, 2), (2, 2)]\n",
    "    conv_ksize = [(3, 3), (3, 3), (3, 3)]\n",
    "    conv_strides = [(1, 1), (1, 1), (1, 1)]\n",
    "    pool_ksize = [(2, 2), (2, 2), (2, 2)]\n",
    "    pool_strides = [(2, 2), (2, 2), (2, 2)]\n",
    "    \n",
    "    # Convolution and Max Pool Layers\n",
    "    conv1 = conv2d_maxpool(x, conv_num_outputs[0], conv_ksize[0], conv_strides[0], pool_ksize[0], pool_strides[0])\n",
    "    conv1 = tf.nn.dropout(conv1, keep_prob)\n",
    "    \n",
    "    #conv1 = tf.nn.dropout(conv1, keep_prob-0.1)\n",
    "    conv2 = conv2d_maxpool(conv1, conv_num_outputs[1], conv_ksize[1], conv_strides[1], pool_ksize[1], pool_strides[1])\n",

    "    #conv2 = tf.nn.dropout(conv2, keep_prob+0.1)\n",
    "    conv3 = conv2d_maxpool(conv2, conv_num_outputs[2], conv_ksize[1], conv_strides[1], pool_ksize[1], pool_strides[1])\n",
    "    conv3 = tf.nn.dropout(conv3, keep_prob)\n",
    "    \n",
    "    # Apply a Flatten Layer\n",
    "    flat  = flatten(conv3)\n",
    "\n",
    "    # Fully Connected Layers\n",
    "    num_outputs = [64, 128]\n",
    "    num_outputs = [512, 50]\n",
    "    fc1 = fully_conn(flat, num_outputs[0])\n",
    "    fc1 = tf.nn.dropout(fc1, keep_prob)\n",
    "    fc1 = tf.nn.dropout(fc1, keep_prob+0.3)\n",
    "    \n",
    "    fc2 = fully_conn(fc1, num_outputs[1])\n",
    "    \n",
    "    #fc2 = fully_conn(fc1, num_outputs[1])\n",
    "    #fc2 = tf.nn.dropout(fc2, keep_prob+0.2)\n",
    "    # TODO: Apply an Output Layer\n",
    "    #    Set this to the number of classes\n",
    "    # Function Definition from Above:\n",
    "    #   output(x_tensor, num_outputs)\n",
    "    final_output = output(fc2, 10)\n",
    "    final_output = output(fc1, 10)\n",
    "    \n",
    "    # TODO: return output\n",
    "    return final_output\n",
    "\n",
    "\n",
    "\"\"\"\n",
    "DON'T MODIFY ANYTHING IN THIS CELL THAT IS BELOW THIS LINE\n",
    "\"\"\"\n",
    "\n",
    "##############################\n",
    "## Build the Neural Network ##\n",
    "##############################\n",
    "\n",
    "# Remove previous weights, bias, inputs, etc..\n",
    "tf.reset_default_graph()\n",
    "\n",
    "# Inputs\n",
    "x = neural_net_image_input((32, 32, 3))\n",
    "y = neural_net_label_input(10)\n",
    "keep_prob = neural_net_keep_prob_input()\n",
    "\n",
    "# Model\n",
    "logits = conv_net(x, keep_prob)\n",
    "\n",
    "# Name logits Tensor, so that is can be loaded from disk after training\n",
    "logits = tf.identity(logits, name='logits')\n",
    "\n",
    "# Loss and Optimizer\n",
    "cost = tf.reduce_mean(tf.nn.softmax_cross_entropy_with_logits(logits=logits, labels=y))\n",
    "optimizer = tf.train.AdamOptimizer(0.01).minimize(cost)\n",
    "\n",
    "# Accuracy\n",
    "correct_pred = tf.equal(tf.argmax(logits, 1), tf.argmax(y, 1))\n",
    "accuracy = tf.reduce_mean(tf.cast(correct_pred, tf.float32), name='accuracy')\n",
    "\n",
    "tests.test_conv_net(conv_net)"
   ]
  },
  {
   "cell_type": "markdown",
   "metadata": {},
   "source": [
    "## Train the Neural Network\n",
    "### Single Optimization\n",
    "Implement the function `train_neural_network` to do a single optimization.  The optimization should use `optimizer` to optimize in `session` with a `feed_dict` of the following:\n",
    "* `x` for image input\n",
    "* `y` for labels\n",
    "* `keep_prob` for keep probability for dropout\n",
    "\n",
    "This function will be called for each batch, so `tf.global_variables_initializer()` has already been called.\n",
    "\n",
    "Note: Nothing needs to be returned. This function is only optimizing the neural network."
   ]
  },
  {
   "cell_type": "code",
   "execution_count": 42,
   "metadata": {},
   "execution_count": 17,
   "metadata": {},
   "outputs": [
    {
     "name": "stdout",
     "output_type": "stream",
     "text": [
      "Tests Passed\n"
     ]
    }
   ],
   "source": [
    "def train_neural_network(session, optimizer, keep_probability, feature_batch, label_batch):\n",
    "    \"\"\"\n",
    "    Optimize the session on a batch of images and labels\n",
    "    : session: Current TensorFlow session\n",
    "    : optimizer: TensorFlow optimizer function\n",
    "    : keep_probability: keep probability\n",
    "    : feature_batch: Batch of Numpy image data\n",
    "    : label_batch: Batch of Numpy label data\n",
    "    \"\"\"\n",
    "    # TODO: Implement Function\n",
    "    session.run(optimizer, feed_dict = {x: feature_batch, y: label_batch, keep_prob: keep_probability})\n",
    "\n",
    "\"\"\"\n",
    "DON'T MODIFY ANYTHING IN THIS CELL THAT IS BELOW THIS LINE\n",
    "\"\"\"\n",
    "tests.test_train_nn(train_neural_network)"
   ]
  },
  {
   "cell_type": "markdown",
   "metadata": {},
   "source": [
    "### Show Stats\n",
    "Implement the function `print_stats` to print loss and validation accuracy.  Use the global variables `valid_features` and `valid_labels` to calculate validation accuracy.  Use a keep probability of `1.0` to calculate the loss and validation accuracy."
   ]
  },
  {
   "cell_type": "code",
   "execution_count": 43,
   "execution_count": 18,
   "metadata": {
    "collapsed": true
   },
   "outputs": [],
   "source": [
    "def print_stats(session, feature_batch, label_batch, cost, accuracy):\n",
    "    \"\"\"\n",
    "    Print information about loss and validation accuracy\n",
    "    : session: Current TensorFlow session\n",
    "    : feature_batch: Batch of Numpy image data\n",
    "    : label_batch: Batch of Numpy label data\n",
    "    : cost: TensorFlow cost function\n",
    "    : accuracy: TensorFlow accuracy function\n",
    "    \"\"\"\n",
    "    # TODO: Implement Function\n",
    "    validation_accuracy = session.run(accuracy, feed_dict={x: valid_features, y: valid_labels, keep_prob: 1.0})\n",
    "    training_loss = session.run(cost, feed_dict={x: feature_batch, y: label_batch, keep_prob: 1.0})\n",
    "    print('Accuracy: {:5.3f}'.format(validation_accuracy),\n",
    "         'Cost: {:5.3f}'.format(training_loss))"
   ]
  },
  {
   "cell_type": "markdown",
   "metadata": {},
   "source": [
    "### Hyperparameters\n",
    "Tune the following parameters:\n",
    "* Set `epochs` to the number of iterations until the network stops learning or start overfitting\n",
    "* Set `batch_size` to the highest number that your machine has memory for.  Most people set them to common sizes of memory:\n",
    " * 64\n",
    " * 128\n",
    " * 256\n",
    " * ...\n",
    "* Set `keep_probability` to the probability of keeping a node using dropout"
   ]
  },
  {
   "cell_type": "code",
   "execution_count": 44,
   "execution_count": 28,
   "metadata": {
    "collapsed": true
   },
   "outputs": [],
   "source": [
    "# TODO: Tune Parameters\n",
    "epochs = 20\n",
    "epochs = 30\n",
    "batch_size = 256\n",
    "keep_probability = 0.5"
    "keep_probability = 0.50"
   ]
  },
  {
   "cell_type": "markdown",
   "metadata": {},
   "source": [
    "### Train on a Single CIFAR-10 Batch\n",
    "Instead of training the neural network on all the CIFAR-10 batches of data, let's use a single batch. This should save time while you iterate on the model to get a better accuracy.  Once the final validation accuracy is 50% or greater, run the model on all the data in the next section."
   ]
  },
  {
   "cell_type": "code",
   "execution_count": 45,
   "metadata": {},
   "execution_count": 29,
   "metadata": {},
   "outputs": [
    {
     "name": "stdout",
     "output_type": "stream",
     "text": [
      "Checking the Training on a Single Batch...\n",
      "Epoch  1, CIFAR-10 Batch 1:  Accuracy: 0.195 Cost: 2.142\n",
      "Epoch  2, CIFAR-10 Batch 1:  Accuracy: 0.267 Cost: 2.057\n",
      "Epoch  3, CIFAR-10 Batch 1:  Accuracy: 0.283 Cost: 2.007\n",
      "Epoch  4, CIFAR-10 Batch 1:  Accuracy: 0.307 Cost: 1.910\n",
      "Epoch  5, CIFAR-10 Batch 1:  Accuracy: 0.293 Cost: 1.849\n",
      "Epoch  6, CIFAR-10 Batch 1:  Accuracy: 0.332 Cost: 1.799\n",
      "Epoch  7, CIFAR-10 Batch 1:  Accuracy: 0.321 Cost: 1.831\n",
      "Epoch  8, CIFAR-10 Batch 1:  Accuracy: 0.328 Cost: 1.855\n",
      "Epoch  9, CIFAR-10 Batch 1:  Accuracy: 0.334 Cost: 1.813\n",
      "Epoch 10, CIFAR-10 Batch 1:  Accuracy: 0.345 Cost: 1.789\n",
      "Epoch 11, CIFAR-10 Batch 1:  Accuracy: 0.331 Cost: 1.794\n",
      "Epoch 12, CIFAR-10 Batch 1:  Accuracy: 0.342 Cost: 1.748\n",
      "Epoch 13, CIFAR-10 Batch 1:  Accuracy: 0.336 Cost: 1.734\n",
      "Epoch 14, CIFAR-10 Batch 1:  Accuracy: 0.357 Cost: 1.740\n",
      "Epoch 15, CIFAR-10 Batch 1:  Accuracy: 0.350 Cost: 1.675\n",
      "Epoch 16, CIFAR-10 Batch 1:  Accuracy: 0.365 Cost: 1.723\n",
      "Epoch 17, CIFAR-10 Batch 1:  Accuracy: 0.357 Cost: 1.760\n",
      "Epoch 18, CIFAR-10 Batch 1:  Accuracy: 0.344 Cost: 1.739\n",
      "Epoch 19, CIFAR-10 Batch 1:  Accuracy: 0.323 Cost: 1.723\n",
      "Epoch 20, CIFAR-10 Batch 1:  Accuracy: 0.356 Cost: 1.758\n"










      "Epoch  1, CIFAR-10 Batch 1:  Accuracy: 0.201 Cost: 2.074\n",
      "Epoch  2, CIFAR-10 Batch 1:  Accuracy: 0.339 Cost: 1.989\n",
      "Epoch  3, CIFAR-10 Batch 1:  Accuracy: 0.398 Cost: 1.718\n",
      "Epoch  4, CIFAR-10 Batch 1:  Accuracy: 0.386 Cost: 1.638\n",
      "Epoch  5, CIFAR-10 Batch 1:  Accuracy: 0.423 Cost: 1.378\n",
      "Epoch  6, CIFAR-10 Batch 1:  Accuracy: 0.424 Cost: 1.313\n",
      "Epoch  7, CIFAR-10 Batch 1:  Accuracy: 0.462 Cost: 1.244\n",
      "Epoch  8, CIFAR-10 Batch 1:  Accuracy: 0.442 Cost: 1.277\n",
      "Epoch  9, CIFAR-10 Batch 1:  Accuracy: 0.473 Cost: 1.006\n",
      "Epoch 10, CIFAR-10 Batch 1:  Accuracy: 0.463 Cost: 0.959\n",
      "Epoch 11, CIFAR-10 Batch 1:  Accuracy: 0.476 Cost: 0.917\n",
      "Epoch 12, CIFAR-10 Batch 1:  Accuracy: 0.475 Cost: 0.816\n",
      "Epoch 13, CIFAR-10 Batch 1:  Accuracy: 0.476 Cost: 0.741\n",
      "Epoch 14, CIFAR-10 Batch 1:  Accuracy: 0.498 Cost: 0.773\n",
      "Epoch 15, CIFAR-10 Batch 1:  Accuracy: 0.484 Cost: 0.736\n",
      "Epoch 16, CIFAR-10 Batch 1:  Accuracy: 0.497 Cost: 0.640\n",
      "Epoch 17, CIFAR-10 Batch 1:  Accuracy: 0.511 Cost: 0.594\n",
      "Epoch 18, CIFAR-10 Batch 1:  Accuracy: 0.480 Cost: 0.506\n",
      "Epoch 19, CIFAR-10 Batch 1:  Accuracy: 0.496 Cost: 0.477\n",
      "Epoch 20, CIFAR-10 Batch 1:  Accuracy: 0.501 Cost: 0.444\n",
      "Epoch 21, CIFAR-10 Batch 1:  Accuracy: 0.496 Cost: 0.407\n",
      "Epoch 22, CIFAR-10 Batch 1:  Accuracy: 0.501 Cost: 0.366\n",
      "Epoch 23, CIFAR-10 Batch 1:  Accuracy: 0.512 Cost: 0.334\n",
      "Epoch 24, CIFAR-10 Batch 1:  Accuracy: 0.482 Cost: 0.388\n",
      "Epoch 25, CIFAR-10 Batch 1:  Accuracy: 0.492 Cost: 0.407\n",
      "Epoch 26, CIFAR-10 Batch 1:  Accuracy: 0.486 Cost: 0.364\n",
      "Epoch 27, CIFAR-10 Batch 1:  Accuracy: 0.451 Cost: 0.446\n",
      "Epoch 28, CIFAR-10 Batch 1:  Accuracy: 0.509 Cost: 0.294\n",
      "Epoch 29, CIFAR-10 Batch 1:  Accuracy: 0.489 Cost: 0.317\n",
      "Epoch 30, CIFAR-10 Batch 1:  Accuracy: 0.511 Cost: 0.260\n"
     ]
    }
   ],
   "source": [
    "\"\"\"\n",
    "DON'T MODIFY ANYTHING IN THIS CELL\n",
    "\"\"\"\n",
    "print('Checking the Training on a Single Batch...')\n",
    "with tf.Session() as sess:\n",
    "    # Initializing the variables\n",
    "    sess.run(tf.global_variables_initializer())\n",
    "    \n",
    "    # Training cycle\n",
    "    for epoch in range(epochs):\n",
    "        batch_i = 1\n",
    "        for batch_features, batch_labels in helper.load_preprocess_training_batch(batch_i, batch_size):\n",
    "            train_neural_network(sess, optimizer, keep_probability, batch_features, batch_labels)\n",
    "        print('Epoch {:>2}, CIFAR-10 Batch {}:  '.format(epoch + 1, batch_i), end='')\n",
    "        print_stats(sess, batch_features, batch_labels, cost, accuracy)"
   ]
  },
  {
   "cell_type": "markdown",
   "metadata": {},
   "source": [
    "### Fully Train the Model\n",
    "Now that you got a good accuracy with a single CIFAR-10 batch, try it with all five batches."
   ]
  },
  {
   "cell_type": "code",
   "execution_count": 17,
   "execution_count": 30,
   "metadata": {},
   "outputs": [
    {
     "name": "stdout",
     "output_type": "stream",
     "text": [
      "Training...\n",
      "Epoch  1, CIFAR-10 Batch 1:  Accuracy: 0.175 Cost: 2.035\n",
      "Epoch  1, CIFAR-10 Batch 2:  Accuracy: 0.350 Cost: 1.870\n",
      "Epoch  1, CIFAR-10 Batch 3:  Accuracy: 0.475 Cost: 1.790\n",
      "Epoch  1, CIFAR-10 Batch 4:  Accuracy: 0.450 Cost: 1.732\n",
      "Epoch  1, CIFAR-10 Batch 5:  Accuracy: 0.400 Cost: 1.646\n",
      "Epoch  2, CIFAR-10 Batch 1:  Accuracy: 0.425 Cost: 1.658\n",
      "Epoch  2, CIFAR-10 Batch 2:  Accuracy: 0.475 Cost: 1.573\n",
      "Epoch  2, CIFAR-10 Batch 3:  Accuracy: 0.475 Cost: 1.625\n",
      "Epoch  2, CIFAR-10 Batch 4:  Accuracy: 0.500 Cost: 1.549\n",
      "Epoch  2, CIFAR-10 Batch 5:  Accuracy: 0.500 Cost: 1.533\n",
      "Epoch  3, CIFAR-10 Batch 1:  Accuracy: 0.400 Cost: 1.568\n",
      "Epoch  3, CIFAR-10 Batch 2:  Accuracy: 0.425 Cost: 1.519\n",
      "Epoch  3, CIFAR-10 Batch 3:  Accuracy: 0.575 Cost: 1.572\n",
      "Epoch  3, CIFAR-10 Batch 4:  Accuracy: 0.450 Cost: 1.474\n",
      "Epoch  3, CIFAR-10 Batch 5:  Accuracy: 0.500 Cost: 1.463\n",
      "Epoch  4, CIFAR-10 Batch 1:  Accuracy: 0.450 Cost: 1.465\n",
      "Epoch  4, CIFAR-10 Batch 2:  Accuracy: 0.525 Cost: 1.479\n",
      "Epoch  4, CIFAR-10 Batch 3:  Accuracy: 0.625 Cost: 1.487\n",
      "Epoch  4, CIFAR-10 Batch 4:  Accuracy: 0.550 Cost: 1.475\n",
      "Epoch  4, CIFAR-10 Batch 5:  Accuracy: 0.450 Cost: 1.430\n",
      "Epoch  5, CIFAR-10 Batch 1:  Accuracy: 0.550 Cost: 1.429\n",
      "Epoch  5, CIFAR-10 Batch 2:  Accuracy: 0.500 Cost: 1.439\n",
      "Epoch  5, CIFAR-10 Batch 3:  Accuracy: 0.650 Cost: 1.457\n",
      "Epoch  5, CIFAR-10 Batch 4:  Accuracy: 0.525 Cost: 1.410\n",
      "Epoch  5, CIFAR-10 Batch 5:  Accuracy: 0.500 Cost: 1.412\n",
      "Epoch  6, CIFAR-10 Batch 1:  Accuracy: 0.425 Cost: 1.419\n",
      "Epoch  6, CIFAR-10 Batch 2:  Accuracy: 0.575 Cost: 1.429\n",
      "Epoch  6, CIFAR-10 Batch 3:  Accuracy: 0.650 Cost: 1.400\n",
      "Epoch  6, CIFAR-10 Batch 4:  Accuracy: 0.575 Cost: 1.379\n",
      "Epoch  6, CIFAR-10 Batch 5:  Accuracy: 0.625 Cost: 1.384\n",
      "Epoch  7, CIFAR-10 Batch 1:  Accuracy: 0.525 Cost: 1.391\n",
      "Epoch  7, CIFAR-10 Batch 2:  Accuracy: 0.650 Cost: 1.459\n",
      "Epoch  7, CIFAR-10 Batch 3:  Accuracy: 0.650 Cost: 1.388\n",
      "Epoch  7, CIFAR-10 Batch 4:  Accuracy: 0.500 Cost: 1.398\n",
      "Epoch  7, CIFAR-10 Batch 5:  Accuracy: 0.550 Cost: 1.379\n",
      "Epoch  8, CIFAR-10 Batch 1:  Accuracy: 0.550 Cost: 1.356\n",
      "Epoch  8, CIFAR-10 Batch 2:  Accuracy: 0.575 Cost: 1.404\n",
      "Epoch  8, CIFAR-10 Batch 3:  Accuracy: 0.725 Cost: 1.365\n",
      "Epoch  8, CIFAR-10 Batch 4:  Accuracy: 0.600 Cost: 1.354\n",
      "Epoch  8, CIFAR-10 Batch 5:  Accuracy: 0.525 Cost: 1.472\n",
      "Epoch  9, CIFAR-10 Batch 1:  Accuracy: 0.600 Cost: 1.379\n",
      "Epoch  9, CIFAR-10 Batch 2:  Accuracy: 0.575 Cost: 1.346\n",
      "Epoch  9, CIFAR-10 Batch 3:  Accuracy: 0.800 Cost: 1.339\n",
      "Epoch  9, CIFAR-10 Batch 4:  Accuracy: 0.650 Cost: 1.384\n",
      "Epoch  9, CIFAR-10 Batch 5:  Accuracy: 0.650 Cost: 1.411\n",
      "Epoch 10, CIFAR-10 Batch 1:  Accuracy: 0.625 Cost: 1.345\n",
      "Epoch 10, CIFAR-10 Batch 2:  Accuracy: 0.700 Cost: 1.351\n",
      "Epoch 10, CIFAR-10 Batch 3:  Accuracy: 0.750 Cost: 1.333\n",
      "Epoch 10, CIFAR-10 Batch 4:  Accuracy: 0.600 Cost: 1.335\n",
      "Epoch 10, CIFAR-10 Batch 5:  Accuracy: 0.700 Cost: 1.334\n",
      "Epoch 11, CIFAR-10 Batch 1:  Accuracy: 0.625 Cost: 1.330\n",
      "Epoch 11, CIFAR-10 Batch 2:  Accuracy: 0.550 Cost: 1.331\n",
      "Epoch 11, CIFAR-10 Batch 3:  Accuracy: 0.700 Cost: 1.315\n",
      "Epoch 11, CIFAR-10 Batch 4:  Accuracy: 0.600 Cost: 1.318\n",
      "Epoch 11, CIFAR-10 Batch 5:  Accuracy: 0.750 Cost: 1.320\n",
      "Epoch 12, CIFAR-10 Batch 1:  Accuracy: 0.625 Cost: 1.354\n",
      "Epoch 12, CIFAR-10 Batch 2:  Accuracy: 0.750 Cost: 1.331\n",
      "Epoch 12, CIFAR-10 Batch 3:  Accuracy: 0.650 Cost: 1.324\n",
      "Epoch 12, CIFAR-10 Batch 4:  Accuracy: 0.650 Cost: 1.362\n",
      "Epoch 12, CIFAR-10 Batch 5:  Accuracy: 0.700 Cost: 1.313\n",
      "Epoch 13, CIFAR-10 Batch 1:  Accuracy: 0.700 Cost: 1.328\n",
      "Epoch 13, CIFAR-10 Batch 2:  Accuracy: 0.600 Cost: 1.328\n",
      "Epoch 13, CIFAR-10 Batch 3:  Accuracy: 0.800 Cost: 1.327\n",
      "Epoch 13, CIFAR-10 Batch 4:  Accuracy: 0.625 Cost: 1.298\n",
      "Epoch 13, CIFAR-10 Batch 5:  Accuracy: 0.675 Cost: 1.322\n",
      "Epoch 14, CIFAR-10 Batch 1:  Accuracy: 0.700 Cost: 1.307\n",
      "Epoch 14, CIFAR-10 Batch 2:  Accuracy: 0.625 Cost: 1.297\n",
      "Epoch 14, CIFAR-10 Batch 3:  Accuracy: 0.775 Cost: 1.300\n",
      "Epoch 14, CIFAR-10 Batch 4:  Accuracy: 0.625 Cost: 1.327\n",
      "Epoch 14, CIFAR-10 Batch 5:  Accuracy: 0.800 Cost: 1.325\n",
      "Epoch 15, CIFAR-10 Batch 1:  Accuracy: 0.700 Cost: 1.317\n",
      "Epoch 15, CIFAR-10 Batch 2:  Accuracy: 0.700 Cost: 1.324\n",
      "Epoch 15, CIFAR-10 Batch 3:  Accuracy: 0.775 Cost: 1.288\n",
      "Epoch 15, CIFAR-10 Batch 4:  Accuracy: 0.675 Cost: 1.299\n",
      "Epoch 15, CIFAR-10 Batch 5:  Accuracy: 0.750 Cost: 1.356\n",
      "Epoch 16, CIFAR-10 Batch 1:  Accuracy: 0.700 Cost: 1.285\n",
      "Epoch 16, CIFAR-10 Batch 2:  Accuracy: 0.775 Cost: 1.306\n",
      "Epoch 16, CIFAR-10 Batch 3:  Accuracy: 0.750 Cost: 1.331\n",
      "Epoch 16, CIFAR-10 Batch 4:  Accuracy: 0.600 Cost: 1.298\n",
      "Epoch 16, CIFAR-10 Batch 5:  Accuracy: 0.700 Cost: 1.275\n",
      "Epoch 17, CIFAR-10 Batch 1:  Accuracy: 0.700 Cost: 1.278\n",
      "Epoch 17, CIFAR-10 Batch 2:  Accuracy: 0.675 Cost: 1.309\n",
      "Epoch 17, CIFAR-10 Batch 3:  Accuracy: 0.725 Cost: 1.266\n",
      "Epoch 17, CIFAR-10 Batch 4:  Accuracy: 0.725 Cost: 1.265\n",
      "Epoch 17, CIFAR-10 Batch 5:  Accuracy: 0.750 Cost: 1.284\n",
      "Epoch 18, CIFAR-10 Batch 1:  Accuracy: 0.675 Cost: 1.301\n",
      "Epoch 18, CIFAR-10 Batch 2:  Accuracy: 0.650 Cost: 1.277\n",
      "Epoch 18, CIFAR-10 Batch 3:  Accuracy: 0.700 Cost: 1.263\n",
      "Epoch 18, CIFAR-10 Batch 4:  Accuracy: 0.775 Cost: 1.259\n",
      "Epoch 18, CIFAR-10 Batch 5:  Accuracy: 0.725 Cost: 1.349\n",
      "Epoch 19, CIFAR-10 Batch 1:  Accuracy: 0.750 Cost: 1.268\n",
      "Epoch 19, CIFAR-10 Batch 2:  Accuracy: 0.700 Cost: 1.327\n",
      "Epoch 19, CIFAR-10 Batch 3:  Accuracy: 0.775 Cost: 1.278\n",
      "Epoch 19, CIFAR-10 Batch 4:  Accuracy: 0.675 Cost: 1.271\n",
      "Epoch 19, CIFAR-10 Batch 5:  Accuracy: 0.775 Cost: 1.267\n",
      "Epoch 20, CIFAR-10 Batch 1:  Accuracy: 0.700 Cost: 1.299\n",
      "Epoch 20, CIFAR-10 Batch 2:  Accuracy: 0.675 Cost: 1.287\n",
      "Epoch 20, CIFAR-10 Batch 3:  Accuracy: 0.775 Cost: 1.257\n",
      "Epoch 20, CIFAR-10 Batch 4:  Accuracy: 0.650 Cost: 1.288\n",
      "Epoch 20, CIFAR-10 Batch 5:  Accuracy: 0.775 Cost: 1.276\n"
      "Epoch  1, CIFAR-10 Batch 1:  Accuracy: 0.258 Cost: 2.091\n",
      "Epoch  1, CIFAR-10 Batch 2:  Accuracy: 0.297 Cost: 1.993\n",
      "Epoch  1, CIFAR-10 Batch 3:  Accuracy: 0.347 Cost: 1.673\n",
      "Epoch  1, CIFAR-10 Batch 4:  Accuracy: 0.375 Cost: 1.594\n",
      "Epoch  1, CIFAR-10 Batch 5:  Accuracy: 0.396 Cost: 1.804\n",
      "Epoch  2, CIFAR-10 Batch 1:  Accuracy: 0.408 Cost: 1.694\n",
      "Epoch  2, CIFAR-10 Batch 2:  Accuracy: 0.426 Cost: 1.621\n",
      "Epoch  2, CIFAR-10 Batch 3:  Accuracy: 0.404 Cost: 1.509\n",
      "Epoch  2, CIFAR-10 Batch 4:  Accuracy: 0.417 Cost: 1.572\n",
      "Epoch  2, CIFAR-10 Batch 5:  Accuracy: 0.435 Cost: 1.720\n",
      "Epoch  3, CIFAR-10 Batch 1:  Accuracy: 0.451 Cost: 1.644\n",
      "Epoch  3, CIFAR-10 Batch 2:  Accuracy: 0.426 Cost: 1.507\n",
      "Epoch  3, CIFAR-10 Batch 3:  Accuracy: 0.445 Cost: 1.384\n",
      "Epoch  3, CIFAR-10 Batch 4:  Accuracy: 0.449 Cost: 1.474\n",
      "Epoch  3, CIFAR-10 Batch 5:  Accuracy: 0.473 Cost: 1.538\n",
      "Epoch  4, CIFAR-10 Batch 1:  Accuracy: 0.475 Cost: 1.522\n",
      "Epoch  4, CIFAR-10 Batch 2:  Accuracy: 0.463 Cost: 1.391\n",
      "Epoch  4, CIFAR-10 Batch 3:  Accuracy: 0.480 Cost: 1.305\n",
      "Epoch  4, CIFAR-10 Batch 4:  Accuracy: 0.447 Cost: 1.306\n",
      "Epoch  4, CIFAR-10 Batch 5:  Accuracy: 0.488 Cost: 1.488\n",
      "Epoch  5, CIFAR-10 Batch 1:  Accuracy: 0.486 Cost: 1.458\n",
      "Epoch  5, CIFAR-10 Batch 2:  Accuracy: 0.475 Cost: 1.257\n",
      "Epoch  5, CIFAR-10 Batch 3:  Accuracy: 0.469 Cost: 1.163\n",
      "Epoch  5, CIFAR-10 Batch 4:  Accuracy: 0.490 Cost: 1.204\n",
      "Epoch  5, CIFAR-10 Batch 5:  Accuracy: 0.481 Cost: 1.468\n",
      "Epoch  6, CIFAR-10 Batch 1:  Accuracy: 0.486 Cost: 1.331\n",
      "Epoch  6, CIFAR-10 Batch 2:  Accuracy: 0.495 Cost: 1.199\n",
      "Epoch  6, CIFAR-10 Batch 3:  Accuracy: 0.495 Cost: 1.220\n",
      "Epoch  6, CIFAR-10 Batch 4:  Accuracy: 0.486 Cost: 1.264\n",
      "Epoch  6, CIFAR-10 Batch 5:  Accuracy: 0.498 Cost: 1.311\n",
      "Epoch  7, CIFAR-10 Batch 1:  Accuracy: 0.469 Cost: 1.287\n",
      "Epoch  7, CIFAR-10 Batch 2:  Accuracy: 0.504 Cost: 1.301\n",
      "Epoch  7, CIFAR-10 Batch 3:  Accuracy: 0.479 Cost: 1.136\n",
      "Epoch  7, CIFAR-10 Batch 4:  Accuracy: 0.518 Cost: 1.217\n",
      "Epoch  7, CIFAR-10 Batch 5:  Accuracy: 0.515 Cost: 1.311\n",
      "Epoch  8, CIFAR-10 Batch 1:  Accuracy: 0.514 Cost: 1.201\n",
      "Epoch  8, CIFAR-10 Batch 2:  Accuracy: 0.485 Cost: 1.042\n",
      "Epoch  8, CIFAR-10 Batch 3:  Accuracy: 0.491 Cost: 1.047\n",
      "Epoch  8, CIFAR-10 Batch 4:  Accuracy: 0.503 Cost: 1.130\n",
      "Epoch  8, CIFAR-10 Batch 5:  Accuracy: 0.501 Cost: 1.297\n",
      "Epoch  9, CIFAR-10 Batch 1:  Accuracy: 0.512 Cost: 1.154\n",
      "Epoch  9, CIFAR-10 Batch 2:  Accuracy: 0.494 Cost: 1.212\n",
      "Epoch  9, CIFAR-10 Batch 3:  Accuracy: 0.485 Cost: 1.039\n",
      "Epoch  9, CIFAR-10 Batch 4:  Accuracy: 0.526 Cost: 1.084\n",
      "Epoch  9, CIFAR-10 Batch 5:  Accuracy: 0.519 Cost: 1.307\n",
      "Epoch 10, CIFAR-10 Batch 1:  Accuracy: 0.520 Cost: 1.104\n",
      "Epoch 10, CIFAR-10 Batch 2:  Accuracy: 0.491 Cost: 1.058\n",
      "Epoch 10, CIFAR-10 Batch 3:  Accuracy: 0.499 Cost: 1.111\n",
      "Epoch 10, CIFAR-10 Batch 4:  Accuracy: 0.527 Cost: 1.061\n",
      "Epoch 10, CIFAR-10 Batch 5:  Accuracy: 0.506 Cost: 1.185\n",
      "Epoch 11, CIFAR-10 Batch 1:  Accuracy: 0.511 Cost: 1.196\n",
      "Epoch 11, CIFAR-10 Batch 2:  Accuracy: 0.507 Cost: 1.102\n",
      "Epoch 11, CIFAR-10 Batch 3:  Accuracy: 0.511 Cost: 1.033\n",
      "Epoch 11, CIFAR-10 Batch 4:  Accuracy: 0.524 Cost: 0.947\n",
      "Epoch 11, CIFAR-10 Batch 5:  Accuracy: 0.509 Cost: 1.205\n",
      "Epoch 12, CIFAR-10 Batch 1:  Accuracy: 0.506 Cost: 1.130\n",
      "Epoch 12, CIFAR-10 Batch 2:  Accuracy: 0.539 Cost: 1.041\n",
      "Epoch 12, CIFAR-10 Batch 3:  Accuracy: 0.469 Cost: 1.137\n",
      "Epoch 12, CIFAR-10 Batch 4:  Accuracy: 0.521 Cost: 0.936\n",
      "Epoch 12, CIFAR-10 Batch 5:  Accuracy: 0.535 Cost: 1.175\n",
      "Epoch 13, CIFAR-10 Batch 1:  Accuracy: 0.494 Cost: 1.163\n",
      "Epoch 13, CIFAR-10 Batch 2:  Accuracy: 0.538 Cost: 1.040\n",
      "Epoch 13, CIFAR-10 Batch 3:  Accuracy: 0.524 Cost: 1.002\n",
      "Epoch 13, CIFAR-10 Batch 4:  Accuracy: 0.535 Cost: 0.981\n",
      "Epoch 13, CIFAR-10 Batch 5:  Accuracy: 0.500 Cost: 1.295\n",
      "Epoch 14, CIFAR-10 Batch 1:  Accuracy: 0.517 Cost: 1.116\n",
      "Epoch 14, CIFAR-10 Batch 2:  Accuracy: 0.526 Cost: 1.040\n",
      "Epoch 14, CIFAR-10 Batch 3:  Accuracy: 0.519 Cost: 1.068\n",
      "Epoch 14, CIFAR-10 Batch 4:  Accuracy: 0.510 Cost: 1.105\n",
      "Epoch 14, CIFAR-10 Batch 5:  Accuracy: 0.531 Cost: 1.304\n",
      "Epoch 15, CIFAR-10 Batch 1:  Accuracy: 0.517 Cost: 1.024\n",
      "Epoch 15, CIFAR-10 Batch 2:  Accuracy: 0.541 Cost: 1.051\n",
      "Epoch 15, CIFAR-10 Batch 3:  Accuracy: 0.514 Cost: 0.936\n",
      "Epoch 15, CIFAR-10 Batch 4:  Accuracy: 0.526 Cost: 1.023\n",
      "Epoch 15, CIFAR-10 Batch 5:  Accuracy: 0.541 Cost: 1.127\n",
      "Epoch 16, CIFAR-10 Batch 1:  Accuracy: 0.515 Cost: 0.961\n",
      "Epoch 16, CIFAR-10 Batch 2:  Accuracy: 0.541 Cost: 0.928\n",
      "Epoch 16, CIFAR-10 Batch 3:  Accuracy: 0.514 Cost: 1.007\n",
      "Epoch 16, CIFAR-10 Batch 4:  Accuracy: 0.544 Cost: 0.980\n",
      "Epoch 16, CIFAR-10 Batch 5:  Accuracy: 0.526 Cost: 1.250\n",
      "Epoch 17, CIFAR-10 Batch 1:  Accuracy: 0.538 Cost: 0.980\n",
      "Epoch 17, CIFAR-10 Batch 2:  Accuracy: 0.555 Cost: 0.904\n",
      "Epoch 17, CIFAR-10 Batch 3:  Accuracy: 0.528 Cost: 0.957\n",
      "Epoch 17, CIFAR-10 Batch 4:  Accuracy: 0.524 Cost: 0.919\n",
      "Epoch 17, CIFAR-10 Batch 5:  Accuracy: 0.518 Cost: 1.270\n",
      "Epoch 18, CIFAR-10 Batch 1:  Accuracy: 0.536 Cost: 0.908\n",
      "Epoch 18, CIFAR-10 Batch 2:  Accuracy: 0.518 Cost: 0.938\n",
      "Epoch 18, CIFAR-10 Batch 3:  Accuracy: 0.503 Cost: 1.024\n",
      "Epoch 18, CIFAR-10 Batch 4:  Accuracy: 0.546 Cost: 1.023\n",
      "Epoch 18, CIFAR-10 Batch 5:  Accuracy: 0.517 Cost: 1.160\n",
      "Epoch 19, CIFAR-10 Batch 1:  Accuracy: 0.538 Cost: 0.855\n",
      "Epoch 19, CIFAR-10 Batch 2:  Accuracy: 0.543 Cost: 0.913\n",
      "Epoch 19, CIFAR-10 Batch 3:  Accuracy: 0.534 Cost: 0.949\n",
      "Epoch 19, CIFAR-10 Batch 4:  Accuracy: 0.541 Cost: 0.975\n",
      "Epoch 19, CIFAR-10 Batch 5:  Accuracy: 0.504 Cost: 1.215\n",
      "Epoch 20, CIFAR-10 Batch 1:  Accuracy: 0.546 Cost: 0.893\n",
      "Epoch 20, CIFAR-10 Batch 2:  Accuracy: 0.504 Cost: 0.935\n",
      "Epoch 20, CIFAR-10 Batch 3:  Accuracy: 0.541 Cost: 0.947\n",
      "Epoch 20, CIFAR-10 Batch 4:  Accuracy: 0.549 Cost: 0.878\n",
      "Epoch 20, CIFAR-10 Batch 5:  Accuracy: 0.543 Cost: 1.173\n",
      "Epoch 21, CIFAR-10 Batch 1:  Accuracy: 0.540 Cost: 0.891\n",
      "Epoch 21, CIFAR-10 Batch 2:  Accuracy: 0.534 Cost: 0.942\n",
      "Epoch 21, CIFAR-10 Batch 3:  Accuracy: 0.548 Cost: 0.933\n",
      "Epoch 21, CIFAR-10 Batch 4:  Accuracy: 0.552 Cost: 0.859\n",
      "Epoch 21, CIFAR-10 Batch 5:  Accuracy: 0.547 Cost: 1.109\n",
      "Epoch 22, CIFAR-10 Batch 1:  Accuracy: 0.539 Cost: 0.866\n",
      "Epoch 22, CIFAR-10 Batch 2:  Accuracy: 0.550 Cost: 0.830\n",
      "Epoch 22, CIFAR-10 Batch 3:  Accuracy: 0.532 Cost: 0.953\n",
      "Epoch 22, CIFAR-10 Batch 4:  Accuracy: 0.538 Cost: 0.963\n",
      "Epoch 22, CIFAR-10 Batch 5:  Accuracy: 0.532 Cost: 1.064\n",
      "Epoch 23, CIFAR-10 Batch 1:  Accuracy: 0.544 Cost: 0.798\n",
      "Epoch 23, CIFAR-10 Batch 2:  Accuracy: 0.538 Cost: 1.019\n",
      "Epoch 23, CIFAR-10 Batch 3:  Accuracy: 0.524 Cost: 0.924\n",
      "Epoch 23, CIFAR-10 Batch 4:  Accuracy: 0.521 Cost: 0.900\n",
      "Epoch 23, CIFAR-10 Batch 5:  Accuracy: 0.509 Cost: 1.190\n",
      "Epoch 24, CIFAR-10 Batch 1:  Accuracy: 0.546 Cost: 0.816\n",
      "Epoch 24, CIFAR-10 Batch 2:  Accuracy: 0.515 Cost: 0.934\n",
      "Epoch 24, CIFAR-10 Batch 3:  Accuracy: 0.536 Cost: 0.841\n",
      "Epoch 24, CIFAR-10 Batch 4:  Accuracy: 0.541 Cost: 0.948\n",
      "Epoch 24, CIFAR-10 Batch 5:  Accuracy: 0.524 Cost: 1.041\n",
      "Epoch 25, CIFAR-10 Batch 1:  Accuracy: 0.531 Cost: 0.771\n",
      "Epoch 25, CIFAR-10 Batch 2:  Accuracy: 0.537 Cost: 0.898\n",
      "Epoch 25, CIFAR-10 Batch 3:  Accuracy: 0.519 Cost: 0.891\n",
      "Epoch 25, CIFAR-10 Batch 4:  Accuracy: 0.527 Cost: 0.861\n",
      "Epoch 25, CIFAR-10 Batch 5:  Accuracy: 0.533 Cost: 1.016\n",
      "Epoch 26, CIFAR-10 Batch 1:  Accuracy: 0.519 Cost: 0.852\n",
      "Epoch 26, CIFAR-10 Batch 2:  Accuracy: 0.529 Cost: 0.887\n",
      "Epoch 26, CIFAR-10 Batch 3:  Accuracy: 0.533 Cost: 0.914\n",
      "Epoch 26, CIFAR-10 Batch 4:  Accuracy: 0.548 Cost: 0.768\n",
      "Epoch 26, CIFAR-10 Batch 5:  Accuracy: 0.544 Cost: 1.103\n",
      "Epoch 27, CIFAR-10 Batch 1:  Accuracy: 0.555 Cost: 0.807\n",
      "Epoch 27, CIFAR-10 Batch 2:  Accuracy: 0.537 Cost: 0.861\n",
      "Epoch 27, CIFAR-10 Batch 3:  Accuracy: 0.533 Cost: 0.852\n",
      "Epoch 27, CIFAR-10 Batch 4:  Accuracy: 0.525 Cost: 0.841\n",
      "Epoch 27, CIFAR-10 Batch 5:  Accuracy: 0.495 Cost: 1.084\n",
      "Epoch 28, CIFAR-10 Batch 1:  Accuracy: 0.556 Cost: 0.731\n",
      "Epoch 28, CIFAR-10 Batch 2:  Accuracy: 0.545 Cost: 0.836\n",
      "Epoch 28, CIFAR-10 Batch 3:  Accuracy: 0.533 Cost: 0.854\n",
      "Epoch 28, CIFAR-10 Batch 4:  Accuracy: 0.540 Cost: 0.849\n",
      "Epoch 28, CIFAR-10 Batch 5:  Accuracy: 0.547 Cost: 1.131\n",
      "Epoch 29, CIFAR-10 Batch 1:  Accuracy: 0.543 Cost: 0.776\n",
      "Epoch 29, CIFAR-10 Batch 2:  Accuracy: 0.512 Cost: 0.881\n",
      "Epoch 29, CIFAR-10 Batch 3:  Accuracy: 0.536 Cost: 0.832\n"
     ]
    },
    {
     "name": "stdout",
     "output_type": "stream",
     "text": [
      "Epoch 29, CIFAR-10 Batch 4:  Accuracy: 0.529 Cost: 0.775\n",
      "Epoch 29, CIFAR-10 Batch 5:  Accuracy: 0.539 Cost: 1.078\n",
      "Epoch 30, CIFAR-10 Batch 1:  Accuracy: 0.528 Cost: 0.811\n",
      "Epoch 30, CIFAR-10 Batch 2:  Accuracy: 0.538 Cost: 0.813\n",
      "Epoch 30, CIFAR-10 Batch 3:  Accuracy: 0.515 Cost: 0.862\n",
      "Epoch 30, CIFAR-10 Batch 4:  Accuracy: 0.550 Cost: 0.751\n",
      "Epoch 30, CIFAR-10 Batch 5:  Accuracy: 0.545 Cost: 0.992\n"
     ]
    }
   ],
   "source": [
    "\"\"\"\n",
    "DON'T MODIFY ANYTHING IN THIS CELL\n",
    "\"\"\"\n",
    "save_model_path = './image_classification'\n",
    "\n",
    "print('Training...')\n",
    "with tf.Session() as sess:\n",
    "    # Initializing the variables\n",
    "    sess.run(tf.global_variables_initializer())\n",
    "    \n",
    "    # Training cycle\n",
    "    for epoch in range(epochs):\n",
    "        # Loop over all batches\n",
    "        n_batches = 5\n",
    "        for batch_i in range(1, n_batches + 1):\n",
    "            for batch_features, batch_labels in helper.load_preprocess_training_batch(batch_i, batch_size):\n",
    "                train_neural_network(sess, optimizer, keep_probability, batch_features, batch_labels)\n",
    "            print('Epoch {:>2}, CIFAR-10 Batch {}:  '.format(epoch + 1, batch_i), end='')\n",
    "            print_stats(sess, batch_features, batch_labels, cost, accuracy)\n",
    "            \n",
    "    # Save Model\n",
    "    saver = tf.train.Saver()\n",
    "    save_path = saver.save(sess, save_model_path)"
   ]
  },
  {
   "cell_type": "markdown",
   "metadata": {},
   "source": [
    "# Checkpoint\n",
    "The model has been saved to disk.\n",
    "## Test Model\n",
    "Test your model against the test dataset.  This will be your final accuracy. You should have an accuracy greater than 50%. If you don't, keep tweaking the model architecture and parameters."
   ]
  },
  {
   "cell_type": "code",
   "execution_count": 18,
   "execution_count": 31,
   "metadata": {},
   "outputs": [
    {
     "name": "stdout",
     "output_type": "stream",
     "text": [
      "Testing Accuracy: 0.5505859375\n",
      "Testing Accuracy: 0.5369140625\n",
      "\n"
     ]
    },
    {
     "data": {
      "image/png": "iVBORw0KGgoAAAANSUhEUgAAAscAAAJ/CAYAAACUb342AAAABHNCSVQICAgIfAhkiAAAAAlwSFlz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\nERERkej/A1c7DGSSfeDCAAAAAElFTkSuQmCC\n",
      "image/png": "iVBORw0KGgoAAAANSUhEUgAAAscAAAJ/CAYAAACUb342AAAABHNCSVQICAgIfAhkiAAAAAlwSFlz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\niEikybGIiIiISPT/AbBD1x3R5wTzAAAAAElFTkSuQmCC\n",
      "text/plain": [
       "<matplotlib.figure.Figure at 0x1073aa646a0>"
       "<matplotlib.figure.Figure at 0x19d8044b978>"
      ]
     },
     "metadata": {
      "image/png": {
       "height": 319,
       "width": 355
      }
     },
     "output_type": "display_data"
    }
   ],
   "source": [
    "\"\"\"\n",
    "DON'T MODIFY ANYTHING IN THIS CELL\n",
    "\"\"\"\n",
    "%matplotlib inline\n",
    "%config InlineBackend.figure_format = 'retina'\n",
    "\n",
    "import tensorflow as tf\n",
    "import pickle\n",
    "import helper\n",
    "import random\n",
    "\n",
    "# Set batch size if not already set\n",
    "try:\n",
    "    if batch_size:\n",
    "        pass\n",
    "except NameError:\n",
    "    batch_size = 64\n",
    "\n",
    "save_model_path = './image_classification'\n",
    "n_samples = 4\n",
    "top_n_predictions = 3\n",
    "\n",
    "def test_model():\n",
    "    \"\"\"\n",
    "    Test the saved model against the test dataset\n",
    "    \"\"\"\n",
    "\n",
    "    test_features, test_labels = pickle.load(open('preprocess_test.p', mode='rb'))\n",
    "    loaded_graph = tf.Graph()\n",
    "\n",
    "    with tf.Session(graph=loaded_graph) as sess:\n",
    "        # Load model\n",
    "        loader = tf.train.import_meta_graph(save_model_path + '.meta')\n",
    "        loader.restore(sess, save_model_path)\n",
    "\n",
    "        # Get Tensors from loaded model\n",
    "        loaded_x = loaded_graph.get_tensor_by_name('x:0')\n",
    "        loaded_y = loaded_graph.get_tensor_by_name('y:0')\n",
    "        loaded_keep_prob = loaded_graph.get_tensor_by_name('keep_prob:0')\n",
    "        loaded_logits = loaded_graph.get_tensor_by_name('logits:0')\n",
    "        loaded_acc = loaded_graph.get_tensor_by_name('accuracy:0')\n",
    "        \n",
    "        # Get accuracy in batches for memory limitations\n",
    "        test_batch_acc_total = 0\n",
    "        test_batch_count = 0\n",
    "        \n",
    "        for test_feature_batch, test_label_batch in helper.batch_features_labels(test_features, test_labels, batch_size):\n",
    "            test_batch_acc_total += sess.run(\n",
    "                loaded_acc,\n",
    "                feed_dict={loaded_x: test_feature_batch, loaded_y: test_label_batch, loaded_keep_prob: 1.0})\n",
    "            test_batch_count += 1\n",
    "\n",
    "        print('Testing Accuracy: {}\\n'.format(test_batch_acc_total/test_batch_count))\n",
    "\n",
    "        # Print Random Samples\n",
    "        random_test_features, random_test_labels = tuple(zip(*random.sample(list(zip(test_features, test_labels)), n_samples)))\n",
    "        random_test_predictions = sess.run(\n",
    "            tf.nn.top_k(tf.nn.softmax(loaded_logits), top_n_predictions),\n",
    "            feed_dict={loaded_x: random_test_features, loaded_y: random_test_labels, loaded_keep_prob: 1.0})\n",
    "        helper.display_image_predictions(random_test_features, random_test_labels, random_test_predictions)\n",
    "\n",
    "\n",
    "test_model()"
   ]
  },
  {
   "cell_type": "markdown",
   "metadata": {},
   "source": [
    "## Why 50-80% Accuracy?\n",
    "You might be wondering why you can't get an accuracy any higher. First things first, 50% isn't bad for a simple CNN.  Pure guessing would get you 10% accuracy. However, you might notice people are getting scores [well above 80%](http://rodrigob.github.io/are_we_there_yet/build/classification_datasets_results.html#43494641522d3130).  That's because we haven't taught you all there is to know about neural networks. We still need to cover a few more techniques.\n",
    "## Submitting This Project\n",
    "When submitting this project, make sure to run all the cells before saving the notebook.  Save the notebook file as \"dlnd_image_classification.ipynb\" and save it as a HTML file under \"File\" -> \"Download as\".  Include the \"helper.py\" and \"problem_unittests.py\" files in your submission."
   ]
  }
 ],
 "metadata": {
  "anaconda-cloud": {},
  "kernelspec": {
   "display_name": "Python 3",
   "language": "python",
   "name": "python3"
  },
  "language_info": {
   "codemirror_mode": {
    "name": "ipython",
    "version": 3
   },
   "file_extension": ".py",
   "mimetype": "text/x-python",
   "name": "python",
   "nbconvert_exporter": "python",
   "pygments_lexer": "ipython3",
   "version": "3.5.3"
  }
 },
 "nbformat": 4,
 "nbformat_minor": 1
}
{
 "cells": [
  {
   "cell_type": "markdown",
   "metadata": {
    "collapsed": true    "collapsed": true,
    "deletable": true,
    "editable": true
   },
   "source": [
    "# Image Classification\n",
    "In this project, you'll classify images from the [CIFAR-10 dataset](https://www.cs.toronto.edu/~kriz/cifar.html).  The dataset consists of airplanes, dogs, cats, and other objects. You'll preprocess the images, then train a convolutional neural network on all the samples. The images need to be normalized and the labels need to be one-hot encoded.  You'll get to apply what you learned and build a convolutional, max pooling, dropout, and fully connected layers.  At the end, you'll get to see your neural network's predictions on the sample images.\n",
    "## Get the Data\n",
    "Run the following cell to download the [CIFAR-10 dataset for python](https://www.cs.toronto.edu/~kriz/cifar-10-python.tar.gz)."
   ]
  },
  {
   "cell_type": "code",
   "execution_count": 2,
   "metadata": {},
   "execution_count": 1,
   "metadata": {
    "collapsed": false,
    "deletable": true,
    "editable": true
   },
   "outputs": [
    {
     "name": "stdout",
     "output_type": "stream",
     "text": [
      "All files found!\n"
     ]
    }
   ],
   "source": [
    "\"\"\"\n",
    "DON'T MODIFY ANYTHING IN THIS CELL THAT IS BELOW THIS LINE\n",
    "\"\"\"\n",
    "from urllib.request import urlretrieve\n",
    "from os.path import isfile, isdir\n",
    "from tqdm import tqdm\n",
    "import problem_unittests as tests\n",
    "import tarfile\n",
    "\n",
    "cifar10_dataset_folder_path = 'cifar-10-batches-py'\n",
    "\n",
    "# Use Floyd's cifar-10 dataset if present\n",
    "floyd_cifar10_location = '/input/cifar-10/python.tar.gz'\n",
    "if isfile(floyd_cifar10_location):\n",
    "    tar_gz_path = floyd_cifar10_location\n",
    "else:\n",
    "    tar_gz_path = 'cifar-10-python.tar.gz'\n",
    "\n",
    "class DLProgress(tqdm):\n",
    "    last_block = 0\n",
    "\n",
    "    def hook(self, block_num=1, block_size=1, total_size=None):\n",
    "        self.total = total_size\n",
    "        self.update((block_num - self.last_block) * block_size)\n",
    "        self.last_block = block_num\n",
    "\n",
    "if not isfile(tar_gz_path):\n",
    "    with DLProgress(unit='B', unit_scale=True, miniters=1, desc='CIFAR-10 Dataset') as pbar:\n",
    "        urlretrieve(\n",
    "            'https://www.cs.toronto.edu/~kriz/cifar-10-python.tar.gz',\n",
    "            tar_gz_path,\n",
    "            pbar.hook)\n",
    "\n",
    "if not isdir(cifar10_dataset_folder_path):\n",
    "    with tarfile.open(tar_gz_path) as tar:\n",
    "        tar.extractall()\n",
    "        tar.close()\n",
    "\n",
    "\n",
    "tests.test_folder_path(cifar10_dataset_folder_path)"
   ]
  },
  {
   "cell_type": "markdown",
   "metadata": {},   "metadata": {
    "deletable": true,
    "editable": true
   },
   "source": [
    "## Explore the Data\n",
    "The dataset is broken into batches to prevent your machine from running out of memory.  The CIFAR-10 dataset consists of 5 batches, named `data_batch_1`, `data_batch_2`, etc.. Each batch contains the labels and images that are one of the following:\n",
    "* airplane\n",
    "* automobile\n",
    "* bird\n",
    "* cat\n",
    "* deer\n",
    "* dog\n",
    "* frog\n",
    "* horse\n",
    "* ship\n",
    "* truck\n",
    "\n",
    "Understanding a dataset is part of making predictions on the data.  Play around with the code cell below by changing the `batch_id` and `sample_id`. The `batch_id` is the id for a batch (1-5). The `sample_id` is the id for a image and label pair in the batch.\n",
    "\n",
    "Ask yourself \"What are all possible labels?\", \"What is the range of values for the image data?\", \"Are the labels in order or random?\".  Answers to questions like these will help you preprocess the data and end up with better predictions."
   ]
  },
  {
   "cell_type": "code",
   "execution_count": 3,
   "metadata": {},
   "execution_count": 2,
   "metadata": {
    "collapsed": false,
    "deletable": true,
    "editable": true
   },
   "outputs": [
    {
     "name": "stdout",
     "output_type": "stream",
     "text": [
      "\n",
      "Stats of batch 3:\n",
      "Samples: 10000\n",
      "Label Counts: {0: 994, 1: 1042, 2: 965, 3: 997, 4: 990, 5: 1029, 6: 978, 7: 1015, 8: 961, 9: 1029}\n",
      "First 20 Labels: [8, 5, 0, 6, 9, 2, 8, 3, 6, 2, 7, 4, 6, 9, 0, 0, 7, 3, 7, 2]\n",
      "\n",
      "Example of Image 42:\n",
      "Image - Min Value: 11 Max Value: 254\n",
      "Image - Shape: (32, 32, 3)\n",
      "Label - Label Id: 1 Name: automobile\n"
     ]
    },
    {
     "data": {
      "image/png": "iVBORw0KGgoAAAANSUhEUgAAAfoAAAH0CAYAAADVH+85AAAABHNCSVQICAgIfAhkiAAAAAlwSFlz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\nih4AClP0AFCYogeAwhQ9ABT2fwAhow/j9dWySgAAAABJRU5ErkJggg==\n",
      "text/plain": [
       "<matplotlib.figure.Figure at 0x29aa9c66f28>"
       "<matplotlib.figure.Figure at 0x7f297620ad30>"
      ]
     },
     "metadata": {
      "image/png": {
       "height": 250,
       "width": 253
      }
     },
     "output_type": "display_data"
    }
   ],
   "source": [
    "%matplotlib inline\n",
    "%config InlineBackend.figure_format = 'retina'\n",
    "\n",
    "import helper\n",
    "import numpy as np\n",
    "\n",
    "# Explore the dataset\n",
    "batch_id = 3\n",
    "sample_id = 42\n",
    "helper.display_stats(cifar10_dataset_folder_path, batch_id, sample_id)"
   ]
  },
  {
   "cell_type": "markdown",
   "metadata": {},   "metadata": {
    "deletable": true,
    "editable": true
   },
   "source": [
    "## Implement Preprocess Functions\n",
    "### Normalize\n",
    "In the cell below, implement the `normalize` function to take in image data, `x`, and return it as a normalized Numpy array. The values should be in the range of 0 to 1, inclusive.  The return object should be the same shape as `x`."
   ]
  },
  {
   "cell_type": "code",
   "execution_count": 5,
   "metadata": {},
   "execution_count": 3,
   "metadata": {
    "collapsed": false,
    "deletable": true,
    "editable": true
   },
   "outputs": [
    {
     "name": "stdout",
     "output_type": "stream",
     "text": [
      "Tests Passed\n"
     ]
    }
   ],
   "source": [
    "def normalize(x):\n",
    "    \"\"\"\n",
    "    Normalize a list of sample image data in the range of 0 to 1\n",
    "    : x: List of image data.  The image shape is (32, 32, 3)\n",
    "    : return: Numpy array of normalize data\n",
    "    \"\"\"\n",
    "    # TODO: Implement Function\n",
    "    return (x-np.min(x))/(np.max(x)-np.min(x))\n",
    "\n",
    "\n",
    "\"\"\"\n",
    "DON'T MODIFY ANYTHING IN THIS CELL THAT IS BELOW THIS LINE\n",
    "\"\"\"\n",
    "tests.test_normalize(normalize)"
   ]
  },
  {
   "cell_type": "markdown",
   "metadata": {},   "metadata": {
    "deletable": true,
    "editable": true
   },
   "source": [
    "### One-hot encode\n",
    "Just like the previous code cell, you'll be implementing a function for preprocessing.  This time, you'll implement the `one_hot_encode` function. The input, `x`, are a list of labels.  Implement the function to return the list of labels as One-Hot encoded Numpy array.  The possible values for labels are 0 to 9. The one-hot encoding function should return the same encoding for each value between each call to `one_hot_encode`.  Make sure to save the map of encodings outside the function.\n",
    "\n",
    "Hint: Don't reinvent the wheel."
   ]
  },
  {
   "cell_type": "code",
   "execution_count": 8,
   "metadata": {},
   "execution_count": 4,
   "metadata": {
    "collapsed": false,
    "deletable": true,
    "editable": true
   },
   "outputs": [
    {
     "name": "stdout",
     "output_type": "stream",
     "text": [
      "Tests Passed\n"
     ]
    }
   ],
   "source": [
    "def one_hot_encode(x):\n",
    "    \"\"\"\n",
    "    One hot encode a list of sample labels. Return a one-hot encoded vector for each label.\n",
    "    : x: List of sample Labels\n",
    "    : return: Numpy array of one-hot encoded labels\n",
    "    \"\"\"\n",
    "    # TODO: Implement Function\n",
    "    return np.eye(max(x)+1)[x] #not sure why this fails on the first try but then passes\n",
    "   \n",
    "\"\"\"\n",
    "DON'T MODIFY ANYTHING IN THIS CELL THAT IS BELOW THIS LINE\n",
    "\"\"\"\n",
    "tests.test_one_hot_encode(one_hot_encode)"
   ]
  },
  {
   "cell_type": "markdown",
   "metadata": {},   "metadata": {
    "deletable": true,
    "editable": true
   },
   "source": [
    "### Randomize Data\n",
    "As you saw from exploring the data above, the order of the samples are randomized.  It doesn't hurt to randomize it again, but you don't need to for this dataset."
   ]
  },
  {
   "cell_type": "markdown",
   "metadata": {},   "metadata": {
    "deletable": true,
    "editable": true
   },
   "source": [
    "## Preprocess all the data and save it\n",
    "Running the code cell below will preprocess all the CIFAR-10 data and save it to file. The code below also uses 10% of the training data for validation."
   ]
  },
  {
   "cell_type": "code",
   "execution_count": 9,
   "execution_count": 5,
   "metadata": {
    "collapsed": true    "collapsed": true,
    "deletable": true,
    "editable": true
   },
   "outputs": [],
   "source": [
    "\"\"\"\n",
    "DON'T MODIFY ANYTHING IN THIS CELL\n",
    "\"\"\"\n",
    "# Preprocess Training, Validation, and Testing Data\n",
    "helper.preprocess_and_save_data(cifar10_dataset_folder_path, normalize, one_hot_encode)"
   ]
  },
  {
   "cell_type": "markdown",
   "metadata": {},   "metadata": {
    "deletable": true,
    "editable": true
   },
   "source": [
    "# Check Point\n",
    "This is your first checkpoint.  If you ever decide to come back to this notebook or have to restart the notebook, you can start from here.  The preprocessed data has been saved to disk."
   ]
  },
  {
   "cell_type": "code",
   "execution_count": 10,
   "execution_count": 6,
   "metadata": {
    "collapsed": true    "collapsed": true,
    "deletable": true,
    "editable": true
   },
   "outputs": [],
   "source": [
    "\"\"\"\n",
    "DON'T MODIFY ANYTHING IN THIS CELL\n",
    "\"\"\"\n",
    "import pickle\n",
    "import problem_unittests as tests\n",
    "import helper\n",
    "\n",
    "# Load the Preprocessed Validation data\n",
    "valid_features, valid_labels = pickle.load(open('preprocess_validation.p', mode='rb'))"
   ]
  },
  {
   "cell_type": "markdown",
   "metadata": {},   "metadata": {
    "deletable": true,
    "editable": true
   },
   "source": [
    "## Build the network\n",
    "For the neural network, you'll build each layer into a function.  Most of the code you've seen has been outside of functions. To test your code more thoroughly, we require that you put each layer in a function.  This allows us to give you better feedback and test for simple mistakes using our unittests before you submit your project.\n",
    "\n",
    ">**Note:** If you're finding it hard to dedicate enough time for this course each week, we've provided a small shortcut to this part of the project. In the next couple of problems, you'll have the option to use classes from the [TensorFlow Layers](https://www.tensorflow.org/api_docs/python/tf/layers) or [TensorFlow Layers (contrib)](https://www.tensorflow.org/api_guides/python/contrib.layers) packages to build each layer, except the layers you build in the \"Convolutional and Max Pooling Layer\" section.  TF Layers is similar to Keras's and TFLearn's abstraction to layers, so it's easy to pickup.\n",
    "\n",
    ">However, if you would like to get the most out of this course, try to solve all the problems _without_ using anything from the TF Layers packages. You **can** still use classes from other packages that happen to have the same name as ones you find in TF Layers! For example, instead of using the TF Layers version of the `conv2d` class, [tf.layers.conv2d](https://www.tensorflow.org/api_docs/python/tf/layers/conv2d), you would want to use the TF Neural Network version of `conv2d`, [tf.nn.conv2d](https://www.tensorflow.org/api_docs/python/tf/nn/conv2d). \n",
    "\n",
    "Let's begin!\n",
    "\n",
    "### Input\n",
    "The neural network needs to read the image data, one-hot encoded labels, and dropout keep probability. Implement the following functions\n",
    "* Implement `neural_net_image_input`\n",
    " * Return a [TF Placeholder](https://www.tensorflow.org/api_docs/python/tf/placeholder)\n",
    " * Set the shape using `image_shape` with batch size set to `None`.\n",
    " * Name the TensorFlow placeholder \"x\" using the TensorFlow `name` parameter in the [TF Placeholder](https://www.tensorflow.org/api_docs/python/tf/placeholder).\n",
    "* Implement `neural_net_label_input`\n",
    " * Return a [TF Placeholder](https://www.tensorflow.org/api_docs/python/tf/placeholder)\n",
    " * Set the shape using `n_classes` with batch size set to `None`.\n",
    " * Name the TensorFlow placeholder \"y\" using the TensorFlow `name` parameter in the [TF Placeholder](https://www.tensorflow.org/api_docs/python/tf/placeholder).\n",
    "* Implement `neural_net_keep_prob_input`\n",
    " * Return a [TF Placeholder](https://www.tensorflow.org/api_docs/python/tf/placeholder) for dropout keep probability.\n",
    " * Name the TensorFlow placeholder \"keep_prob\" using the TensorFlow `name` parameter in the [TF Placeholder](https://www.tensorflow.org/api_docs/python/tf/placeholder).\n",
    "\n",
    "These names will be used at the end of the project to load your saved model.\n",
    "\n",
    "Note: `None` for shapes in TensorFlow allow for a dynamic size."
   ]
  },
  {
   "cell_type": "code",
   "execution_count": 11,
   "metadata": {},
   "execution_count": 8,
   "metadata": {
    "collapsed": false,
    "deletable": true,
    "editable": true
   },
   "outputs": [
    {
     "name": "stdout",
     "output_type": "stream",
     "text": [
      "Image Input Tests Passed.\n",
      "Label Input Tests Passed.\n",
      "Keep Prob Tests Passed.\n"
     ]
    }
   ],
   "source": [
    "import tensorflow as tf\n",
    "\n",
    "def neural_net_image_input(image_shape):\n",
    "    \"\"\"\n",
    "    Return a Tensor for a batch of image input\n",
    "    : image_shape: Shape of the images\n",
    "    : return: Tensor for image input.\n",
    "    \"\"\"\n",
    "    return tf.placeholder(tf.float32, [None, *image_shape], name='x')\n",
    "\n",
    "\n",
    "def neural_net_label_input(n_classes):\n",
    "    \"\"\"\n",
    "    Return a Tensor for a batch of label input\n",
    "    : n_classes: Number of classes\n",
    "    : return: Tensor for label input.\n",
    "    \"\"\"\n",
    "    return tf.placeholder(tf.float32, [None, n_classes], name='y')\n",
    "\n",
    "\n",
    "def neural_net_keep_prob_input():\n",
    "    \"\"\"\n",
    "    Return a Tensor for keep probability\n",
    "    : return: Tensor for keep probability.\n",
    "    \"\"\"\n",
    "    return tf.placeholder(tf.float32, name='keep_prob')\n",
    "\n",
    "\n",
    "\"\"\"\n",
    "DON'T MODIFY ANYTHING IN THIS CELL THAT IS BELOW THIS LINE\n",
    "\"\"\"\n",
    "tf.reset_default_graph()\n",
    "tests.test_nn_image_inputs(neural_net_image_input)\n",
    "tests.test_nn_label_inputs(neural_net_label_input)\n",
    "tests.test_nn_keep_prob_inputs(neural_net_keep_prob_input)"
   ]
  },
  {
   "cell_type": "markdown",
   "metadata": {},   "metadata": {
    "deletable": true,
    "editable": true
   },
   "source": [
    "### Convolution and Max Pooling Layer\n",
    "Convolution layers have a lot of success with images. For this code cell, you should implement the function `conv2d_maxpool` to apply convolution then max pooling:\n",
    "* Create the weight and bias using `conv_ksize`, `conv_num_outputs` and the shape of `x_tensor`.\n",
    "* Apply a convolution to `x_tensor` using weight and `conv_strides`.\n",
    " * We recommend you use same padding, but you're welcome to use any padding.\n",
    "* Add bias\n",
    "* Add a nonlinear activation to the convolution.\n",
    "* Apply Max Pooling using `pool_ksize` and `pool_strides`.\n",
    " * We recommend you use same padding, but you're welcome to use any padding.\n",
    "\n",
    "**Note:** You **can't** use [TensorFlow Layers](https://www.tensorflow.org/api_docs/python/tf/layers) or [TensorFlow Layers (contrib)](https://www.tensorflow.org/api_guides/python/contrib.layers) for **this** layer, but you can still use TensorFlow's [Neural Network](https://www.tensorflow.org/api_docs/python/tf/nn) package. You may still use the shortcut option for all the **other** layers."
   ]
  },
  {
   "cell_type": "code",
   "execution_count": 34,
   "metadata": {},
   "execution_count": 9,
   "metadata": {
    "collapsed": false,
    "deletable": true,
    "editable": true
   },
   "outputs": [
    {
     "name": "stdout",
     "output_type": "stream",
     "text": [
      "Tests Passed\n"
     ]
    }
   ],
   "source": [
    "def conv2d_maxpool(x_tensor, conv_num_outputs, conv_ksize, conv_strides, pool_ksize, pool_strides):\n",
    "    \"\"\"\n",
    "    Apply convolution then max pooling to x_tensor\n",
    "    :param x_tensor: TensorFlow Tensor\n",
    "    :param conv_num_outputs: Number of outputs for the convolutional layer\n",
    "    :param conv_ksize: kernal size 2-D Tuple for the convolutional layer\n",
    "    :param conv_strides: Stride 2-D Tuple for convolution\n",
    "    :param pool_ksize: kernal size 2-D Tuple for pool\n",
    "    :param pool_strides: Stride 2-D Tuple for pool\n",
    "    : return: A tensor that represents convolution and max pooling of x_tensor\n",
    "    \"\"\"\n",
    "    weight = tf.Variable(tf.truncated_normal([conv_ksize[0], conv_ksize[1], x_tensor.get_shape().as_list()[-1], conv_num_outputs],\n",
    "                                            stddev=0.1))\n",
    "    bias = tf.Variable(tf.constant(0.0, shape=[conv_num_outputs]))\n",
    "    strides = [1, conv_strides[0], conv_strides[1], 1]\n",
    "    \n",
    "    conv1 = tf.nn.conv2d(x_tensor, weight, strides, padding='SAME')\n",
    "    conv1 = tf.nn.bias_add(conv1, bias)\n",
    "    conv1 = tf.nn.relu(conv1)\n",
    "    \n",
    "    conv1 = tf.nn.max_pool(conv1, ksize=[1, pool_ksize[0], pool_ksize[1], 1], strides=[1, pool_strides[0], pool_strides[1], 1],\n",
    "                          padding='SAME')\n",
    "    return conv1\n",
    "\n",
    "\"\"\"\n",
    "DON'T MODIFY ANYTHING IN THIS CELL THAT IS BELOW THIS LINE\n",
    "\"\"\"\n",
    "tests.test_con_pool(conv2d_maxpool)"
   ]
  },
  {
   "cell_type": "markdown",
   "metadata": {},   "metadata": {
    "deletable": true,
    "editable": true
   },
   "source": [
    "### Flatten Layer\n",
    "Implement the `flatten` function to change the dimension of `x_tensor` from a 4-D tensor to a 2-D tensor.  The output should be the shape (*Batch Size*, *Flattened Image Size*). Shortcut option: you can use classes from the [TensorFlow Layers](https://www.tensorflow.org/api_docs/python/tf/layers) or [TensorFlow Layers (contrib)](https://www.tensorflow.org/api_guides/python/contrib.layers) packages for this layer. For more of a challenge, only use other TensorFlow packages."
   ]
  },
  {
   "cell_type": "code",
   "execution_count": 35,
   "metadata": {},
   "execution_count": 10,
   "metadata": {
    "collapsed": false,
    "deletable": true,
    "editable": true
   },
   "outputs": [
    {
     "name": "stdout",
     "output_type": "stream",
     "text": [
      "Tests Passed\n"
     ]
    }
   ],
   "source": [
    "def flatten(x_tensor):\n",
    "    \"\"\"\n",
    "    Flatten x_tensor to (Batch Size, Flattened Image Size)\n",
    "    : x_tensor: A tensor of size (Batch Size, ...), where ... are the image dimensions.\n",
    "    : return: A tensor of size (Batch Size, Flattened Image Size).\n",
    "    \"\"\"\n",
    "    return tf.reshape(x_tensor, [-1, np.prod(x_tensor.get_shape().as_list()[1:])])\n",
    "\n",
    "\"\"\"\n",
    "DON'T MODIFY ANYTHING IN THIS CELL THAT IS BELOW THIS LINE\n",
    "\"\"\"\n",
    "tests.test_flatten(flatten)"
   ]
  },
  {
   "cell_type": "markdown",
   "metadata": {},   "metadata": {
    "deletable": true,
    "editable": true
   },
   "source": [
    "### Fully-Connected Layer\n",
    "Implement the `fully_conn` function to apply a fully connected layer to `x_tensor` with the shape (*Batch Size*, *num_outputs*). Shortcut option: you can use classes from the [TensorFlow Layers](https://www.tensorflow.org/api_docs/python/tf/layers) or [TensorFlow Layers (contrib)](https://www.tensorflow.org/api_guides/python/contrib.layers) packages for this layer. For more of a challenge, only use other TensorFlow packages."
   ]
  },
  {
   "cell_type": "code",
   "execution_count": 36,
   "metadata": {},
   "execution_count": 13,
   "metadata": {
    "collapsed": false,
    "deletable": true,
    "editable": true
   },
   "outputs": [
    {
     "name": "stdout",
     "output_type": "stream",
     "text": [
      "Tests Passed\n"
     ]
    }
   ],
   "source": [
    "def fully_conn(x_tensor, num_outputs):\n",
    "    \"\"\"\n",
    "    Apply a fully connected layer to x_tensor using weight and bias\n",
    "    : x_tensor: A 2-D tensor where the first dimension is batch size.\n",
    "    : num_outputs: The number of output that the new tensor should be.\n",
    "    : return: A 2-D tensor where the second dimension is num_outputs.\n",
    "    \"\"\"\n",
    "    return tf.nn.relu(output(x_tensor, num_outputs))\n",
    "\"\"\"\n",
    "DON'T MODIFY ANYTHING IN THIS CELL THAT IS BELOW THIS LINE\n",
    "\"\"\"\n",
    "tests.test_fully_conn(fully_conn)"
   ]
  },
  {
   "cell_type": "markdown",
   "metadata": {},   "metadata": {
    "deletable": true,
    "editable": true
   },
   "source": [
    "### Output Layer\n",
    "Implement the `output` function to apply a fully connected layer to `x_tensor` with the shape (*Batch Size*, *num_outputs*). Shortcut option: you can use classes from the [TensorFlow Layers](https://www.tensorflow.org/api_docs/python/tf/layers) or [TensorFlow Layers (contrib)](https://www.tensorflow.org/api_guides/python/contrib.layers) packages for this layer. For more of a challenge, only use other TensorFlow packages.\n",
    "\n",
    "**Note:** Activation, softmax, or cross entropy should **not** be applied to this."
   ]
  },
  {
   "cell_type": "code",
   "execution_count": 37,
   "metadata": {},
   "execution_count": 12,
   "metadata": {
    "collapsed": false,
    "deletable": true,
    "editable": true
   },
   "outputs": [
    {
     "name": "stdout",
     "output_type": "stream",
     "text": [
      "Tests Passed\n"
     ]
    }
   ],
   "source": [
    "def output(x_tensor, num_outputs):\n",
    "    \"\"\"\n",
    "    Apply a output layer to x_tensor using weight and bias\n",
    "    : x_tensor: A 2-D tensor where the first dimension is batch size.\n",
    "    : num_outputs: The number of output that the new tensor should be.\n",
    "    : return: A 2-D tensor where the second dimension is num_outputs.\n",
    "    \"\"\"\n",
    "    weights = tf.Variable(tf.truncated_normal([x_tensor.get_shape().as_list()[1], num_outputs], stddev=0.1))\n",
    "    bias = tf.Variable(tf.truncated_normal([num_outputs], stddev=0.1))\n",
    "    return tf.add(tf.matmul(x_tensor, weights), bias)\n",
    "\n",
    "\"\"\"\n",
    "DON'T MODIFY ANYTHING IN THIS CELL THAT IS BELOW THIS LINE\n",
    "\"\"\"\n",
    "tests.test_output(output)"
   ]
  },
  {
   "cell_type": "markdown",
   "metadata": {},   "metadata": {
    "deletable": true,
    "editable": true
   },
   "source": [
    "### Create Convolutional Model\n",
    "Implement the function `conv_net` to create a convolutional neural network model. The function takes in a batch of images, `x`, and outputs logits.  Use the layers you created above to create this model:\n",
    "\n",
    "* Apply 1, 2, or 3 Convolution and Max Pool layers\n",
    "* Apply a Flatten Layer\n",
    "* Apply 1, 2, or 3 Fully Connected Layers\n",
    "* Apply an Output Layer\n",
    "* Return the output\n",
    "* Apply [TensorFlow's Dropout](https://www.tensorflow.org/api_docs/python/tf/nn/dropout) to one or more layers in the model using `keep_prob`. "
   ]
  },
  {
   "cell_type": "code",
   "execution_count": 46,
   "metadata": {},
   "execution_count": 74,
   "metadata": {
    "collapsed": false,
    "deletable": true,
    "editable": true
   },
   "outputs": [
    {
     "name": "stdout",
     "output_type": "stream",
     "text": [
      "Neural Network Built!\n"
     ]
    }
   ],
   "source": [
    "def conv_net(x, keep_prob):\n",
    "    \"\"\"\n",
    "    Create a convolutional neural network model\n",
    "    : x: Placeholder tensor that holds image data.\n",
    "    : keep_prob: Placeholder tensor that hold dropout keep probability.\n",
    "    : return: Tensor that represents logits\n",
    "    \"\"\"\n",
    "    # Convolution and Max Pool Parameters\n",
    "    conv_num_outputs = [32, 32, 64]\n",    "    conv_num_outputs = [128, 128, 256]\n",
    "    conv_ksize = [(5, 5), (5, 5)]\n",
    "    conv_strides = [(2, 2), (2, 2)]\n",
    "    pool_ksize = [(2, 2), (2, 2)]\n",
    "    pool_strides = [(2, 2), (2, 2)]\n",
    "    conv_ksize = [(5, 5), (5, 5)]\n",
    "    conv_strides = [(2, 2), (2, 2)]\n",
    "    pool_ksize = [(5, 5), (5, 5)]\n",
    "    pool_strides = [(2, 2), (2, 2)]\n",
    "    \n",
    "    # Convolution and Max Pool Layers\n",
    "    conv1 = conv2d_maxpool(x, conv_num_outputs[0], conv_ksize[0], conv_strides[0], pool_ksize[0], pool_strides[0])\n",
    "    conv1 = tf.nn.dropout(conv1, keep_prob)\n",
    "    \n",
    "    conv2 = conv2d_maxpool(conv1, conv_num_outputs[1], conv_ksize[1], conv_strides[1], pool_ksize[1], pool_strides[1])\n",
    "    #conv2 = tf.nn.dropout(conv2, keep_prob)\n",
    "    \n",
    "    conv3 = conv2d_maxpool(conv2, conv_num_outputs[2], conv_ksize[1], conv_strides[1], pool_ksize[1], pool_strides[1])\n",
    "    conv3 = tf.nn.dropout(conv3, keep_prob)\n",    "    \n",    "    #conv3 = tf.nn.dropout(conv3, keep_prob)\n",
    "    #conv4 = conv2d_maxpool(conv3, conv_num_outputs[2], conv_ksize[1], conv_strides[1], pool_ksize[1], pool_strides[1])\n",
    "    # Apply a Flatten Layer\n",
    "    flat  = flatten(conv3)\n",
    "\n",
    "    # Fully Connected Layers\n",
    "    num_outputs = [64, 128]\n",
    "    num_outputs = [2048, 2048]\n",
    "    fc1 = fully_conn(flat, num_outputs[0])\n",
    "    fc1 = tf.nn.dropout(fc1, keep_prob)\n",
    "    \n",
    "    fc2 = fully_conn(fc1, num_outputs[1])\n",
    "    \n",
    "    #fc2 = fully_conn(fc1, num_outputs[1])\n",
    "    \n",
    "    # TODO: Apply an Output Layer\n",
    "    #    Set this to the number of classes\n",
    "    # Function Definition from Above:\n",
    "    #   output(x_tensor, num_outputs)\n",
    "    final_output = output(fc2, 10)\n",    "    final_output = output(fc1, 10)\n",
    "    \n",
    "    # TODO: return output\n",
    "    return final_output\n",
    "\n",
    "\n",
    "\"\"\"\n",
    "DON'T MODIFY ANYTHING IN THIS CELL THAT IS BELOW THIS LINE\n",
    "\"\"\"\n",
    "\n",
    "##############################\n",
    "## Build the Neural Network ##\n",
    "##############################\n",
    "\n",
    "# Remove previous weights, bias, inputs, etc..\n",
    "tf.reset_default_graph()\n",
    "\n",
    "# Inputs\n",
    "x = neural_net_image_input((32, 32, 3))\n",
    "y = neural_net_label_input(10)\n",
    "keep_prob = neural_net_keep_prob_input()\n",
    "\n",
    "# Model\n",
    "logits = conv_net(x, keep_prob)\n",
    "\n",
    "# Name logits Tensor, so that is can be loaded from disk after training\n",
    "logits = tf.identity(logits, name='logits')\n",
    "\n",
    "# Loss and Optimizer\n",
    "cost = tf.reduce_mean(tf.nn.softmax_cross_entropy_with_logits(logits=logits, labels=y))\n",
    "optimizer = tf.train.AdamOptimizer(0.01).minimize(cost)\n",
    "\n",
    "# Accuracy\n",
    "correct_pred = tf.equal(tf.argmax(logits, 1), tf.argmax(y, 1))\n",
    "accuracy = tf.reduce_mean(tf.cast(correct_pred, tf.float32), name='accuracy')\n",
    "\n",
    "tests.test_conv_net(conv_net)"
   ]
  },
  {
   "cell_type": "markdown",
   "metadata": {},   "metadata": {
    "deletable": true,
    "editable": true
   },
   "source": [
    "## Train the Neural Network\n",
    "### Single Optimization\n",
    "Implement the function `train_neural_network` to do a single optimization.  The optimization should use `optimizer` to optimize in `session` with a `feed_dict` of the following:\n",
    "* `x` for image input\n",
    "* `y` for labels\n",
    "* `keep_prob` for keep probability for dropout\n",
    "\n",
    "This function will be called for each batch, so `tf.global_variables_initializer()` has already been called.\n",
    "\n",
    "Note: Nothing needs to be returned. This function is only optimizing the neural network."
   ]
  },
  {
   "cell_type": "code",
   "execution_count": 42,
   "metadata": {},
   "execution_count": 28,
   "metadata": {
    "collapsed": false,
    "deletable": true,
    "editable": true
   },
   "outputs": [
    {
     "name": "stdout",
     "output_type": "stream",
     "text": [
      "Tests Passed\n"
     ]
    }
   ],
   "source": [
    "def train_neural_network(session, optimizer, keep_probability, feature_batch, label_batch):\n",
    "    \"\"\"\n",
    "    Optimize the session on a batch of images and labels\n",
    "    : session: Current TensorFlow session\n",
    "    : optimizer: TensorFlow optimizer function\n",
    "    : keep_probability: keep probability\n",
    "    : feature_batch: Batch of Numpy image data\n",
    "    : label_batch: Batch of Numpy label data\n",
    "    \"\"\"\n",
    "    # TODO: Implement Function\n",
    "    session.run(optimizer, feed_dict = {x: feature_batch, y: label_batch, keep_prob: keep_probability})\n",
    "\n",
    "\"\"\"\n",
    "DON'T MODIFY ANYTHING IN THIS CELL THAT IS BELOW THIS LINE\n",
    "\"\"\"\n",
    "tests.test_train_nn(train_neural_network)"
   ]
  },
  {
   "cell_type": "markdown",
   "metadata": {},   "metadata": {
    "deletable": true,
    "editable": true
   },
   "source": [
    "### Show Stats\n",
    "Implement the function `print_stats` to print loss and validation accuracy.  Use the global variables `valid_features` and `valid_labels` to calculate validation accuracy.  Use a keep probability of `1.0` to calculate the loss and validation accuracy."
   ]
  },
  {
   "cell_type": "code",
   "execution_count": 43,
   "execution_count": 24,
   "metadata": {
    "collapsed": true    "collapsed": true,
    "deletable": true,
    "editable": true
   },
   "outputs": [],
   "source": [
    "def print_stats(session, feature_batch, label_batch, cost, accuracy):\n",
    "    \"\"\"\n",
    "    Print information about loss and validation accuracy\n",
    "    : session: Current TensorFlow session\n",
    "    : feature_batch: Batch of Numpy image data\n",
    "    : label_batch: Batch of Numpy label data\n",
    "    : cost: TensorFlow cost function\n",
    "    : accuracy: TensorFlow accuracy function\n",
    "    \"\"\"\n",
    "    # TODO: Implement Function\n",
    "    validation_accuracy = session.run(accuracy, feed_dict={x: valid_features, y: valid_labels, keep_prob: 1.0})\n",
    "    training_loss = session.run(cost, feed_dict={x: feature_batch, y: label_batch, keep_prob: 1.0})\n",
    "    print('Accuracy: {:5.3f}'.format(validation_accuracy),\n",
    "         'Cost: {:5.3f}'.format(training_loss))"
   ]
  },
  {
   "cell_type": "markdown",
   "metadata": {},   "metadata": {
    "deletable": true,
    "editable": true
   },
   "source": [
    "### Hyperparameters\n",
    "Tune the following parameters:\n",
    "* Set `epochs` to the number of iterations until the network stops learning or start overfitting\n",
    "* Set `batch_size` to the highest number that your machine has memory for.  Most people set them to common sizes of memory:\n",
    " * 64\n",
    " * 128\n",
    " * 256\n",
    " * ...\n",
    "* Set `keep_probability` to the probability of keeping a node using dropout"
   ]
  },
  {
   "cell_type": "code",
   "execution_count": 44,
   "execution_count": 75,
   "metadata": {
    "collapsed": true    "collapsed": true,
    "deletable": true,
    "editable": true
   },
   "outputs": [],
   "source": [
    "# TODO: Tune Parameters\n",
    "epochs = 20\n",
    "epochs = 150\n",
    "batch_size = 256\n",
    "keep_probability = 0.5"
    "keep_probability = 0.6"
   ]
  },
  {
   "cell_type": "markdown",
   "metadata": {},   "metadata": {
    "deletable": true,
    "editable": true
   },
   "source": [
    "### Train on a Single CIFAR-10 Batch\n",
    "Instead of training the neural network on all the CIFAR-10 batches of data, let's use a single batch. This should save time while you iterate on the model to get a better accuracy.  Once the final validation accuracy is 50% or greater, run the model on all the data in the next section."
   ]
  },
  {
   "cell_type": "code",
   "execution_count": 45,
   "metadata": {},
   "execution_count": 76,
   "metadata": {
    "collapsed": false,
    "deletable": true,
    "editable": true
   },
   "outputs": [
    {
     "name": "stdout",
     "output_type": "stream",
     "text": [
      "Checking the Training on a Single Batch...\n",
      "Epoch  1, CIFAR-10 Batch 1:  Accuracy: 0.195 Cost: 2.142\n",
      "Epoch  2, CIFAR-10 Batch 1:  Accuracy: 0.267 Cost: 2.057\n",
      "Epoch  3, CIFAR-10 Batch 1:  Accuracy: 0.283 Cost: 2.007\n",
      "Epoch  4, CIFAR-10 Batch 1:  Accuracy: 0.307 Cost: 1.910\n",
      "Epoch  5, CIFAR-10 Batch 1:  Accuracy: 0.293 Cost: 1.849\n",
      "Epoch  6, CIFAR-10 Batch 1:  Accuracy: 0.332 Cost: 1.799\n",
      "Epoch  7, CIFAR-10 Batch 1:  Accuracy: 0.321 Cost: 1.831\n",
      "Epoch  8, CIFAR-10 Batch 1:  Accuracy: 0.328 Cost: 1.855\n",
      "Epoch  9, CIFAR-10 Batch 1:  Accuracy: 0.334 Cost: 1.813\n",
      "Epoch 10, CIFAR-10 Batch 1:  Accuracy: 0.345 Cost: 1.789\n",
      "Epoch 11, CIFAR-10 Batch 1:  Accuracy: 0.331 Cost: 1.794\n",
      "Epoch 12, CIFAR-10 Batch 1:  Accuracy: 0.342 Cost: 1.748\n",
      "Epoch 13, CIFAR-10 Batch 1:  Accuracy: 0.336 Cost: 1.734\n",
      "Epoch 14, CIFAR-10 Batch 1:  Accuracy: 0.357 Cost: 1.740\n",
      "Epoch 15, CIFAR-10 Batch 1:  Accuracy: 0.350 Cost: 1.675\n",
      "Epoch 16, CIFAR-10 Batch 1:  Accuracy: 0.365 Cost: 1.723\n",
      "Epoch 17, CIFAR-10 Batch 1:  Accuracy: 0.357 Cost: 1.760\n",
      "Epoch 18, CIFAR-10 Batch 1:  Accuracy: 0.344 Cost: 1.739\n",
      "Epoch 19, CIFAR-10 Batch 1:  Accuracy: 0.323 Cost: 1.723\n",
      "Epoch 20, CIFAR-10 Batch 1:  Accuracy: 0.356 Cost: 1.758\n"
      "Epoch  1, CIFAR-10 Batch 1:  Accuracy: 0.100 Cost: 2.307\n",
      "Epoch 11, CIFAR-10 Batch 1:  Accuracy: 0.255 Cost: 2.135\n",
      "Epoch 21, CIFAR-10 Batch 1:  Accuracy: 0.355 Cost: 1.671\n",
      "Epoch 31, CIFAR-10 Batch 1:  Accuracy: 0.379 Cost: 1.476\n",
      "Epoch 41, CIFAR-10 Batch 1:  Accuracy: 0.387 Cost: 1.436\n",
      "Epoch 51, CIFAR-10 Batch 1:  Accuracy: 0.406 Cost: 1.317\n",
      "Epoch 61, CIFAR-10 Batch 1:  Accuracy: 0.386 Cost: 1.329\n",
      "Epoch 71, CIFAR-10 Batch 1:  Accuracy: 0.406 Cost: 1.242\n",
      "Epoch 81, CIFAR-10 Batch 1:  Accuracy: 0.420 Cost: 1.107\n",
      "Epoch 91, CIFAR-10 Batch 1:  Accuracy: 0.432 Cost: 1.063\n",
      "Epoch 97, CIFAR-10 Batch 1:  Accuracy: 0.430 Cost: 1.059\n",
      "Epoch 98, CIFAR-10 Batch 1:  Accuracy: 0.440 Cost: 1.027\n",
      "Epoch 99, CIFAR-10 Batch 1:  Accuracy: 0.428 Cost: 1.055\n",
      "Epoch 100, CIFAR-10 Batch 1:  Accuracy: 0.448 Cost: 0.984\n",
      "Epoch 101, CIFAR-10 Batch 1:  Accuracy: 0.445 Cost: 0.965\n",
      "Epoch 102, CIFAR-10 Batch 1:  Accuracy: 0.428 Cost: 1.128\n",
      "Epoch 103, CIFAR-10 Batch 1:  Accuracy: 0.434 Cost: 1.041\n",
      "Epoch 104, CIFAR-10 Batch 1:  Accuracy: 0.422 Cost: 1.031\n",
      "Epoch 105, CIFAR-10 Batch 1:  Accuracy: 0.435 Cost: 1.027\n",
      "Epoch 106, CIFAR-10 Batch 1:  Accuracy: 0.424 Cost: 1.080\n",
      "Epoch 107, CIFAR-10 Batch 1:  Accuracy: 0.444 Cost: 0.973\n",
      "Epoch 108, CIFAR-10 Batch 1:  Accuracy: 0.442 Cost: 0.934\n",
      "Epoch 109, CIFAR-10 Batch 1:  Accuracy: 0.444 Cost: 1.004\n",
      "Epoch 110, CIFAR-10 Batch 1:  Accuracy: 0.440 Cost: 0.942\n",
      "Epoch 111, CIFAR-10 Batch 1:  Accuracy: 0.437 Cost: 0.950\n",
      "Epoch 112, CIFAR-10 Batch 1:  Accuracy: 0.446 Cost: 1.096\n",
      "Epoch 113, CIFAR-10 Batch 1:  Accuracy: 0.428 Cost: 0.971\n",
      "Epoch 114, CIFAR-10 Batch 1:  Accuracy: 0.458 Cost: 0.924\n",
      "Epoch 115, CIFAR-10 Batch 1:  Accuracy: 0.459 Cost: 1.074\n",
      "Epoch 116, CIFAR-10 Batch 1:  Accuracy: 0.464 Cost: 0.950\n",
      "Epoch 117, CIFAR-10 Batch 1:  Accuracy: 0.449 Cost: 0.910\n",
      "Epoch 118, CIFAR-10 Batch 1:  Accuracy: 0.458 Cost: 0.928\n",
      "Epoch 119, CIFAR-10 Batch 1:  Accuracy: 0.426 Cost: 0.935\n",
      "Epoch 120, CIFAR-10 Batch 1:  Accuracy: 0.440 Cost: 0.929\n",
      "Epoch 121, CIFAR-10 Batch 1:  Accuracy: 0.452 Cost: 0.867\n",
      "Epoch 122, CIFAR-10 Batch 1:  Accuracy: 0.423 Cost: 0.931\n",
      "Epoch 123, CIFAR-10 Batch 1:  Accuracy: 0.439 Cost: 0.872\n",
      "Epoch 124, CIFAR-10 Batch 1:  Accuracy: 0.430 Cost: 0.901\n",
      "Epoch 125, CIFAR-10 Batch 1:  Accuracy: 0.442 Cost: 0.949\n",
      "Epoch 126, CIFAR-10 Batch 1:  Accuracy: 0.461 Cost: 0.837\n",
      "Epoch 127, CIFAR-10 Batch 1:  Accuracy: 0.453 Cost: 0.970\n",
      "Epoch 128, CIFAR-10 Batch 1:  Accuracy: 0.425 Cost: 0.880\n",
      "Epoch 129, CIFAR-10 Batch 1:  Accuracy: 0.427 Cost: 0.953\n",
      "Epoch 130, CIFAR-10 Batch 1:  Accuracy: 0.447 Cost: 0.881\n",
      "Epoch 131, CIFAR-10 Batch 1:  Accuracy: 0.459 Cost: 0.806\n",
      "Epoch 132, CIFAR-10 Batch 1:  Accuracy: 0.430 Cost: 0.826\n",
      "Epoch 133, CIFAR-10 Batch 1:  Accuracy: 0.466 Cost: 0.757\n",
      "Epoch 134, CIFAR-10 Batch 1:  Accuracy: 0.443 Cost: 0.778\n",
      "Epoch 135, CIFAR-10 Batch 1:  Accuracy: 0.458 Cost: 0.770\n",
      "Epoch 136, CIFAR-10 Batch 1:  Accuracy: 0.434 Cost: 0.888\n",
      "Epoch 137, CIFAR-10 Batch 1:  Accuracy: 0.446 Cost: 0.830\n",
      "Epoch 138, CIFAR-10 Batch 1:  Accuracy: 0.456 Cost: 0.831\n",
      "Epoch 139, CIFAR-10 Batch 1:  Accuracy: 0.462 Cost: 0.736\n",
      "Epoch 140, CIFAR-10 Batch 1:  Accuracy: 0.456 Cost: 0.820\n",
      "Epoch 141, CIFAR-10 Batch 1:  Accuracy: 0.443 Cost: 0.915\n",
      "Epoch 142, CIFAR-10 Batch 1:  Accuracy: 0.464 Cost: 0.765\n",
      "Epoch 143, CIFAR-10 Batch 1:  Accuracy: 0.446 Cost: 0.795\n",
      "Epoch 144, CIFAR-10 Batch 1:  Accuracy: 0.451 Cost: 0.842\n",
      "Epoch 145, CIFAR-10 Batch 1:  Accuracy: 0.461 Cost: 0.742\n",
      "Epoch 146, CIFAR-10 Batch 1:  Accuracy: 0.454 Cost: 0.760\n",
      "Epoch 147, CIFAR-10 Batch 1:  Accuracy: 0.439 Cost: 0.816\n",
      "Epoch 148, CIFAR-10 Batch 1:  Accuracy: 0.448 Cost: 0.876\n",
      "Epoch 149, CIFAR-10 Batch 1:  Accuracy: 0.449 Cost: 0.791\n",
      "Epoch 150, CIFAR-10 Batch 1:  Accuracy: 0.459 Cost: 0.738\n"
     ]
    }
   ],
   "source": [
    "\"\"\"\n",
    "DON'T MODIFY ANYTHING IN THIS CELL\n",
    "\"\"\"\n",
    "print('Checking the Training on a Single Batch...')\n",
    "with tf.Session() as sess:\n",
    "    # Initializing the variables\n",
    "    sess.run(tf.global_variables_initializer())\n",
    "    \n",
    "    # Training cycle\n",
    "    for epoch in range(epochs):\n",
    "        batch_i = 1\n",
    "        for batch_features, batch_labels in helper.load_preprocess_training_batch(batch_i, batch_size):\n",
    "            train_neural_network(sess, optimizer, keep_probability, batch_features, batch_labels)\n",
    "        print('Epoch {:>2}, CIFAR-10 Batch {}:  '.format(epoch + 1, batch_i), end='')\n",    "        print_stats(sess, batch_features, batch_labels, cost, accuracy)"    "        if not epoch % 10 or epoch>95:\n",
    "            print('Epoch {:>2}, CIFAR-10 Batch {}:  '.format(epoch + 1, batch_i), end='')\n",
    "            print_stats(sess, batch_features, batch_labels, cost, accuracy)"
   ]
  },
  {
   "cell_type": "markdown",
   "metadata": {},   "metadata": {
    "deletable": true,
    "editable": true
   },
   "source": [
    "### Fully Train the Model\n",
    "Now that you got a good accuracy with a single CIFAR-10 batch, try it with all five batches."
   ]
  },
  {
   "cell_type": "code",
   "execution_count": 17,
   "metadata": {},   "metadata": {
    "collapsed": false,
    "deletable": true,
    "editable": true
   },
   "outputs": [
    {
     "name": "stdout",
     "output_type": "stream",
     "text": [
      "Training...\n",
      "Epoch  1, CIFAR-10 Batch 1:  Accuracy: 0.175 Cost: 2.035\n",
      "Epoch  1, CIFAR-10 Batch 2:  Accuracy: 0.350 Cost: 1.870\n",
      "Epoch  1, CIFAR-10 Batch 3:  Accuracy: 0.475 Cost: 1.790\n",
      "Epoch  1, CIFAR-10 Batch 4:  Accuracy: 0.450 Cost: 1.732\n",
      "Epoch  1, CIFAR-10 Batch 5:  Accuracy: 0.400 Cost: 1.646\n",
      "Epoch  2, CIFAR-10 Batch 1:  Accuracy: 0.425 Cost: 1.658\n",
      "Epoch  2, CIFAR-10 Batch 2:  Accuracy: 0.475 Cost: 1.573\n",
      "Epoch  2, CIFAR-10 Batch 3:  Accuracy: 0.475 Cost: 1.625\n",
      "Epoch  2, CIFAR-10 Batch 4:  Accuracy: 0.500 Cost: 1.549\n",
      "Epoch  2, CIFAR-10 Batch 5:  Accuracy: 0.500 Cost: 1.533\n",
      "Epoch  3, CIFAR-10 Batch 1:  Accuracy: 0.400 Cost: 1.568\n",
      "Epoch  3, CIFAR-10 Batch 2:  Accuracy: 0.425 Cost: 1.519\n",
      "Epoch  3, CIFAR-10 Batch 3:  Accuracy: 0.575 Cost: 1.572\n",
      "Epoch  3, CIFAR-10 Batch 4:  Accuracy: 0.450 Cost: 1.474\n",
      "Epoch  3, CIFAR-10 Batch 5:  Accuracy: 0.500 Cost: 1.463\n",
      "Epoch  4, CIFAR-10 Batch 1:  Accuracy: 0.450 Cost: 1.465\n",
      "Epoch  4, CIFAR-10 Batch 2:  Accuracy: 0.525 Cost: 1.479\n",
      "Epoch  4, CIFAR-10 Batch 3:  Accuracy: 0.625 Cost: 1.487\n",
      "Epoch  4, CIFAR-10 Batch 4:  Accuracy: 0.550 Cost: 1.475\n",
      "Epoch  4, CIFAR-10 Batch 5:  Accuracy: 0.450 Cost: 1.430\n",
      "Epoch  5, CIFAR-10 Batch 1:  Accuracy: 0.550 Cost: 1.429\n",
      "Epoch  5, CIFAR-10 Batch 2:  Accuracy: 0.500 Cost: 1.439\n",
      "Epoch  5, CIFAR-10 Batch 3:  Accuracy: 0.650 Cost: 1.457\n",
      "Epoch  5, CIFAR-10 Batch 4:  Accuracy: 0.525 Cost: 1.410\n",
      "Epoch  5, CIFAR-10 Batch 5:  Accuracy: 0.500 Cost: 1.412\n",
      "Epoch  6, CIFAR-10 Batch 1:  Accuracy: 0.425 Cost: 1.419\n",
      "Epoch  6, CIFAR-10 Batch 2:  Accuracy: 0.575 Cost: 1.429\n",
      "Epoch  6, CIFAR-10 Batch 3:  Accuracy: 0.650 Cost: 1.400\n",
      "Epoch  6, CIFAR-10 Batch 4:  Accuracy: 0.575 Cost: 1.379\n",
      "Epoch  6, CIFAR-10 Batch 5:  Accuracy: 0.625 Cost: 1.384\n",
      "Epoch  7, CIFAR-10 Batch 1:  Accuracy: 0.525 Cost: 1.391\n",
      "Epoch  7, CIFAR-10 Batch 2:  Accuracy: 0.650 Cost: 1.459\n",
      "Epoch  7, CIFAR-10 Batch 3:  Accuracy: 0.650 Cost: 1.388\n",
      "Epoch  7, CIFAR-10 Batch 4:  Accuracy: 0.500 Cost: 1.398\n",
      "Epoch  7, CIFAR-10 Batch 5:  Accuracy: 0.550 Cost: 1.379\n",
      "Epoch  8, CIFAR-10 Batch 1:  Accuracy: 0.550 Cost: 1.356\n",
      "Epoch  8, CIFAR-10 Batch 2:  Accuracy: 0.575 Cost: 1.404\n",
      "Epoch  8, CIFAR-10 Batch 3:  Accuracy: 0.725 Cost: 1.365\n",
      "Epoch  8, CIFAR-10 Batch 4:  Accuracy: 0.600 Cost: 1.354\n",
      "Epoch  8, CIFAR-10 Batch 5:  Accuracy: 0.525 Cost: 1.472\n",
      "Epoch  9, CIFAR-10 Batch 1:  Accuracy: 0.600 Cost: 1.379\n",
      "Epoch  9, CIFAR-10 Batch 2:  Accuracy: 0.575 Cost: 1.346\n",
      "Epoch  9, CIFAR-10 Batch 3:  Accuracy: 0.800 Cost: 1.339\n",
      "Epoch  9, CIFAR-10 Batch 4:  Accuracy: 0.650 Cost: 1.384\n",
      "Epoch  9, CIFAR-10 Batch 5:  Accuracy: 0.650 Cost: 1.411\n",
      "Epoch 10, CIFAR-10 Batch 1:  Accuracy: 0.625 Cost: 1.345\n",
      "Epoch 10, CIFAR-10 Batch 2:  Accuracy: 0.700 Cost: 1.351\n",
      "Epoch 10, CIFAR-10 Batch 3:  Accuracy: 0.750 Cost: 1.333\n",
      "Epoch 10, CIFAR-10 Batch 4:  Accuracy: 0.600 Cost: 1.335\n",
      "Epoch 10, CIFAR-10 Batch 5:  Accuracy: 0.700 Cost: 1.334\n",
      "Epoch 11, CIFAR-10 Batch 1:  Accuracy: 0.625 Cost: 1.330\n",
      "Epoch 11, CIFAR-10 Batch 2:  Accuracy: 0.550 Cost: 1.331\n",
      "Epoch 11, CIFAR-10 Batch 3:  Accuracy: 0.700 Cost: 1.315\n",
      "Epoch 11, CIFAR-10 Batch 4:  Accuracy: 0.600 Cost: 1.318\n",
      "Epoch 11, CIFAR-10 Batch 5:  Accuracy: 0.750 Cost: 1.320\n",
      "Epoch 12, CIFAR-10 Batch 1:  Accuracy: 0.625 Cost: 1.354\n",
      "Epoch 12, CIFAR-10 Batch 2:  Accuracy: 0.750 Cost: 1.331\n",
      "Epoch 12, CIFAR-10 Batch 3:  Accuracy: 0.650 Cost: 1.324\n",
      "Epoch 12, CIFAR-10 Batch 4:  Accuracy: 0.650 Cost: 1.362\n",
      "Epoch 12, CIFAR-10 Batch 5:  Accuracy: 0.700 Cost: 1.313\n",
      "Epoch 13, CIFAR-10 Batch 1:  Accuracy: 0.700 Cost: 1.328\n",
      "Epoch 13, CIFAR-10 Batch 2:  Accuracy: 0.600 Cost: 1.328\n",
      "Epoch 13, CIFAR-10 Batch 3:  Accuracy: 0.800 Cost: 1.327\n",
      "Epoch 13, CIFAR-10 Batch 4:  Accuracy: 0.625 Cost: 1.298\n",
      "Epoch 13, CIFAR-10 Batch 5:  Accuracy: 0.675 Cost: 1.322\n",
      "Epoch 14, CIFAR-10 Batch 1:  Accuracy: 0.700 Cost: 1.307\n",
      "Epoch 14, CIFAR-10 Batch 2:  Accuracy: 0.625 Cost: 1.297\n",
      "Epoch 14, CIFAR-10 Batch 3:  Accuracy: 0.775 Cost: 1.300\n",
      "Epoch 14, CIFAR-10 Batch 4:  Accuracy: 0.625 Cost: 1.327\n",
      "Epoch 14, CIFAR-10 Batch 5:  Accuracy: 0.800 Cost: 1.325\n",
      "Epoch 15, CIFAR-10 Batch 1:  Accuracy: 0.700 Cost: 1.317\n",
      "Epoch 15, CIFAR-10 Batch 2:  Accuracy: 0.700 Cost: 1.324\n",
      "Epoch 15, CIFAR-10 Batch 3:  Accuracy: 0.775 Cost: 1.288\n",
      "Epoch 15, CIFAR-10 Batch 4:  Accuracy: 0.675 Cost: 1.299\n",
      "Epoch 15, CIFAR-10 Batch 5:  Accuracy: 0.750 Cost: 1.356\n",
      "Epoch 16, CIFAR-10 Batch 1:  Accuracy: 0.700 Cost: 1.285\n",
      "Epoch 16, CIFAR-10 Batch 2:  Accuracy: 0.775 Cost: 1.306\n",
      "Epoch 16, CIFAR-10 Batch 3:  Accuracy: 0.750 Cost: 1.331\n",
      "Epoch 16, CIFAR-10 Batch 4:  Accuracy: 0.600 Cost: 1.298\n",
      "Epoch 16, CIFAR-10 Batch 5:  Accuracy: 0.700 Cost: 1.275\n",
      "Epoch 17, CIFAR-10 Batch 1:  Accuracy: 0.700 Cost: 1.278\n",
      "Epoch 17, CIFAR-10 Batch 2:  Accuracy: 0.675 Cost: 1.309\n",
      "Epoch 17, CIFAR-10 Batch 3:  Accuracy: 0.725 Cost: 1.266\n",
      "Epoch 17, CIFAR-10 Batch 4:  Accuracy: 0.725 Cost: 1.265\n",
      "Epoch 17, CIFAR-10 Batch 5:  Accuracy: 0.750 Cost: 1.284\n",
      "Epoch 18, CIFAR-10 Batch 1:  Accuracy: 0.675 Cost: 1.301\n",
      "Epoch 18, CIFAR-10 Batch 2:  Accuracy: 0.650 Cost: 1.277\n",
      "Epoch 18, CIFAR-10 Batch 3:  Accuracy: 0.700 Cost: 1.263\n",
      "Epoch 18, CIFAR-10 Batch 4:  Accuracy: 0.775 Cost: 1.259\n",
      "Epoch 18, CIFAR-10 Batch 5:  Accuracy: 0.725 Cost: 1.349\n",
      "Epoch 19, CIFAR-10 Batch 1:  Accuracy: 0.750 Cost: 1.268\n",
      "Epoch 19, CIFAR-10 Batch 2:  Accuracy: 0.700 Cost: 1.327\n",
      "Epoch 19, CIFAR-10 Batch 3:  Accuracy: 0.775 Cost: 1.278\n",
      "Epoch 19, CIFAR-10 Batch 4:  Accuracy: 0.675 Cost: 1.271\n",
      "Epoch 19, CIFAR-10 Batch 5:  Accuracy: 0.775 Cost: 1.267\n",
      "Epoch 20, CIFAR-10 Batch 1:  Accuracy: 0.700 Cost: 1.299\n",
      "Epoch 20, CIFAR-10 Batch 2:  Accuracy: 0.675 Cost: 1.287\n",
      "Epoch 20, CIFAR-10 Batch 3:  Accuracy: 0.775 Cost: 1.257\n",
      "Epoch 20, CIFAR-10 Batch 4:  Accuracy: 0.650 Cost: 1.288\n",
      "Epoch 20, CIFAR-10 Batch 5:  Accuracy: 0.775 Cost: 1.276\n"
     ]
    }
   ],
   "source": [
    "\"\"\"\n",
    "DON'T MODIFY ANYTHING IN THIS CELL\n",
    "\"\"\"\n",
    "save_model_path = './image_classification'\n",
    "\n",
    "print('Training...')\n",
    "with tf.Session() as sess:\n",
    "    # Initializing the variables\n",
    "    sess.run(tf.global_variables_initializer())\n",
    "    \n",
    "    # Training cycle\n",
    "    for epoch in range(epochs):\n",
    "        # Loop over all batches\n",
    "        n_batches = 5\n",
    "        for batch_i in range(1, n_batches + 1):\n",
    "            for batch_features, batch_labels in helper.load_preprocess_training_batch(batch_i, batch_size):\n",
    "                train_neural_network(sess, optimizer, keep_probability, batch_features, batch_labels)\n",
    "            print('Epoch {:>2}, CIFAR-10 Batch {}:  '.format(epoch + 1, batch_i), end='')\n",
    "            print_stats(sess, batch_features, batch_labels, cost, accuracy)\n",
    "            \n",
    "    # Save Model\n",
    "    saver = tf.train.Saver()\n",
    "    save_path = saver.save(sess, save_model_path)"
   ]
  },
  {
   "cell_type": "markdown",
   "metadata": {},   "metadata": {
    "deletable": true,
    "editable": true
   },
   "source": [
    "# Checkpoint\n",
    "The model has been saved to disk.\n",
    "## Test Model\n",
    "Test your model against the test dataset.  This will be your final accuracy. You should have an accuracy greater than 50%. If you don't, keep tweaking the model architecture and parameters."
   ]
  },
  {
   "cell_type": "code",
   "execution_count": 18,
   "metadata": {},   "metadata": {
    "collapsed": false,
    "deletable": true,
    "editable": true
   },
   "outputs": [
    {
     "name": "stdout",
     "output_type": "stream",
     "text": [
      "Testing Accuracy: 0.5505859375\n",
      "\n"
     ]
    },
    {
     "data": {
      "image/png": "iVBORw0KGgoAAAANSUhEUgAAAscAAAJ/CAYAAACUb342AAAABHNCSVQICAgIfAhkiAAAAAlwSFlz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\nERERkej/A1c7DGSSfeDCAAAAAElFTkSuQmCC\n",
      "text/plain": [
       "<matplotlib.figure.Figure at 0x1073aa646a0>"
      ]
     },
     "metadata": {
      "image/png": {
       "height": 319,
       "width": 355
      }
     },
     "output_type": "display_data"
    }
   ],
   "source": [
    "\"\"\"\n",
    "DON'T MODIFY ANYTHING IN THIS CELL\n",
    "\"\"\"\n",
    "%matplotlib inline\n",
    "%config InlineBackend.figure_format = 'retina'\n",
    "\n",
    "import tensorflow as tf\n",
    "import pickle\n",
    "import helper\n",
    "import random\n",
    "\n",
    "# Set batch size if not already set\n",
    "try:\n",
    "    if batch_size:\n",
    "        pass\n",
    "except NameError:\n",
    "    batch_size = 64\n",
    "\n",
    "save_model_path = './image_classification'\n",
    "n_samples = 4\n",
    "top_n_predictions = 3\n",
    "\n",
    "def test_model():\n",
    "    \"\"\"\n",
    "    Test the saved model against the test dataset\n",
    "    \"\"\"\n",
    "\n",
    "    test_features, test_labels = pickle.load(open('preprocess_test.p', mode='rb'))\n",
    "    loaded_graph = tf.Graph()\n",
    "\n",
    "    with tf.Session(graph=loaded_graph) as sess:\n",
    "        # Load model\n",
    "        loader = tf.train.import_meta_graph(save_model_path + '.meta')\n",
    "        loader.restore(sess, save_model_path)\n",
    "\n",
    "        # Get Tensors from loaded model\n",
    "        loaded_x = loaded_graph.get_tensor_by_name('x:0')\n",
    "        loaded_y = loaded_graph.get_tensor_by_name('y:0')\n",
    "        loaded_keep_prob = loaded_graph.get_tensor_by_name('keep_prob:0')\n",
    "        loaded_logits = loaded_graph.get_tensor_by_name('logits:0')\n",
    "        loaded_acc = loaded_graph.get_tensor_by_name('accuracy:0')\n",
    "        \n",
    "        # Get accuracy in batches for memory limitations\n",
    "        test_batch_acc_total = 0\n",
    "        test_batch_count = 0\n",
    "        \n",
    "        for test_feature_batch, test_label_batch in helper.batch_features_labels(test_features, test_labels, batch_size):\n",
    "            test_batch_acc_total += sess.run(\n",
    "                loaded_acc,\n",
    "                feed_dict={loaded_x: test_feature_batch, loaded_y: test_label_batch, loaded_keep_prob: 1.0})\n",
    "            test_batch_count += 1\n",
    "\n",
    "        print('Testing Accuracy: {}\\n'.format(test_batch_acc_total/test_batch_count))\n",
    "\n",
    "        # Print Random Samples\n",
    "        random_test_features, random_test_labels = tuple(zip(*random.sample(list(zip(test_features, test_labels)), n_samples)))\n",
    "        random_test_predictions = sess.run(\n",
    "            tf.nn.top_k(tf.nn.softmax(loaded_logits), top_n_predictions),\n",
    "            feed_dict={loaded_x: random_test_features, loaded_y: random_test_labels, loaded_keep_prob: 1.0})\n",
    "        helper.display_image_predictions(random_test_features, random_test_labels, random_test_predictions)\n",
    "\n",
    "\n",
    "test_model()"
   ]
  },
  {
   "cell_type": "markdown",
   "metadata": {},   "metadata": {
    "deletable": true,
    "editable": true
   },
   "source": [
    "## Why 50-80% Accuracy?\n",
    "You might be wondering why you can't get an accuracy any higher. First things first, 50% isn't bad for a simple CNN.  Pure guessing would get you 10% accuracy. However, you might notice people are getting scores [well above 80%](http://rodrigob.github.io/are_we_there_yet/build/classification_datasets_results.html#43494641522d3130).  That's because we haven't taught you all there is to know about neural networks. We still need to cover a few more techniques.\n",
    "## Submitting This Project\n",
    "When submitting this project, make sure to run all the cells before saving the notebook.  Save the notebook file as \"dlnd_image_classification.ipynb\" and save it as a HTML file under \"File\" -> \"Download as\".  Include the \"helper.py\" and \"problem_unittests.py\" files in your submission."
   ]
  }
 ],
 "metadata": {
  "anaconda-cloud": {},
  "kernelspec": {
   "display_name": "Python 3",
   "language": "python",
   "name": "python3"
  },
  "language_info": {
   "codemirror_mode": {
    "name": "ipython",
    "version": 3
   },
   "file_extension": ".py",
   "mimetype": "text/x-python",
   "name": "python",
   "nbconvert_exporter": "python",
   "pygments_lexer": "ipython3",
   "version": "3.5.3"   "version": "3.5.2"
  },
  "widgets": {
   "state": {},
   "version": "1.1.2"
  }
 },
 "nbformat": 4,
 "nbformat_minor": 1
}
